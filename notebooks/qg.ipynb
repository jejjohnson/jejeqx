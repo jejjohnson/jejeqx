{
 "cells": [
  {
   "cell_type": "markdown",
   "id": "c2d4c64e-7af1-4eef-8050-04a2063eacc5",
   "metadata": {
    "tags": []
   },
   "source": [
    "# Differentiable Physics Model: QG Equations\n"
   ]
  },
  {
   "cell_type": "code",
   "execution_count": null,
   "id": "bb0a4b8f-6d19-4cd3-bc48-cf04bb4a9e89",
   "metadata": {
    "pycharm": {
     "is_executing": true
    }
   },
   "outputs": [],
   "source": [
    "import sys, os\n",
    "from pyprojroot import here\n",
    "\n",
    "# spyder up to find the root\n",
    "root = here(project_files=[\".home\"])\n",
    "\n",
    "# append to path\n",
    "sys.path.append(str(root))"
   ]
  },
  {
   "cell_type": "code",
   "execution_count": null,
   "id": "3491a1c9-e5cd-4005-bb11-b7154b9ad9f3",
   "metadata": {
    "pycharm": {
     "is_executing": true
    }
   },
   "outputs": [],
   "source": [
    "import pytreeclass as pytc\n",
    "import jax.numpy as jnp\n",
    "import jax\n",
    "from jax.experimental.ode import odeint\n",
    "\n",
    "import numpy as np\n",
    "import matplotlib.pyplot as plt\n",
    "import seaborn as sns\n",
    "import wandb\n",
    "\n",
    "from lib._src.dynamical.base import DynamicalSystem\n",
    "from lib._src.dynamical.qg import Qgm\n",
    "\n",
    "sns.reset_defaults()\n",
    "sns.set_context(context=\"talk\", font_scale=0.7)\n",
    "\n",
    "%load_ext autoreload\n",
    "%autoreload 2"
   ]
  },
  {
   "cell_type": "markdown",
   "id": "d3074aca-4d9a-44da-931a-5bc9cb7a235b",
   "metadata": {},
   "source": [
    "## Dynamical System\n",
    "\n",
    "* Equation of Motion\n",
    "* Observation Operator\n",
    "* Integrate"
   ]
  },
  {
   "cell_type": "markdown",
   "id": "21ac66ed-4f04-40cd-acd7-e219dcc51d1a",
   "metadata": {},
   "source": [
    "### Equation of Motion\n",
    "\n",
    "$$\n",
    "\\frac{dx}{dt} = (x_{i+1} - x_{i-2})x_{i-1}-x_i+F\n",
    "$$\n",
    "\n",
    "where $F$ is normally 8 to cause some chaotic behaviour."
   ]
  },
  {
   "cell_type": "code",
   "execution_count": 8,
   "id": "8f49913e-f298-466e-a3c3-aa234bd7a897",
   "metadata": {},
   "outputs": [
    {
     "name": "stdout",
     "output_type": "stream",
     "text": [
      "Tangent test:\n"
     ]
    },
    {
     "ename": "TypeError",
     "evalue": "step_tgl() missing 1 required positional argument: 'hb'",
     "output_type": "error",
     "traceback": [
      "\u001B[0;31m---------------------------------------------------------------------------\u001B[0m",
      "\u001B[0;31mTypeError\u001B[0m                                 Traceback (most recent call last)",
      "Input \u001B[0;32mIn [8]\u001B[0m, in \u001B[0;36m<cell line: 26>\u001B[0;34m()\u001B[0m\n\u001B[1;32m     28\u001B[0m lambd \u001B[38;5;241m=\u001B[39m \u001B[38;5;241m10\u001B[39m\u001B[38;5;241m*\u001B[39m\u001B[38;5;241m*\u001B[39m(\u001B[38;5;241m-\u001B[39mp)\n\u001B[1;32m     30\u001B[0m SSH1 \u001B[38;5;241m=\u001B[39m qgm\u001B[38;5;241m.\u001B[39mstep_jit(SSH0\u001B[38;5;241m+\u001B[39mlambd\u001B[38;5;241m*\u001B[39mdSSH, dSSH)\n\u001B[0;32m---> 32\u001B[0m dSSH1 \u001B[38;5;241m=\u001B[39m \u001B[43mqgm\u001B[49m\u001B[38;5;241;43m.\u001B[39;49m\u001B[43mstep_tgl_jit\u001B[49m\u001B[43m(\u001B[49m\u001B[43mdh0\u001B[49m\u001B[38;5;241;43m=\u001B[39;49m\u001B[43mlambd\u001B[49m\u001B[38;5;241;43m*\u001B[39;49m\u001B[43mdSSH\u001B[49m\u001B[43m,\u001B[49m\u001B[43mh0\u001B[49m\u001B[38;5;241;43m=\u001B[39;49m\u001B[43mSSH0\u001B[49m\u001B[43m)\u001B[49m\n\u001B[1;32m     34\u001B[0m mask \u001B[38;5;241m=\u001B[39m jnp\u001B[38;5;241m.\u001B[39misnan(SSH1\u001B[38;5;241m-\u001B[39mSSH2\u001B[38;5;241m-\u001B[39mdSSH1)\n\u001B[1;32m     35\u001B[0m ps \u001B[38;5;241m=\u001B[39m jnp\u001B[38;5;241m.\u001B[39mlinalg\u001B[38;5;241m.\u001B[39mnorm((SSH1\u001B[38;5;241m-\u001B[39mSSH2\u001B[38;5;241m-\u001B[39mdSSH1)[\u001B[38;5;241m~\u001B[39mmask]\u001B[38;5;241m.\u001B[39mflatten())\u001B[38;5;241m/\u001B[39mjnp\u001B[38;5;241m.\u001B[39mlinalg\u001B[38;5;241m.\u001B[39mnorm(dSSH1[\u001B[38;5;241m~\u001B[39mmask])\n",
      "    \u001B[0;31m[... skipping hidden 11 frame]\u001B[0m\n",
      "File \u001B[0;32m~/miniconda3/envs/jax_eo_py39/lib/python3.9/site-packages/jax/linear_util.py:167\u001B[0m, in \u001B[0;36mWrappedFun.call_wrapped\u001B[0;34m(self, *args, **kwargs)\u001B[0m\n\u001B[1;32m    164\u001B[0m gen \u001B[38;5;241m=\u001B[39m gen_static_args \u001B[38;5;241m=\u001B[39m out_store \u001B[38;5;241m=\u001B[39m \u001B[38;5;28;01mNone\u001B[39;00m\n\u001B[1;32m    166\u001B[0m \u001B[38;5;28;01mtry\u001B[39;00m:\n\u001B[0;32m--> 167\u001B[0m   ans \u001B[38;5;241m=\u001B[39m \u001B[38;5;28;43mself\u001B[39;49m\u001B[38;5;241;43m.\u001B[39;49m\u001B[43mf\u001B[49m\u001B[43m(\u001B[49m\u001B[38;5;241;43m*\u001B[39;49m\u001B[43margs\u001B[49m\u001B[43m,\u001B[49m\u001B[43m \u001B[49m\u001B[38;5;241;43m*\u001B[39;49m\u001B[38;5;241;43m*\u001B[39;49m\u001B[38;5;28;43mdict\u001B[39;49m\u001B[43m(\u001B[49m\u001B[38;5;28;43mself\u001B[39;49m\u001B[38;5;241;43m.\u001B[39;49m\u001B[43mparams\u001B[49m\u001B[43m,\u001B[49m\u001B[43m \u001B[49m\u001B[38;5;241;43m*\u001B[39;49m\u001B[38;5;241;43m*\u001B[39;49m\u001B[43mkwargs\u001B[49m\u001B[43m)\u001B[49m\u001B[43m)\u001B[49m\n\u001B[1;32m    168\u001B[0m \u001B[38;5;28;01mexcept\u001B[39;00m:\n\u001B[1;32m    169\u001B[0m   \u001B[38;5;66;03m# Some transformations yield from inside context managers, so we have to\u001B[39;00m\n\u001B[1;32m    170\u001B[0m   \u001B[38;5;66;03m# interrupt them before reraising the exception. Otherwise they will only\u001B[39;00m\n\u001B[1;32m    171\u001B[0m   \u001B[38;5;66;03m# get garbage-collected at some later time, running their cleanup tasks\u001B[39;00m\n\u001B[1;32m    172\u001B[0m   \u001B[38;5;66;03m# only after this exception is handled, which can corrupt the global\u001B[39;00m\n\u001B[1;32m    173\u001B[0m   \u001B[38;5;66;03m# state.\u001B[39;00m\n\u001B[1;32m    174\u001B[0m   \u001B[38;5;28;01mwhile\u001B[39;00m stack:\n",
      "\u001B[0;31mTypeError\u001B[0m: step_tgl() missing 1 required positional argument: 'hb'"
     ]
    }
   ],
   "source": [
    "ny,nx = 10,10\n",
    "dx = 10e3 * jnp.ones((ny,nx))\n",
    "dy = 12e3 * jnp.ones((ny,nx))\n",
    "dt = 300\n",
    "\n",
    "SSH0 = np.random.random((ny,nx))#random.uniform(key,shape=(ny,nx))    \n",
    "MDT = np.random.random((ny,nx))\n",
    "c = 2.5\n",
    "\n",
    "qgm = Qgm(dx=dx,dy=dy,dt=dt,c=c,SSH=SSH0,qgiter=1,\n",
    "          mdt=None #MDT\n",
    "         )\n",
    "\n",
    "# Current trajectory\n",
    "SSH0 = jnp.array(1e-2*np.random.random((ny,nx)))\n",
    "\n",
    "# Perturbation\n",
    "dSSH = jnp.array(1e-2*np.random.random((ny,nx)))\n",
    "\n",
    "# Adjoint\n",
    "adSSH0 = jnp.array(1e-2*np.random.random((ny,nx)))\n",
    "\n",
    "# Tangent test        \n",
    "SSH2 = qgm.step_jit(SSH0, dSSH)\n",
    "print('Tangent test:')\n",
    "for p in range(10):\n",
    "\n",
    "    lambd = 10**(-p)\n",
    "\n",
    "    SSH1 = qgm.step_jit(SSH0+lambd*dSSH, dSSH)\n",
    "\n",
    "    dSSH1 = qgm.step_tgl_jit(dh0=lambd*dSSH,h0=SSH0)\n",
    "\n",
    "    mask = jnp.isnan(SSH1-SSH2-dSSH1)\n",
    "    ps = jnp.linalg.norm((SSH1-SSH2-dSSH1)[~mask].flatten())/jnp.linalg.norm(dSSH1[~mask])\n",
    "\n",
    "    print('%.E' % lambd,'%.E' % ps)\n",
    "\n",
    "# Adjoint test\n",
    "dSSH1 = qgm.step_tgl_jit(dh0=dSSH,h0=SSH0)\n",
    "adSSH1 = qgm.step_adj_jit(adSSH0,SSH0)\n",
    "mask = jnp.isnan(dSSH1+adSSH1+SSH0+dSSH)\n",
    "\n",
    "ps1 = jnp.inner(dSSH1[~mask].flatten(),adSSH0[~mask].flatten())\n",
    "ps2 = jnp.inner(dSSH[~mask].flatten(),adSSH1[~mask].flatten())\n",
    "\n",
    "print('\\nAdjoint test:',ps1/ps2)"
   ]
  },
  {
   "cell_type": "code",
   "execution_count": null,
   "id": "aa148984-ad9b-4156-8097-f5328b705fe7",
   "metadata": {},
   "outputs": [],
   "source": []
  }
 ],
 "metadata": {
  "kernelspec": {
   "display_name": "Python [conda env:jax_eo_py39]",
   "language": "python",
   "name": "conda-env-jax_eo_py39-py"
  },
  "language_info": {
   "codemirror_mode": {
    "name": "ipython",
    "version": 3
   },
   "file_extension": ".py",
   "mimetype": "text/x-python",
   "name": "python",
   "nbconvert_exporter": "python",
   "pygments_lexer": "ipython3",
   "version": "3.9.13"
  }
 },
 "nbformat": 4,
 "nbformat_minor": 5
}

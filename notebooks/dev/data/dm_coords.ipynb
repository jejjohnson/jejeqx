{
 "cells": [
  {
   "cell_type": "markdown",
   "id": "50d5bdfa-1e91-41b7-9d3f-12d282c7f7be",
   "metadata": {},
   "source": [
    "# AlongTrack DataModules"
   ]
  },
  {
   "cell_type": "code",
   "execution_count": 43,
   "id": "7705d56e-830e-4eb5-ac08-6822ad6bab2d",
   "metadata": {
    "tags": []
   },
   "outputs": [
    {
     "name": "stdout",
     "output_type": "stream",
     "text": [
      "The autoreload extension is already loaded. To reload it, use:\n",
      "  %reload_ext autoreload\n"
     ]
    }
   ],
   "source": [
    "import autoroot\n",
    "import jax\n",
    "import jax.numpy as jnp\n",
    "import jax.scipy as jsp\n",
    "import jax.random as jrandom\n",
    "import optax\n",
    "import numpy as np\n",
    "import numba as nb\n",
    "import equinox as eqx\n",
    "import kernex as kex\n",
    "import finitediffx as fdx\n",
    "import diffrax as dfx\n",
    "import xarray as xr\n",
    "import matplotlib.pyplot as plt\n",
    "import seaborn as sns\n",
    "from tqdm.notebook import tqdm, trange\n",
    "from jaxtyping import Float, Array, PyTree, ArrayLike\n",
    "import wandb\n",
    "from omegaconf import OmegaConf\n",
    "import hydra\n",
    "\n",
    "sns.reset_defaults()\n",
    "sns.set_context(context=\"talk\", font_scale=0.7)\n",
    "jax.config.update(\"jax_enable_x64\", False)\n",
    "\n",
    "%matplotlib inline\n",
    "%load_ext autoreload\n",
    "%autoreload 2"
   ]
  },
  {
   "cell_type": "code",
   "execution_count": 44,
   "id": "435a796e-4f1b-4678-802d-433294587994",
   "metadata": {},
   "outputs": [],
   "source": [
    "from jejeqx._src.datamodules.coords import CoordinateDM"
   ]
  },
  {
   "cell_type": "code",
   "execution_count": 45,
   "id": "70825c38-ef24-445f-9f66-48b692699d0c",
   "metadata": {},
   "outputs": [],
   "source": [
    "from sklearn.pipeline import Pipeline\n",
    "from jejeqx._src.transforms.dataframe.spatial import Spherical2Cartesian\n",
    "from jejeqx._src.transforms.dataframe.temporal import TimeDelta\n",
    "from jejeqx._src.transforms.dataframe.scaling import MinMaxDF"
   ]
  },
  {
   "cell_type": "code",
   "execution_count": 46,
   "id": "84d1c7f5-cf7a-4b93-bf1d-ef2761ae7ba1",
   "metadata": {},
   "outputs": [],
   "source": [
    "from dataclasses import dataclass, field\n",
    "from typing import List, Dict\n",
    "\n",
    "@dataclass\n",
    "class Subset:\n",
    "    _target_: str = \"builtins.slice\"\n",
    "    _args_: List = field(default_factory=lambda :[\"2013-01-01\", \"2013-01-10\"])\n",
    "\n",
    "    files = [\n",
    "    \"/gpfswork/rech/yrf/commun/data_challenges/dc20a_osse/work_eman/ml_ready/nadir1.nc\",\n",
    "    \"/gpfswork/rech/yrf/commun/data_challenges/dc20a_osse/work_eman/ml_ready/swot1nadir1.nc\",\n",
    "]\n",
    "\n",
    "@dataclass\n",
    "class SSHDM:\n",
    "    _target_: str = \"jejeqx._src.datamodules.coords.AlongTrackDM\"\n",
    "    paths: List[str] = field(default_factory=lambda : files)\n",
    "    batch_size: int = 10_000\n",
    "    shuffle: bool = False\n",
    "    train_size: float = 0.80\n",
    "    spatial_coords: List = field(default_factory=lambda : [\"lat\", \"lon\"])\n",
    "    temporal_coords: List = field(default_factory=lambda: [\"time\"])\n",
    "    variables: List = field(default_factory=lambda : [\"ssh_obs\"])\n",
    "    \n",
    "\n",
    "# spatial transform\n",
    "transforms = Pipeline([\n",
    "    (\"cartesian3d\", Spherical2Cartesian(radius=1.0, units=\"degrees\")),\n",
    "    (\"spatialminmax\", MinMaxDF([\"x\", \"y\", \"z\"], -1, 1)),\n",
    "    (\"timedelta\", TimeDelta(\"2012-10-01\", 1, \"s\")),\n",
    "    (\"timeminmax\", MinMaxDF([\"time\"], -1, 1)),\n",
    "])"
   ]
  },
  {
   "cell_type": "code",
   "execution_count": 47,
   "id": "4fc41459-87d9-4c89-897f-cc60a8506e8d",
   "metadata": {},
   "outputs": [],
   "source": [
    "# spatial transform\n",
    "spatial_transforms = Pipeline([\n",
    "    (\"cartesian3d\", Spherical2Cartesian(radius=1.0, units=\"degrees\")),\n",
    "    (\"spatialminmax\", MinMaxDF([\"x\", \"y\", \"z\"], -1, 1)),\n",
    "])\n",
    "\n",
    "temporal_transforms = Pipeline([\n",
    "    (\"timedelta\", TimeDelta(\"2012-10-01\", 1, \"s\")),\n",
    "    (\"timeminmax\", MinMaxDF([\"time\"], -1, 1)),\n",
    "])"
   ]
  },
  {
   "cell_type": "code",
   "execution_count": 53,
   "id": "9909c45e-8c1e-47b2-9cee-7cbfb28fb668",
   "metadata": {},
   "outputs": [],
   "source": [
    "select = {\"time\": slice(\"2012-10-01\", \"2012-10-15\")}\n",
    "\n",
    "config_dm = OmegaConf.structured(SSHDM())\n",
    "\n",
    "dm = hydra.utils.instantiate(\n",
    "    config_dm,\n",
    "    select=select,\n",
    "    spatial_transform=spatial_transforms\n",
    ")\n",
    "\n",
    "dm.setup()"
   ]
  },
  {
   "cell_type": "code",
   "execution_count": 54,
   "id": "877a52b5-9410-4064-8378-9bb292a6e57f",
   "metadata": {},
   "outputs": [
    {
     "data": {
      "text/plain": [
       "(282723, 353404)"
      ]
     },
     "execution_count": 54,
     "metadata": {},
     "output_type": "execute_result"
    }
   ],
   "source": [
    "len(dm.ds_train), len(dm.ds_test)"
   ]
  },
  {
   "cell_type": "code",
   "execution_count": 93,
   "id": "8894b25c-5ade-4270-9294-4927cf90b336",
   "metadata": {},
   "outputs": [],
   "source": [
    "from dataclasses import dataclass, field\n",
    "from typing import List, Dict\n",
    "\n",
    "@dataclass\n",
    "class Subset:\n",
    "    _target_: str = \"builtins.slice\"\n",
    "    _args_: List = field(default_factory=lambda :[\"2013-01-01\", \"2013-01-10\"])\n",
    "\n",
    "    files = [\n",
    "    \"/gpfswork/rech/yrf/commun/data_challenges/dc20a_osse/work_eman/ml_ready/nadir1.nc\",\n",
    "    \"/gpfswork/rech/yrf/commun/data_challenges/dc20a_osse/work_eman/ml_ready/swot1nadir1.nc\",\n",
    "]\n",
    "\n",
    "@dataclass\n",
    "class SSHDMNATL60:\n",
    "    _target_: str = \"jejeqx._src.datamodules.coords.EvalCoordDM\"\n",
    "    paths: str = \"/gpfswork/rech/yrf/commun/data_challenges/dc20a_osse/test/dc_ref/NATL60-CJM165_GULFSTREAM*\"\n",
    "    batch_size: int = 10_000\n",
    "    shuffle: bool = False\n",
    "    train_size: float = 0.80\n",
    "    spatial_coords: List = field(default_factory=lambda : [\"lat\", \"lon\"])\n",
    "    temporal_coords: List = field(default_factory=lambda: [\"time\"])\n",
    "    variables: List = field(default_factory=lambda : [\"sossheig\"])\n",
    "    coarsen: Dict = field(default_factory=lambda : {\"lon\": 4, \"lat\": 4})\n",
    "    resample: str = \"1D\"\n",
    "    "
   ]
  },
  {
   "cell_type": "code",
   "execution_count": 94,
   "id": "af4c2fae-0d76-455c-abb5-2374f26325d2",
   "metadata": {},
   "outputs": [],
   "source": [
    "# spatial transform\n",
    "spatial_transforms = Pipeline([\n",
    "    (\"cartesian3d\", Spherical2Cartesian(radius=1.0, units=\"degrees\")),\n",
    "    (\"spatialminmax\", MinMaxDF([\"x\", \"y\", \"z\"], -1, 1)),\n",
    "])\n",
    "\n",
    "temporal_transforms = Pipeline([\n",
    "    (\"timedelta\", TimeDelta(\"2012-10-01\", 1, \"s\")),\n",
    "    (\"timeminmax\", MinMaxDF([\"time\"], -1, 1)),\n",
    "])"
   ]
  },
  {
   "cell_type": "code",
   "execution_count": 98,
   "id": "5b9f1ee9-07d7-4d76-82b8-69453a87e036",
   "metadata": {
    "tags": []
   },
   "outputs": [],
   "source": [
    "select = {\"time\": slice(\"2012-10-01\", \"2013-01-01\")}\n",
    "\n",
    "config_dm = OmegaConf.structured(SSHDMNATL60())\n",
    "\n",
    "dm = hydra.utils.instantiate(\n",
    "    config_dm,\n",
    "    select=select,\n",
    "    spatial_transform=spatial_transforms\n",
    ")\n",
    "\n",
    "dm.setup()"
   ]
  },
  {
   "cell_type": "code",
   "execution_count": 99,
   "id": "1e17e236-92ab-4c40-bc3d-8925200d386c",
   "metadata": {},
   "outputs": [
    {
     "data": {
      "text/plain": [
       "2092500"
      ]
     },
     "execution_count": 99,
     "metadata": {},
     "output_type": "execute_result"
    }
   ],
   "source": [
    "len(dm.ds_test)"
   ]
  },
  {
   "cell_type": "code",
   "execution_count": null,
   "id": "c0d49191-9b72-4b63-b6d0-333494ad9d45",
   "metadata": {},
   "outputs": [],
   "source": []
  },
  {
   "cell_type": "code",
   "execution_count": 25,
   "id": "ee5ee6a4-4bdd-4a74-8124-ef1e277f60aa",
   "metadata": {},
   "outputs": [],
   "source": [
    "i = next(iter(dm.train_dataloader()))"
   ]
  },
  {
   "cell_type": "code",
   "execution_count": 24,
   "id": "d0b40840-5ae5-48af-8071-94239b6934ab",
   "metadata": {},
   "outputs": [],
   "source": [
    "assert len(set([\"x\"]).intersection([\"x\", \"y\"])) == len(set([\"x\"]))"
   ]
  },
  {
   "cell_type": "code",
   "execution_count": null,
   "id": "9369e6ac-08f9-4853-9fb8-0993739abffb",
   "metadata": {},
   "outputs": [],
   "source": [
    "xr.open_mfdataset()"
   ]
  }
 ],
 "metadata": {
  "kernelspec": {
   "display_name": "Python [conda env:miniconda3-jejeqx]",
   "language": "python",
   "name": "conda-env-miniconda3-jejeqx-py"
  },
  "language_info": {
   "codemirror_mode": {
    "name": "ipython",
    "version": 3
   },
   "file_extension": ".py",
   "mimetype": "text/x-python",
   "name": "python",
   "nbconvert_exporter": "python",
   "pygments_lexer": "ipython3",
   "version": "3.10.10"
  }
 },
 "nbformat": 4,
 "nbformat_minor": 5
}

{
 "cells": [
  {
   "cell_type": "markdown",
   "id": "3ea2a574-fd07-442f-bbe9-45bdb2614b0f",
   "metadata": {},
   "source": [
    "# Downloading MODIS Data"
   ]
  },
  {
   "cell_type": "code",
   "execution_count": 5,
   "id": "47917187-bb0d-424b-b94d-c84f420402d3",
   "metadata": {},
   "outputs": [],
   "source": [
    "#pip install modis-tools"
   ]
  },
  {
   "cell_type": "markdown",
   "id": "c74e2768-7f73-4da1-89a9-7b5122c66e45",
   "metadata": {},
   "source": [
    "**Need to Sign up**! - [clickhere](https://urs.earthdata.nasa.gov/profile)\n",
    "\n",
    "I also used the references from GEE found [here](https://developers.google.com/earth-engine/datasets/catalog/modis). \n",
    "It was very difficult to navigate to the many, many, many files found on cmr.earthdata.\n",
    "\n",
    "In this example, we're looking at the MOD09GQ.061 Terra Surface Reflectance Daily Global 250m. More info can be found at the [usgs database](https://lpdaac.usgs.gov/products/mod09gqv061/) but I highly recommend [GEE summaries](https://developers.google.com/earth-engine/datasets/catalog/MODIS_061_MOD09GQ) or [gibs wiki](https://nasa-gibs.github.io/gibs-api-docs/available-visualizations/#visualization-product-catalog)."
   ]
  },
  {
   "cell_type": "code",
   "execution_count": 1,
   "id": "270f2489-380e-404b-a1d4-6d3489e7caae",
   "metadata": {},
   "outputs": [
    {
     "name": "stderr",
     "output_type": "stream",
     "text": [
      "Downloading: 100%|██████████████████████████████| 8/8 [00:48<00:00,  6.05s/file]\n"
     ]
    },
    {
     "data": {
      "text/plain": [
       "[PosixPath('MOD09GQ.A2016002.h18v07.061.2021339184247.hdf'),\n",
       " PosixPath('MOD09GQ.A2016002.h19v08.061.2021339184924.hdf'),\n",
       " PosixPath('MOD09GQ.A2016002.h18v08.061.2021339185944.hdf'),\n",
       " PosixPath('MOD09GQ.A2016002.h19v07.061.2021339185920.hdf'),\n",
       " PosixPath('MOD09GQ.A2016001.h19v08.061.2021339182710.hdf'),\n",
       " PosixPath('MOD09GQ.A2016001.h18v08.061.2021339182656.hdf'),\n",
       " PosixPath('MOD09GQ.A2016001.h19v07.061.2021339182912.hdf'),\n",
       " PosixPath('MOD09GQ.A2016001.h18v07.061.2021339182938.hdf')]"
      ]
     },
     "execution_count": 1,
     "metadata": {},
     "output_type": "execute_result"
    }
   ],
   "source": [
    "from modis_tools.auth import ModisSession\n",
    "from modis_tools.resources import CollectionApi, GranuleApi\n",
    "from modis_tools.granule_handler import GranuleHandler\n",
    "\n",
    "username = \"\"  # Update this line\n",
    "password = \"\"  # Update this line\n",
    "\n",
    "# Authenticate a session\n",
    "session = ModisSession(username=username, password=password)\n",
    "\n",
    "# Query the MODIS catalog for collections\n",
    "collection_client = CollectionApi(session=session)\n",
    "collections = collection_client.query(short_name=\"MOD09GQ\", version=\"061\")\n",
    "\n",
    "# Query the selected collection for granules\n",
    "granule_client = GranuleApi.from_collection(collections[0], session=session)\n",
    "\n",
    "# Filter the selected granules via spatial and temporal parameters\n",
    "bbox = [-55, 33, -65, 43] # demo gulfstream\n",
    "bbox = [2.1448863675, 4.002583177, 15.289420717, 14.275061098] # demo nigeria\n",
    "nigeria_granules = granule_client.query(start_date=\"2016-01-01\", end_date=\"2016-01-02\", bounding_box=bbox)\n",
    "\n",
    "# Download the granules\n",
    "GranuleHandler.download_from_granules(nigeria_granules, session)"
   ]
  }
 ],
 "metadata": {
  "kernelspec": {
   "display_name": "Python [conda env:jax_eo_py311]",
   "language": "python",
   "name": "conda-env-jax_eo_py311-py"
  },
  "language_info": {
   "codemirror_mode": {
    "name": "ipython",
    "version": 3
   },
   "file_extension": ".py",
   "mimetype": "text/x-python",
   "name": "python",
   "nbconvert_exporter": "python",
   "pygments_lexer": "ipython3",
   "version": "3.11.5"
  }
 },
 "nbformat": 4,
 "nbformat_minor": 5
}

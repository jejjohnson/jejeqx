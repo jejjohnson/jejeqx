{
 "cells": [
  {
   "cell_type": "code",
   "execution_count": null,
   "metadata": {},
   "outputs": [],
   "source": [
    "# Standard libraries\n",
    "import autoroot\n",
    "import pytorch_lightning\n",
    "import os\n",
    "import sys\n",
    "from typing import Any, Sequence, Optional, Tuple, Iterator, Dict, Callable, Union\n",
    "import json\n",
    "import time\n",
    "from tqdm.auto import tqdm\n",
    "import numpy as np\n",
    "from copy import copy\n",
    "from glob import glob\n",
    "from collections import defaultdict\n",
    "\n",
    "# JAX/Flax\n",
    "# If you run this code on Colab, remember to install flax and optax\n",
    "# !pip install --quiet --upgrade flax optax\n",
    "import jax\n",
    "import jax.numpy as jnp\n",
    "import jax.random as jrandom\n",
    "import jax_dataloader as jdl\n",
    "import optax\n",
    "import equinox as eqx\n",
    "\n",
    "# PyTorch for data loading\n",
    "import torch\n",
    "import torch.utils.data as data\n",
    "\n",
    "# Logging with Tensorboard or Weights and Biases\n",
    "# If you run this code on Colab, remember to install pytorch_lightning\n",
    "# !pip install --quiet --upgrade pytorch_lightning\n",
    "from pytorch_lightning.loggers import TensorBoardLogger, WandbLogger\n",
    "\n",
    "## Imports for plotting\n",
    "import matplotlib.pyplot as plt\n",
    "from IPython.display import set_matplotlib_formats\n",
    "\n",
    "set_matplotlib_formats(\"svg\", \"pdf\")  # For export\n",
    "from matplotlib.colors import to_rgb\n",
    "import seaborn as sns\n",
    "import matplotlib\n",
    "\n",
    "matplotlib.rcParams[\"lines.linewidth\"] = 2.0\n",
    "sns.reset_defaults()\n",
    "sns.set_context(context=\"talk\", font_scale=0.7)\n",
    "%matplotlib inline\n",
    "%load_ext autoreload\n",
    "%autoreload 2"
   ]
  },
  {
   "cell_type": "markdown",
   "metadata": {},
   "source": [
    "## Data"
   ]
  },
  {
   "cell_type": "code",
   "execution_count": null,
   "metadata": {},
   "outputs": [],
   "source": [
    "def target_function(x):\n",
    "    return np.sin(x * 10.0)\n",
    "\n",
    "\n",
    "class RegressionDataset(data.Dataset):\n",
    "    def __init__(self, num_points, seed):\n",
    "        super().__init__()\n",
    "        rng = np.random.default_rng(seed)\n",
    "        self.x = rng.uniform(low=-1.0, high=1.0, size=num_points)\n",
    "        self.y = target_function(self.x)\n",
    "\n",
    "    def __len__(self):\n",
    "        return self.x.shape[0]\n",
    "\n",
    "    def __getitem__(self, idx):\n",
    "        return self.x[idx : idx + 1], self.y[idx : idx + 1]"
   ]
  },
  {
   "cell_type": "code",
   "execution_count": null,
   "metadata": {},
   "outputs": [],
   "source": [
    "num_points = 1_000\n",
    "seed = 42\n",
    "\n",
    "\n",
    "rng = np.random.default_rng(seed)\n",
    "X = rng.uniform(low=-1.0, high=1.0, size=num_points)\n",
    "y = target_function(X)\n",
    "arr_ds = jdl.ArrayDataset(X[:, None], y[:, None])\n",
    "dataloader = jdl.DataLoader(arr_ds, \"jax\", batch_size=2, shuffle=True)"
   ]
  }
 ],
 "metadata": {
  "language_info": {
   "name": "python"
  }
 },
 "nbformat": 4,
 "nbformat_minor": 2
}

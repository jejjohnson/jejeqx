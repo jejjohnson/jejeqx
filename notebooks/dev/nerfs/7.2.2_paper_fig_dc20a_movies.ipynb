{
 "cells": [
  {
   "cell_type": "markdown",
   "id": "4123c4da-15c8-47f8-9781-7c14c94e2910",
   "metadata": {
    "tags": [],
    "user_expressions": []
   },
   "source": [
    "---\n",
    "title: Gradient Considerations\n",
    "date: 2023-04-01\n",
    "authors:\n",
    "  - name: J. Emmanuel Johnson\n",
    "    affiliations:\n",
    "      - MEOM Lab\n",
    "    roles:\n",
    "      - Primary Programmer\n",
    "    email: jemanjohnson34@gmail.com\n",
    "license: CC-BY-4.0\n",
    "keywords: NerFs, Images\n",
    "---"
   ]
  },
  {
   "cell_type": "code",
   "execution_count": null,
   "id": "bc632417-fe26-49ce-a2c4-9ae125938e93",
   "metadata": {},
   "outputs": [],
   "source": [
    "import sys, os\n",
    "\n",
    "# spyder up to find the root\n",
    "oceanbench_root = \"/gpfswork/rech/cli/uvo53rl/projects/oceanbench\"\n",
    "\n",
    "# append to path\n",
    "sys.path.append(str(oceanbench_root))"
   ]
  },
  {
   "cell_type": "code",
   "execution_count": null,
   "id": "6028f5f4-c74e-42aa-a147-be448542e2de",
   "metadata": {
    "tags": []
   },
   "outputs": [],
   "source": [
    "import autoroot\n",
    "import typing as tp\n",
    "import jax\n",
    "import jax.numpy as jnp\n",
    "import jax.scipy as jsp\n",
    "import jax.random as jrandom\n",
    "import numpy as np\n",
    "import numba as nb\n",
    "import pandas as pd\n",
    "import equinox as eqx\n",
    "import kernex as kex\n",
    "import finitediffx as fdx\n",
    "import diffrax as dfx\n",
    "import xarray as xr\n",
    "import matplotlib.pyplot as plt\n",
    "import seaborn as sns\n",
    "from tqdm.notebook import tqdm, trange\n",
    "from jaxtyping import Float, Array, PyTree, ArrayLike\n",
    "import wandb\n",
    "from omegaconf import OmegaConf\n",
    "import hydra\n",
    "import metpy\n",
    "from sklearn.pipeline import Pipeline\n",
    "from jejeqx._src.transforms.dataframe.spatial import Spherical2Cartesian\n",
    "from jejeqx._src.transforms.dataframe.temporal import TimeDelta\n",
    "from jejeqx._src.transforms.dataframe.scaling import MinMaxDF\n",
    "\n",
    "\n",
    "sns.reset_defaults()\n",
    "sns.set_context(context=\"poster\", font_scale=0.7)\n",
    "jax.config.update(\"jax_enable_x64\", False)\n",
    "\n",
    "%matplotlib inline\n",
    "%load_ext autoreload\n",
    "%autoreload 2"
   ]
  },
  {
   "cell_type": "markdown",
   "id": "aaaeaf71-b606-4992-bea4-4ea8ed377305",
   "metadata": {},
   "source": [
    "## Processing Chain\n",
    "\n",
    "**Part I**:\n",
    "\n",
    "* Open Dataset\n",
    "* Validate Coordinates + Variables\n",
    "* Decode Time\n",
    "* Select Region\n",
    "* Sortby Time\n",
    "\n",
    "**Part II**: Regrid\n",
    "\n",
    "**Part III**:\n",
    "\n",
    "* Interpolate Nans\n",
    "* Add Units\n",
    "* Spatial Rescale\n",
    "* Time Rescale\n",
    "\n",
    "**Part IV**: Metrics\n",
    "\n",
    "*"
   ]
  },
  {
   "cell_type": "markdown",
   "id": "5ac67435-b31d-4788-b79d-3d2e3b5ac1df",
   "metadata": {
    "user_expressions": []
   },
   "source": [
    "## Data"
   ]
  },
  {
   "cell_type": "code",
   "execution_count": null,
   "id": "aefda25b-01ae-4654-b4ce-03c17732a4a6",
   "metadata": {},
   "outputs": [],
   "source": [
    "# !wget wget -nc https://s3.us-east-1.wasabisys.com/melody/osse_data/ref/NATL60-CJM165_GULFSTREAM_ssh_y2013.1y.nc"
   ]
  },
  {
   "cell_type": "code",
   "execution_count": null,
   "id": "3f57a5ce-5b2d-4b0e-a1dc-a80bbfc00844",
   "metadata": {},
   "outputs": [],
   "source": [
    "# !cat configs/postprocess.yaml"
   ]
  },
  {
   "cell_type": "code",
   "execution_count": null,
   "id": "8a26f13e-80a9-467c-8c3d-7d2f3f6beca5",
   "metadata": {},
   "outputs": [],
   "source": [
    "# # load config\n",
    "# config_dm = OmegaConf.load('./configs/postprocess.yaml')\n",
    "\n",
    "# # instantiate\n",
    "# ds = hydra.utils.instantiate(config_dm.NATL60_GF_1Y1D)\n",
    "# ds"
   ]
  },
  {
   "cell_type": "markdown",
   "id": "1c988b80-a5c7-4d01-95bc-e3d4f451b260",
   "metadata": {},
   "source": [
    "## Reference Dataset\n",
    "\n",
    "For the reference dataset, we will look at the NEMO simulation of the Gulfstream."
   ]
  },
  {
   "cell_type": "code",
   "execution_count": null,
   "id": "b434aad4-c3e0-4e96-8ec1-2ebceb6f5473",
   "metadata": {},
   "outputs": [],
   "source": [
    "%%time\n",
    "\n",
    "# load config\n",
    "config_dm = OmegaConf.load(\"./configs/postprocess.yaml\")\n",
    "\n",
    "# instantiate\n",
    "ds_natl60 = hydra.utils.instantiate(config_dm.NATL60_GF_FULL).compute()\n",
    "ds_natl60"
   ]
  },
  {
   "cell_type": "markdown",
   "id": "953427c1-ed8e-49f5-b660-60054fbd5ed9",
   "metadata": {},
   "source": [
    "### Prediction Datasets "
   ]
  },
  {
   "cell_type": "code",
   "execution_count": null,
   "id": "60422be5-b979-4a87-97bf-838dc0f71883",
   "metadata": {},
   "outputs": [],
   "source": [
    "%%time\n",
    "\n",
    "experiment = \"swot\"  # \"nadir\" #\n",
    "if experiment == \"nadir\":\n",
    "    # load config\n",
    "    results_config = OmegaConf.load(f\"./configs/results_dc20a_nadir.yaml\")\n",
    "\n",
    "    # instantiate\n",
    "    ds_duacs = hydra.utils.instantiate(results_config.DUACS_NADIR.data).compute()\n",
    "    ds_miost = hydra.utils.instantiate(results_config.MIOST_NADIR.data).compute()\n",
    "    ds_nerf_siren = hydra.utils.instantiate(\n",
    "        results_config.NERF_SIREN_NADIR.data\n",
    "    ).compute()\n",
    "    ds_nerf_ffn = hydra.utils.instantiate(results_config.NERF_FFN_NADIR.data).compute()\n",
    "    ds_nerf_mlp = hydra.utils.instantiate(results_config.NERF_MLP_NADIR.data).compute()\n",
    "elif experiment == \"swot\":\n",
    "    # load config\n",
    "    results_config = OmegaConf.load(f\"./configs/results_dc20a_swot.yaml\")\n",
    "\n",
    "    # instantiate\n",
    "    ds_duacs = hydra.utils.instantiate(results_config.DUACS_SWOT.data).compute()\n",
    "    ds_miost = hydra.utils.instantiate(results_config.MIOST_SWOT.data).compute()\n",
    "    ds_nerf_siren = hydra.utils.instantiate(\n",
    "        results_config.NERF_SIREN_SWOT.data\n",
    "    ).compute()\n",
    "    ds_nerf_ffn = hydra.utils.instantiate(results_config.NERF_FFN_SWOT.data).compute()\n",
    "    ds_nerf_mlp = hydra.utils.instantiate(results_config.NERF_MLP_SWOT.data).compute()"
   ]
  },
  {
   "cell_type": "code",
   "execution_count": null,
   "id": "6f78801d-ec46-45c2-ac77-43c7e5cb1013",
   "metadata": {},
   "outputs": [],
   "source": [
    "!ls /gpfswork/rech/yrf/commun/data_challenges/dc20a_osse/staging/ml_ready/"
   ]
  },
  {
   "cell_type": "code",
   "execution_count": null,
   "id": "5386c0e3-b203-49fb-ab78-9e0956680254",
   "metadata": {},
   "outputs": [],
   "source": [
    "nadir4_config = OmegaConf.load(f\"./configs/natl60_obs.yaml\")\n",
    "ds_nadir4 = hydra.utils.instantiate(nadir4_config.ALONGTRACK_NADIR4.data).compute()\n",
    "ds_swot1nadir5 = hydra.utils.instantiate(\n",
    "    nadir4_config.ALONGTRACK_SWOT1NADIR5.data\n",
    ").compute()\n",
    "ds_swot1nadir5"
   ]
  },
  {
   "cell_type": "markdown",
   "id": "73fa461e-44dd-4dff-80da-3eb59239ea5b",
   "metadata": {},
   "source": [
    "## Regrdding"
   ]
  },
  {
   "cell_type": "code",
   "execution_count": null,
   "id": "b22492c3-6f5d-4783-b33d-27ff11e4ca64",
   "metadata": {},
   "outputs": [],
   "source": [
    "from oceanbench._src.geoprocessing.gridding import (\n",
    "    grid_to_regular_grid,\n",
    "    coord_based_to_grid,\n",
    ")"
   ]
  },
  {
   "cell_type": "code",
   "execution_count": null,
   "id": "8430c319-02a9-42be-98b5-bb61ca6df3ef",
   "metadata": {},
   "outputs": [],
   "source": [
    "ds_nadir4 = coord_based_to_grid(\n",
    "    coord_based_ds=ds_nadir4,\n",
    "    target_grid_ds=ds_natl60.pint.dequantify(),\n",
    ")\n",
    "ds_swot1nadir5 = coord_based_to_grid(\n",
    "    coord_based_ds=ds_swot1nadir5,\n",
    "    target_grid_ds=ds_natl60.pint.dequantify(),\n",
    ")"
   ]
  },
  {
   "cell_type": "code",
   "execution_count": null,
   "id": "9822001b-e95d-418b-82bf-e2c211d1e680",
   "metadata": {},
   "outputs": [],
   "source": [
    "%%time\n",
    "\n",
    "ds_duacs = grid_to_regular_grid(\n",
    "    src_grid_ds=ds_duacs.pint.dequantify(),\n",
    "    tgt_grid_ds=ds_natl60.pint.dequantify(),\n",
    "    keep_attrs=False,\n",
    ")\n",
    "ds_miost = grid_to_regular_grid(\n",
    "    src_grid_ds=ds_miost.pint.dequantify(),\n",
    "    tgt_grid_ds=ds_natl60.pint.dequantify(),\n",
    "    keep_attrs=False,\n",
    ")\n",
    "ds_nerf_siren = grid_to_regular_grid(\n",
    "    src_grid_ds=ds_nerf_siren.pint.dequantify(),\n",
    "    tgt_grid_ds=ds_natl60.pint.dequantify(),\n",
    "    keep_attrs=False,\n",
    ")\n",
    "ds_nerf_ffn = grid_to_regular_grid(\n",
    "    src_grid_ds=ds_nerf_ffn.pint.dequantify(),\n",
    "    tgt_grid_ds=ds_natl60.pint.dequantify(),\n",
    "    keep_attrs=False,\n",
    ")\n",
    "ds_nerf_mlp = grid_to_regular_grid(\n",
    "    src_grid_ds=ds_nerf_mlp.pint.dequantify(),\n",
    "    tgt_grid_ds=ds_natl60.pint.dequantify(),\n",
    "    keep_attrs=False,\n",
    ")"
   ]
  },
  {
   "cell_type": "markdown",
   "id": "10b0f701-9fc6-4fad-95f0-4f138f3b9258",
   "metadata": {},
   "source": [
    "### Preprocess Chain"
   ]
  },
  {
   "cell_type": "code",
   "execution_count": null,
   "id": "681b402b-7cb3-4a1c-81e7-e2296181f60d",
   "metadata": {},
   "outputs": [],
   "source": [
    "%%time\n",
    "\n",
    "# load config\n",
    "psd_config = OmegaConf.load(\"./configs/metrics.yaml\")\n",
    "\n",
    "ds_natl60 = hydra.utils.instantiate(psd_config.fill_nans)(ds_natl60.pint.dequantify())\n",
    "ds_duacs = hydra.utils.instantiate(psd_config.fill_nans)(ds_duacs.pint.dequantify())\n",
    "ds_miost = hydra.utils.instantiate(psd_config.fill_nans)(ds_miost.pint.dequantify())\n",
    "ds_nerf_siren = hydra.utils.instantiate(psd_config.fill_nans)(\n",
    "    ds_nerf_siren.pint.dequantify()\n",
    ")\n",
    "ds_nerf_ffn = hydra.utils.instantiate(psd_config.fill_nans)(\n",
    "    ds_nerf_ffn.pint.dequantify()\n",
    ")\n",
    "ds_nerf_mlp = hydra.utils.instantiate(psd_config.fill_nans)(\n",
    "    ds_nerf_mlp.pint.dequantify()\n",
    ")"
   ]
  },
  {
   "cell_type": "code",
   "execution_count": null,
   "id": "e559d1dd-dea2-44a5-ac87-438c3b34c869",
   "metadata": {},
   "outputs": [],
   "source": [
    "def correct_labels(ds):\n",
    "    ds[\"lon\"].attrs[\"units\"] = \"degrees\"\n",
    "    ds[\"lat\"].attrs[\"units\"] = \"degrees\"\n",
    "    ds[\"ssh\"].attrs[\"units\"] = \"m\"\n",
    "    ds[\"ssh\"].attrs[\"standard_name\"] = \"sea_surface_height\"\n",
    "    ds[\"ssh\"].attrs[\"long_name\"] = \"Sea Surface Height\"\n",
    "    ds[\"lon\"].attrs[\"standard_name\"] = \"longitude\"\n",
    "    ds[\"lat\"].attrs[\"standard_name\"] = \"latitude\"\n",
    "    ds[\"lat\"].attrs[\"long_name\"] = \"Latitude\"\n",
    "    ds[\"lon\"].attrs[\"long_name\"] = \"Longitude\"\n",
    "\n",
    "    return ds"
   ]
  },
  {
   "cell_type": "markdown",
   "id": "7041cca8-7539-447b-a8a7-9b84ebdcf497",
   "metadata": {},
   "source": [
    "### SSH"
   ]
  },
  {
   "cell_type": "code",
   "execution_count": null,
   "id": "239a1641-2c02-49a3-a1af-537143afde94",
   "metadata": {},
   "outputs": [],
   "source": [
    "from xmovie import Movie\n",
    "from pathlib import Path\n",
    "\n",
    "\n",
    "def custom_plot_ssh_obs(ds, fig, tt, *args, **kwargs):\n",
    "    fig.set_size_inches(7, 5.5)\n",
    "    ax = fig.add_subplot(\n",
    "        111,\n",
    "    )\n",
    "    sub = ds.isel(time=tt)\n",
    "    X, Y = np.meshgrid(ds.lon, ds.lat, indexing=\"ij\")\n",
    "    pts = ax.scatter(\n",
    "        X,\n",
    "        Y,\n",
    "        c=np.ma.masked_invalid(sub).T,\n",
    "        marker=\"s\",\n",
    "        s=0.25,\n",
    "        vmin=kwargs.pop(\"vmin\", None),\n",
    "        vmax=kwargs.pop(\"vmax\", None),\n",
    "    )\n",
    "    ax.set(\n",
    "        xlim=kwargs.pop(\"xlim\", None),\n",
    "        ylim=kwargs.pop(\"ylim\", None),\n",
    "    )\n",
    "    plt.colorbar(pts, cmap=\"viridis\")\n",
    "    # sub.plot.scatter(x=\"lon\", y=\"lat\", ax=ax)\n",
    "    # sub.plot.pcolormesh(ax=ax, cmap=\"viridis\", **kwargs)\n",
    "    # ax.set_aspect('equal')\n",
    "\n",
    "    ax.set_title(pd.to_datetime(sub.time.values).strftime(\"%Y-%m-%d\"))\n",
    "    fig.tight_layout()\n",
    "    return None, None\n",
    "\n",
    "\n",
    "def custom_plot_ssh(ds, fig, tt, *args, **kwargs):\n",
    "    fig.set_size_inches(7, 5.5)\n",
    "    ax = fig.add_subplot(\n",
    "        111,\n",
    "    )\n",
    "    sub = ds.isel(time=tt)\n",
    "    sub.plot.pcolormesh(\n",
    "        ax=ax,\n",
    "        cmap=\"viridis\",\n",
    "        **kwargs,\n",
    "    )\n",
    "    sub.plot.contour(ax=ax, levels=5, alpha=0.25, linewidths=1, cmap=\"black\", **kwargs)\n",
    "    # ax.set_aspect('equal')\n",
    "\n",
    "    ax.set_title(pd.to_datetime(sub.time.values).strftime(\"%Y-%m-%d\"))\n",
    "    fig.tight_layout()\n",
    "    return None, None\n",
    "\n",
    "\n",
    "def create_movie(\n",
    "    var,\n",
    "    name,\n",
    "    plotfunc=custom_plot_ssh,\n",
    "    framedim: str = \"steps\",\n",
    "    file_path=None,\n",
    "    **kwargs,\n",
    "):\n",
    "    if file_path is not None:\n",
    "        file_name = Path(file_path).joinpath(f\"movie_{name}.gif\")\n",
    "    else:\n",
    "        file_name = Path(f\"./movie_{name}.gif\")\n",
    "\n",
    "    mov = Movie(\n",
    "        var,\n",
    "        plotfunc=plotfunc,\n",
    "        framedim=framedim,\n",
    "        **kwargs,\n",
    "        dpi=400,\n",
    "    )\n",
    "    mov.save(\n",
    "        file_name,\n",
    "        remove_movie=False,\n",
    "        progress=True,\n",
    "        framerate=3,\n",
    "        gif_framerate=3,\n",
    "        overwrite_existing=True,\n",
    "        gif_resolution_factor=0.75,\n",
    "        parallel=True,\n",
    "    )\n",
    "\n",
    "    return None"
   ]
  },
  {
   "cell_type": "code",
   "execution_count": null,
   "id": "c9dee490-92cb-43b7-a31b-d63ffcfbec09",
   "metadata": {},
   "outputs": [],
   "source": [
    "%matplotlib inline\n",
    "\n",
    "vmin, vmax = correct_labels(ds_natl60).ssh.min(), correct_labels(ds_natl60).ssh.max()\n",
    "xlim = [ds_natl60.lon.min().values, ds_natl60.lon.max().values]\n",
    "ylim = [ds_natl60.lat.min().values, ds_natl60.lat.max().values]\n",
    "mov = Movie(\n",
    "    correct_labels(ds_swot1nadir5).ssh,\n",
    "    plotfunc=custom_plot_ssh_obs,\n",
    "    framedim=\"time\",\n",
    "    xlim=xlim,\n",
    "    ylim=ylim,\n",
    ")\n",
    "mov.preview(5)"
   ]
  },
  {
   "cell_type": "code",
   "execution_count": null,
   "id": "a5eacaa4-19f1-4641-911e-b095ed259279",
   "metadata": {},
   "outputs": [],
   "source": [
    "%matplotlib inline\n",
    "\n",
    "vmin, vmax = correct_labels(ds_natl60).ssh.min(), correct_labels(ds_natl60).ssh.max()\n",
    "mov = Movie(\n",
    "    correct_labels(ds_natl60).ssh,\n",
    "    plotfunc=custom_plot_ssh,\n",
    "    framedim=\"time\",\n",
    "    rasterized=True,\n",
    ")\n",
    "mov.preview(1)"
   ]
  },
  {
   "cell_type": "code",
   "execution_count": null,
   "id": "0acf1e30-d2b7-45bd-8b16-fbdd439e18c3",
   "metadata": {},
   "outputs": [],
   "source": []
  },
  {
   "cell_type": "code",
   "execution_count": null,
   "id": "59b52ff0-1d16-4cfe-aaec-553825b55467",
   "metadata": {},
   "outputs": [],
   "source": [
    "fig_path = \"./figures/dc20a/movies\""
   ]
  },
  {
   "cell_type": "code",
   "execution_count": null,
   "id": "87dcbc95-8b23-4764-a365-e0b7951efa98",
   "metadata": {},
   "outputs": [],
   "source": [
    "correct_labels(ds_natl60).ssh.isel(time=slice(0, 5)).chunk({\"time\": 1})"
   ]
  },
  {
   "cell_type": "code",
   "execution_count": null,
   "id": "e74c8b95-f047-4ff5-b89f-20e8df26d5fe",
   "metadata": {},
   "outputs": [],
   "source": [
    "vmin, vmax = correct_labels(ds_natl60).ssh.min(), correct_labels(ds_natl60).ssh.max()\n",
    "\n",
    "create_movie(\n",
    "    correct_labels(ds_natl60)\n",
    "    .ssh.isel(time=slice(0, 5))\n",
    "    .chunk({\"time\": 1}),  # .sel(time=slice(\"2017-02-01\", \"2017-03-01\")),\n",
    "    name=\"dc20a_natl60_ssh\",\n",
    "    file_path=fig_path,\n",
    "    framedim=\"time\",\n",
    "    # cbar_kwargs={\"label\": \"Sea Surface Height [\"},\n",
    "    robust=True,\n",
    "    vmin=vmin,\n",
    "    vmax=vmax,\n",
    "    rasterized=True,\n",
    ")"
   ]
  },
  {
   "cell_type": "code",
   "execution_count": null,
   "id": "ee66bd00-a625-4667-a7d4-57b0e560e0c8",
   "metadata": {},
   "outputs": [],
   "source": [
    "vmin, vmax = correct_labels(ds_natl60).ssh.min(), correct_labels(ds_natl60).ssh.max()\n",
    "xlim = [ds_natl60.lon.min().values, ds_natl60.lon.max().values]\n",
    "ylim = [ds_natl60.lat.min().values, ds_natl60.lat.max().values]\n",
    "\n",
    "create_movie(\n",
    "    correct_labels(ds_nadir4).ssh.chunk(\n",
    "        {\"time\": 1}\n",
    "    ),  # .sel(time=slice(\"2017-02-01\", \"2017-03-01\")),\n",
    "    name=\"dc20a_nadir_ssh\",\n",
    "    plotfunc=custom_plot_ssh_obs,\n",
    "    file_path=fig_path,\n",
    "    framedim=\"time\",\n",
    "    vmin=vmin,\n",
    "    vmax=vmax,\n",
    "    robust=True,\n",
    "    xlim=xlim,\n",
    "    ylim=ylim,\n",
    ")"
   ]
  },
  {
   "cell_type": "code",
   "execution_count": null,
   "id": "c619b9fb-f01a-4239-927f-1de9a66820bd",
   "metadata": {},
   "outputs": [],
   "source": [
    "vmin, vmax = correct_labels(ds_natl60).ssh.min(), correct_labels(ds_natl60).ssh.max()\n",
    "xlim = [ds_natl60.lon.min().values, ds_natl60.lon.max().values]\n",
    "ylim = [ds_natl60.lat.min().values, ds_natl60.lat.max().values]\n",
    "\n",
    "create_movie(\n",
    "    correct_labels(ds_swot1nadir5).ssh.chunk(\n",
    "        {\"time\": 1}\n",
    "    ),  # .sel(time=slice(\"2017-02-01\", \"2017-03-01\")),\n",
    "    name=\"dc20a_swot1nadir5_ssh\",\n",
    "    plotfunc=custom_plot_ssh_obs,\n",
    "    file_path=fig_path,\n",
    "    framedim=\"time\",\n",
    "    vmin=vmin,\n",
    "    vmax=vmax,\n",
    "    robust=True,\n",
    "    xlim=xlim,\n",
    "    ylim=ylim,\n",
    ")"
   ]
  },
  {
   "cell_type": "code",
   "execution_count": null,
   "id": "867cc245-fdf0-4ea6-a238-84a446beb10a",
   "metadata": {},
   "outputs": [],
   "source": [
    "vmin, vmax = correct_labels(ds_natl60).ssh.min(), correct_labels(ds_natl60).ssh.max()\n",
    "\n",
    "create_movie(\n",
    "    correct_labels(ds_natl60).ssh.chunk(\n",
    "        {\"time\": 1}\n",
    "    ),  # .sel(time=slice(\"2017-02-01\", \"2017-03-01\")),\n",
    "    name=f\"dc20a_natl60_ssh\",\n",
    "    file_path=fig_path,\n",
    "    framedim=\"time\",\n",
    "    vmin=vmin,\n",
    "    vmax=vmax,\n",
    "    robust=True,\n",
    ")"
   ]
  },
  {
   "cell_type": "code",
   "execution_count": null,
   "id": "59725539-bb3c-4ab0-8e4a-af99e08afec7",
   "metadata": {},
   "outputs": [],
   "source": [
    "vmin, vmax = correct_labels(ds_natl60).ssh.min(), correct_labels(ds_natl60).ssh.max()\n",
    "\n",
    "# DUACS\n",
    "create_movie(\n",
    "    correct_labels(ds_duacs).ssh.chunk(\n",
    "        {\"time\": 1}\n",
    "    ),  # .sel(time=slice(\"2017-02-01\", \"2017-03-01\")),\n",
    "    name=f\"dc20a_duacs_ssh_{experiment}\",\n",
    "    file_path=fig_path,\n",
    "    framedim=\"time\",\n",
    "    vmin=vmin,\n",
    "    vmax=vmax,\n",
    "    robust=True,\n",
    ")"
   ]
  },
  {
   "cell_type": "code",
   "execution_count": null,
   "id": "52ff4c4e-993f-49f7-9557-540a95e16e72",
   "metadata": {},
   "outputs": [],
   "source": [
    "vmin, vmax = correct_labels(ds_natl60).ssh.min(), correct_labels(ds_natl60).ssh.max()\n",
    "\n",
    "# MIOST\n",
    "create_movie(\n",
    "    correct_labels(ds_miost).ssh.chunk(\n",
    "        {\"time\": 1}\n",
    "    ),  # .sel(time=slice(\"2017-02-01\", \"2017-03-01\")),\n",
    "    name=f\"dc20a_miost_ssh_{experiment}\",\n",
    "    file_path=fig_path,\n",
    "    framedim=\"time\",\n",
    "    vmin=vmin,\n",
    "    vmax=vmax,\n",
    "    # cbar_kwargs={\"label\": \"\"},\n",
    "    robust=True,\n",
    ")"
   ]
  },
  {
   "cell_type": "code",
   "execution_count": null,
   "id": "b60149c9-22ff-4782-8f25-05337c6f18e9",
   "metadata": {},
   "outputs": [],
   "source": [
    "vmin, vmax = correct_labels(ds_natl60).ssh.min(), correct_labels(ds_natl60).ssh.max()\n",
    "\n",
    "# NerF - MLP\n",
    "create_movie(\n",
    "    correct_labels(ds_nerf_mlp).ssh.chunk(\n",
    "        {\"time\": 1}\n",
    "    ),  # .sel(time=slice(\"2017-02-01\", \"2017-03-01\")),\n",
    "    name=f\"dc20a_nerf_mlp_ssh_{experiment}\",\n",
    "    file_path=fig_path,\n",
    "    framedim=\"time\",\n",
    "    vmin=vmin,\n",
    "    vmax=vmax,\n",
    "    # cbar_kwargs={\"label\": \"\"},\n",
    "    robust=True,\n",
    ")"
   ]
  },
  {
   "cell_type": "code",
   "execution_count": null,
   "id": "6031c069-edec-4c64-8960-ad6acb710e5c",
   "metadata": {},
   "outputs": [],
   "source": [
    "vmin, vmax = correct_labels(ds_natl60).ssh.min(), correct_labels(ds_natl60).ssh.max()\n",
    "\n",
    "# NerF - FFN\n",
    "create_movie(\n",
    "    correct_labels(ds_nerf_ffn).ssh.chunk(\n",
    "        {\"time\": 1}\n",
    "    ),  # .sel(time=slice(\"2017-02-01\", \"2017-03-01\")),\n",
    "    name=f\"dc20a_nerf_ffn_ssh_{experiment}\",\n",
    "    file_path=fig_path,\n",
    "    framedim=\"time\",\n",
    "    vmin=vmin,\n",
    "    vmax=vmax,\n",
    "    # cbar_kwargs={\"label\": \"\"},\n",
    "    robust=True,\n",
    ")"
   ]
  },
  {
   "cell_type": "code",
   "execution_count": null,
   "id": "3776033d-b489-4f36-8e0f-b20a85931304",
   "metadata": {},
   "outputs": [],
   "source": [
    "vmin, vmax = correct_labels(ds_natl60).ssh.min(), correct_labels(ds_natl60).ssh.max()\n",
    "\n",
    "\n",
    "# NerF - FFN\n",
    "create_movie(\n",
    "    correct_labels(ds_nerf_siren).ssh.chunk(\n",
    "        {\"time\": 1}\n",
    "    ),  # .sel(time=slice(\"2017-02-01\", \"2017-03-01\")),\n",
    "    name=f\"dc20a_nerf_siren_ssh_{experiment}\",\n",
    "    file_path=fig_path,\n",
    "    framedim=\"time\",\n",
    "    vmin=vmin,\n",
    "    vmax=vmax,\n",
    "    # cbar_kwargs={\"label\": \"\"},\n",
    "    robust=True,\n",
    ")"
   ]
  },
  {
   "cell_type": "code",
   "execution_count": null,
   "id": "6d3ab2a9-4698-4a7f-a362-d94caa2dd7a4",
   "metadata": {},
   "outputs": [],
   "source": []
  }
 ],
 "metadata": {
  "kernelspec": {
   "display_name": "Python [conda env:miniconda3-jejeqx]",
   "language": "python",
   "name": "conda-env-miniconda3-jejeqx-py"
  },
  "language_info": {
   "codemirror_mode": {
    "name": "ipython",
    "version": 3
   },
   "file_extension": ".py",
   "mimetype": "text/x-python",
   "name": "python",
   "nbconvert_exporter": "python",
   "pygments_lexer": "ipython3",
   "version": "3.10.10"
  }
 },
 "nbformat": 4,
 "nbformat_minor": 5
}

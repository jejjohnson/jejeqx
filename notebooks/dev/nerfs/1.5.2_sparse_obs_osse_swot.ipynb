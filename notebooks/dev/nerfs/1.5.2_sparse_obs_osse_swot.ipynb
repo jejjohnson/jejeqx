{
 "cells": [
  {
   "cell_type": "markdown",
   "id": "4123c4da-15c8-47f8-9781-7c14c94e2910",
   "metadata": {
    "tags": [],
    "user_expressions": []
   },
   "source": [
    "---\n",
    "title: Sparse Observations\n",
    "date: 2023-04-01\n",
    "authors:\n",
    "  - name: J. Emmanuel Johnson\n",
    "    affiliations:\n",
    "      - MEOM Lab\n",
    "    roles:\n",
    "      - Primary Programmer\n",
    "    email: jemanjohnson34@gmail.com\n",
    "license: CC-BY-4.0\n",
    "keywords: NerFs, SWOT\n",
    "---"
   ]
  },
  {
   "cell_type": "code",
   "execution_count": 1,
   "id": "6028f5f4-c74e-42aa-a147-be448542e2de",
   "metadata": {
    "tags": []
   },
   "outputs": [
    {
     "name": "stdout",
     "output_type": "stream",
     "text": [
      "env: XLA_PYTHON_CLIENT_PREALLOCATE=false\n"
     ]
    }
   ],
   "source": [
    "import autoroot\n",
    "import jax\n",
    "import jax.numpy as jnp\n",
    "import jax.scipy as jsp\n",
    "import jax.random as jrandom\n",
    "import numpy as np\n",
    "import numba as nb\n",
    "import equinox as eqx\n",
    "import kernex as kex\n",
    "import finitediffx as fdx\n",
    "import diffrax as dfx\n",
    "import xarray as xr\n",
    "import metpy\n",
    "import matplotlib.pyplot as plt\n",
    "import seaborn as sns\n",
    "from tqdm.notebook import tqdm, trange\n",
    "from jaxtyping import Float, Array, PyTree, ArrayLike\n",
    "import wandb\n",
    "from omegaconf import OmegaConf\n",
    "import hydra\n",
    "from sklearn import pipeline\n",
    "from sklearn.compose import ColumnTransformer\n",
    "from sklearn.pipeline import Pipeline\n",
    "from jejeqx._src.transforms.dataframe.spatial import Spherical2Cartesian\n",
    "from jejeqx._src.transforms.dataframe.temporal import TimeDelta\n",
    "from jejeqx._src.transforms.dataframe.scaling import MinMaxDF\n",
    "\n",
    "sns.reset_defaults()\n",
    "sns.set_context(context=\"talk\", font_scale=0.7)\n",
    "# Ensure TF does not see GPU and grab all GPU memory.\n",
    "%env XLA_PYTHON_CLIENT_PREALLOCATE=false\n",
    "jax.config.update(\"jax_enable_x64\", False)\n",
    "\n",
    "%matplotlib inline\n",
    "%load_ext autoreload\n",
    "%autoreload 2"
   ]
  },
  {
   "cell_type": "markdown",
   "id": "c71086b9-24cb-4b1d-9eab-93ce21ac8d12",
   "metadata": {
    "tags": [],
    "user_expressions": []
   },
   "source": [
    "## Recap Formulation\n",
    "\n",
    "We are interested in learning non-linear functions $\\boldsymbol{f}$.\n",
    "\n",
    "$$\n",
    "\\begin{aligned}\n",
    "\\boldsymbol{f}(\\mathbf{x}) &=\n",
    "\\mathbf{w}^\\top\\boldsymbol{\\phi}(\\mathbf{x})+\\mathbf{b}\n",
    "\\end{aligned}\n",
    "$$\n",
    "\n",
    "where the $\\boldsymbol{\\phi}(\\cdot)$ is a basis function. Neural Fields typically try to learn this basis funciton via a series of composite functions of the form\n",
    "\n",
    "$$\n",
    "\\boldsymbol{\\phi}(\\mathbf{x}) =\n",
    "\\boldsymbol{\\phi}_L\\circ\\boldsymbol{\\phi}_{L-1}\n",
    "\\circ\\cdots\\circ\n",
    "\\boldsymbol{\\phi}_2\\circ\\boldsymbol{\\phi}_{1}(\\mathbf{x})\n",
    "$$"
   ]
  },
  {
   "cell_type": "markdown",
   "id": "c9495206-f1e1-42d6-beba-13fe42d9253f",
   "metadata": {
    "user_expressions": []
   },
   "source": [
    "## Problems\n",
    "\n",
    "Here, we will demonstrate a problem that a naive network has."
   ]
  },
  {
   "cell_type": "markdown",
   "id": "5ac67435-b31d-4788-b79d-3d2e3b5ac1df",
   "metadata": {
    "user_expressions": []
   },
   "source": [
    "## Sparse Observations"
   ]
  },
  {
   "cell_type": "markdown",
   "id": "e1a64840-9539-4eef-b173-436d7abfe6f8",
   "metadata": {
    "user_expressions": []
   },
   "source": [
    "In the previous examples, we were demonstrating how NerFs perform when we have some clean simulation. \n",
    "However, in many real problems, we do not have access to such clean\n",
    "\n",
    "For this example, we are going to look at the case when we have very sparse observations: as in the case with satellite altimetry data like SWOT. In this case"
   ]
  },
  {
   "cell_type": "code",
   "execution_count": 3,
   "id": "940d5566-74c1-484e-9469-e5b95ddd9d51",
   "metadata": {},
   "outputs": [],
   "source": [
    "from dataclasses import dataclass, field\n",
    "from typing import List, Dict, Optional\n",
    "\n",
    "@dataclass\n",
    "class Subset:\n",
    "    _target_: str = \"builtins.slice\"\n",
    "    _args_: List = field(default_factory=lambda :[\"2013-01-01\", \"2013-01-10\"])\n",
    "\n",
    "files = [\n",
    "    \"/gpfswork/rech/yrf/commun/data_challenges/dc20a_osse/work_eman/ml_ready/swot1nadir5.nc\",\n",
    "    # \"/gpfswork/rech/yrf/commun/data_challenges/dc20a_osse/work_eman/ml_ready/nadir4.nc\",\n",
    "]\n",
    "\n",
    "@dataclass\n",
    "class SSHDM:\n",
    "    _target_: str = \"jejeqx._src.datamodules.coords.AlongTrackDM\"\n",
    "    paths: List[str] = field(default_factory=lambda : files)\n",
    "    batch_size: int = 10_000\n",
    "    shuffle: bool = True\n",
    "    train_size: float = 0.90\n",
    "    subset_size: Optional[float] = 0.20\n",
    "    decode_times: bool = True\n",
    "    spatial_coords: List = field(default_factory=lambda : [\"lat\", \"lon\"])\n",
    "    temporal_coords: List = field(default_factory=lambda: [\"time\"])\n",
    "    variables: List = field(default_factory=lambda : [\"ssh_obs\"])\n",
    "    \n",
    "# spatial transform\n",
    "spatial_transforms = Pipeline([\n",
    "    (\"cartesian3d\", Spherical2Cartesian(radius=1.0, units=\"degrees\")),\n",
    "    (\"spatialminmax\", MinMaxDF([\"x\", \"y\", \"z\"], -1, 1)),\n",
    "])\n",
    "\n",
    "temporal_transforms = Pipeline([\n",
    "    (\"timedelta\", TimeDelta(\"2012-10-01\", 1, \"s\")),\n",
    "    (\"timeminmax\", MinMaxDF([\"time\"], -1, 1)),\n",
    "])\n"
   ]
  },
  {
   "cell_type": "code",
   "execution_count": 4,
   "id": "7f5bf5af-e023-4d3b-a5bc-4bd14de193a4",
   "metadata": {},
   "outputs": [
    {
     "name": "stderr",
     "output_type": "stream",
     "text": [
      "/gpfsdswork/projects/rech/cli/uvo53rl/projects/jejeqx/jejeqx/_src/transforms/dataframe/temporal.py:34: SettingWithCopyWarning: \n",
      "A value is trying to be set on a copy of a slice from a DataFrame.\n",
      "Try using .loc[row_indexer,col_indexer] = value instead\n",
      "\n",
      "See the caveats in the documentation: https://pandas.pydata.org/pandas-docs/stable/user_guide/indexing.html#returning-a-view-versus-a-copy\n",
      "  X[\"time\"] = time\n",
      "/gpfsdswork/projects/rech/cli/uvo53rl/projects/jejeqx/jejeqx/_src/transforms/dataframe/scaling.py:127: SettingWithCopyWarning: \n",
      "A value is trying to be set on a copy of a slice from a DataFrame.\n",
      "Try using .loc[row_indexer,col_indexer] = value instead\n",
      "\n",
      "See the caveats in the documentation: https://pandas.pydata.org/pandas-docs/stable/user_guide/indexing.html#returning-a-view-versus-a-copy\n",
      "  X[self.columns] = X_var\n"
     ]
    },
    {
     "data": {
      "text/plain": [
       "(-0.9278486418060368,\n",
       " 0.7811020552364258,\n",
       " (32, 3),\n",
       " -0.9095856534591772,\n",
       " 0.8643397884658826,\n",
       " (32, 1))"
      ]
     },
     "execution_count": 4,
     "metadata": {},
     "output_type": "execute_result"
    }
   ],
   "source": [
    "# select = {\"time\": slice(\"2012-10-22\", \"2012-11-22\")}\n",
    "select = {\"time\": slice(\"2012-10-01\", \"2012-12-02\")}\n",
    "\n",
    "config_dm = OmegaConf.structured(SSHDM())\n",
    "\n",
    "dm = hydra.utils.instantiate(\n",
    "    config_dm,\n",
    "    select=select,\n",
    "    spatial_transform=spatial_transforms,\n",
    "    temporal_transform=temporal_transforms,\n",
    ")\n",
    "\n",
    "dm.setup()\n",
    "\n",
    "\n",
    "init = dm.ds_train[:32]\n",
    "x_init, t_init, y_init = init[\"spatial\"], init[\"temporal\"], init[\"data\"]\n",
    "x_init.min(), x_init.max(), x_init.shape, t_init.min(), t_init.max(), t_init.shape"
   ]
  },
  {
   "cell_type": "code",
   "execution_count": 5,
   "id": "7aada7fe-c387-4dee-aea9-f60b0c698013",
   "metadata": {},
   "outputs": [
    {
     "data": {
      "text/plain": [
       "270749"
      ]
     },
     "execution_count": 5,
     "metadata": {},
     "output_type": "execute_result"
    }
   ],
   "source": [
    "len(dm.ds_train)"
   ]
  },
  {
   "cell_type": "code",
   "execution_count": 6,
   "id": "9e367177-80a4-4490-acdc-02d6a2932f73",
   "metadata": {},
   "outputs": [
    {
     "data": {
      "text/html": [
       "<div><svg style=\"position: absolute; width: 0; height: 0; overflow: hidden\">\n",
       "<defs>\n",
       "<symbol id=\"icon-database\" viewBox=\"0 0 32 32\">\n",
       "<path d=\"M16 0c-8.837 0-16 2.239-16 5v4c0 2.761 7.163 5 16 5s16-2.239 16-5v-4c0-2.761-7.163-5-16-5z\"></path>\n",
       "<path d=\"M16 17c-8.837 0-16-2.239-16-5v6c0 2.761 7.163 5 16 5s16-2.239 16-5v-6c0 2.761-7.163 5-16 5z\"></path>\n",
       "<path d=\"M16 26c-8.837 0-16-2.239-16-5v6c0 2.761 7.163 5 16 5s16-2.239 16-5v-6c0 2.761-7.163 5-16 5z\"></path>\n",
       "</symbol>\n",
       "<symbol id=\"icon-file-text2\" viewBox=\"0 0 32 32\">\n",
       "<path d=\"M28.681 7.159c-0.694-0.947-1.662-2.053-2.724-3.116s-2.169-2.030-3.116-2.724c-1.612-1.182-2.393-1.319-2.841-1.319h-15.5c-1.378 0-2.5 1.121-2.5 2.5v27c0 1.378 1.122 2.5 2.5 2.5h23c1.378 0 2.5-1.122 2.5-2.5v-19.5c0-0.448-0.137-1.23-1.319-2.841zM24.543 5.457c0.959 0.959 1.712 1.825 2.268 2.543h-4.811v-4.811c0.718 0.556 1.584 1.309 2.543 2.268zM28 29.5c0 0.271-0.229 0.5-0.5 0.5h-23c-0.271 0-0.5-0.229-0.5-0.5v-27c0-0.271 0.229-0.5 0.5-0.5 0 0 15.499-0 15.5 0v7c0 0.552 0.448 1 1 1h7v19.5z\"></path>\n",
       "<path d=\"M23 26h-14c-0.552 0-1-0.448-1-1s0.448-1 1-1h14c0.552 0 1 0.448 1 1s-0.448 1-1 1z\"></path>\n",
       "<path d=\"M23 22h-14c-0.552 0-1-0.448-1-1s0.448-1 1-1h14c0.552 0 1 0.448 1 1s-0.448 1-1 1z\"></path>\n",
       "<path d=\"M23 18h-14c-0.552 0-1-0.448-1-1s0.448-1 1-1h14c0.552 0 1 0.448 1 1s-0.448 1-1 1z\"></path>\n",
       "</symbol>\n",
       "</defs>\n",
       "</svg>\n",
       "<style>/* CSS stylesheet for displaying xarray objects in jupyterlab.\n",
       " *\n",
       " */\n",
       "\n",
       ":root {\n",
       "  --xr-font-color0: var(--jp-content-font-color0, rgba(0, 0, 0, 1));\n",
       "  --xr-font-color2: var(--jp-content-font-color2, rgba(0, 0, 0, 0.54));\n",
       "  --xr-font-color3: var(--jp-content-font-color3, rgba(0, 0, 0, 0.38));\n",
       "  --xr-border-color: var(--jp-border-color2, #e0e0e0);\n",
       "  --xr-disabled-color: var(--jp-layout-color3, #bdbdbd);\n",
       "  --xr-background-color: var(--jp-layout-color0, white);\n",
       "  --xr-background-color-row-even: var(--jp-layout-color1, white);\n",
       "  --xr-background-color-row-odd: var(--jp-layout-color2, #eeeeee);\n",
       "}\n",
       "\n",
       "html[theme=dark],\n",
       "body[data-theme=dark],\n",
       "body.vscode-dark {\n",
       "  --xr-font-color0: rgba(255, 255, 255, 1);\n",
       "  --xr-font-color2: rgba(255, 255, 255, 0.54);\n",
       "  --xr-font-color3: rgba(255, 255, 255, 0.38);\n",
       "  --xr-border-color: #1F1F1F;\n",
       "  --xr-disabled-color: #515151;\n",
       "  --xr-background-color: #111111;\n",
       "  --xr-background-color-row-even: #111111;\n",
       "  --xr-background-color-row-odd: #313131;\n",
       "}\n",
       "\n",
       ".xr-wrap {\n",
       "  display: block !important;\n",
       "  min-width: 300px;\n",
       "  max-width: 700px;\n",
       "}\n",
       "\n",
       ".xr-text-repr-fallback {\n",
       "  /* fallback to plain text repr when CSS is not injected (untrusted notebook) */\n",
       "  display: none;\n",
       "}\n",
       "\n",
       ".xr-header {\n",
       "  padding-top: 6px;\n",
       "  padding-bottom: 6px;\n",
       "  margin-bottom: 4px;\n",
       "  border-bottom: solid 1px var(--xr-border-color);\n",
       "}\n",
       "\n",
       ".xr-header > div,\n",
       ".xr-header > ul {\n",
       "  display: inline;\n",
       "  margin-top: 0;\n",
       "  margin-bottom: 0;\n",
       "}\n",
       "\n",
       ".xr-obj-type,\n",
       ".xr-array-name {\n",
       "  margin-left: 2px;\n",
       "  margin-right: 10px;\n",
       "}\n",
       "\n",
       ".xr-obj-type {\n",
       "  color: var(--xr-font-color2);\n",
       "}\n",
       "\n",
       ".xr-sections {\n",
       "  padding-left: 0 !important;\n",
       "  display: grid;\n",
       "  grid-template-columns: 150px auto auto 1fr 20px 20px;\n",
       "}\n",
       "\n",
       ".xr-section-item {\n",
       "  display: contents;\n",
       "}\n",
       "\n",
       ".xr-section-item input {\n",
       "  display: none;\n",
       "}\n",
       "\n",
       ".xr-section-item input + label {\n",
       "  color: var(--xr-disabled-color);\n",
       "}\n",
       "\n",
       ".xr-section-item input:enabled + label {\n",
       "  cursor: pointer;\n",
       "  color: var(--xr-font-color2);\n",
       "}\n",
       "\n",
       ".xr-section-item input:enabled + label:hover {\n",
       "  color: var(--xr-font-color0);\n",
       "}\n",
       "\n",
       ".xr-section-summary {\n",
       "  grid-column: 1;\n",
       "  color: var(--xr-font-color2);\n",
       "  font-weight: 500;\n",
       "}\n",
       "\n",
       ".xr-section-summary > span {\n",
       "  display: inline-block;\n",
       "  padding-left: 0.5em;\n",
       "}\n",
       "\n",
       ".xr-section-summary-in:disabled + label {\n",
       "  color: var(--xr-font-color2);\n",
       "}\n",
       "\n",
       ".xr-section-summary-in + label:before {\n",
       "  display: inline-block;\n",
       "  content: '►';\n",
       "  font-size: 11px;\n",
       "  width: 15px;\n",
       "  text-align: center;\n",
       "}\n",
       "\n",
       ".xr-section-summary-in:disabled + label:before {\n",
       "  color: var(--xr-disabled-color);\n",
       "}\n",
       "\n",
       ".xr-section-summary-in:checked + label:before {\n",
       "  content: '▼';\n",
       "}\n",
       "\n",
       ".xr-section-summary-in:checked + label > span {\n",
       "  display: none;\n",
       "}\n",
       "\n",
       ".xr-section-summary,\n",
       ".xr-section-inline-details {\n",
       "  padding-top: 4px;\n",
       "  padding-bottom: 4px;\n",
       "}\n",
       "\n",
       ".xr-section-inline-details {\n",
       "  grid-column: 2 / -1;\n",
       "}\n",
       "\n",
       ".xr-section-details {\n",
       "  display: none;\n",
       "  grid-column: 1 / -1;\n",
       "  margin-bottom: 5px;\n",
       "}\n",
       "\n",
       ".xr-section-summary-in:checked ~ .xr-section-details {\n",
       "  display: contents;\n",
       "}\n",
       "\n",
       ".xr-array-wrap {\n",
       "  grid-column: 1 / -1;\n",
       "  display: grid;\n",
       "  grid-template-columns: 20px auto;\n",
       "}\n",
       "\n",
       ".xr-array-wrap > label {\n",
       "  grid-column: 1;\n",
       "  vertical-align: top;\n",
       "}\n",
       "\n",
       ".xr-preview {\n",
       "  color: var(--xr-font-color3);\n",
       "}\n",
       "\n",
       ".xr-array-preview,\n",
       ".xr-array-data {\n",
       "  padding: 0 5px !important;\n",
       "  grid-column: 2;\n",
       "}\n",
       "\n",
       ".xr-array-data,\n",
       ".xr-array-in:checked ~ .xr-array-preview {\n",
       "  display: none;\n",
       "}\n",
       "\n",
       ".xr-array-in:checked ~ .xr-array-data,\n",
       ".xr-array-preview {\n",
       "  display: inline-block;\n",
       "}\n",
       "\n",
       ".xr-dim-list {\n",
       "  display: inline-block !important;\n",
       "  list-style: none;\n",
       "  padding: 0 !important;\n",
       "  margin: 0;\n",
       "}\n",
       "\n",
       ".xr-dim-list li {\n",
       "  display: inline-block;\n",
       "  padding: 0;\n",
       "  margin: 0;\n",
       "}\n",
       "\n",
       ".xr-dim-list:before {\n",
       "  content: '(';\n",
       "}\n",
       "\n",
       ".xr-dim-list:after {\n",
       "  content: ')';\n",
       "}\n",
       "\n",
       ".xr-dim-list li:not(:last-child):after {\n",
       "  content: ',';\n",
       "  padding-right: 5px;\n",
       "}\n",
       "\n",
       ".xr-has-index {\n",
       "  font-weight: bold;\n",
       "}\n",
       "\n",
       ".xr-var-list,\n",
       ".xr-var-item {\n",
       "  display: contents;\n",
       "}\n",
       "\n",
       ".xr-var-item > div,\n",
       ".xr-var-item label,\n",
       ".xr-var-item > .xr-var-name span {\n",
       "  background-color: var(--xr-background-color-row-even);\n",
       "  margin-bottom: 0;\n",
       "}\n",
       "\n",
       ".xr-var-item > .xr-var-name:hover span {\n",
       "  padding-right: 5px;\n",
       "}\n",
       "\n",
       ".xr-var-list > li:nth-child(odd) > div,\n",
       ".xr-var-list > li:nth-child(odd) > label,\n",
       ".xr-var-list > li:nth-child(odd) > .xr-var-name span {\n",
       "  background-color: var(--xr-background-color-row-odd);\n",
       "}\n",
       "\n",
       ".xr-var-name {\n",
       "  grid-column: 1;\n",
       "}\n",
       "\n",
       ".xr-var-dims {\n",
       "  grid-column: 2;\n",
       "}\n",
       "\n",
       ".xr-var-dtype {\n",
       "  grid-column: 3;\n",
       "  text-align: right;\n",
       "  color: var(--xr-font-color2);\n",
       "}\n",
       "\n",
       ".xr-var-preview {\n",
       "  grid-column: 4;\n",
       "}\n",
       "\n",
       ".xr-index-preview {\n",
       "  grid-column: 2 / 5;\n",
       "  color: var(--xr-font-color2);\n",
       "}\n",
       "\n",
       ".xr-var-name,\n",
       ".xr-var-dims,\n",
       ".xr-var-dtype,\n",
       ".xr-preview,\n",
       ".xr-attrs dt {\n",
       "  white-space: nowrap;\n",
       "  overflow: hidden;\n",
       "  text-overflow: ellipsis;\n",
       "  padding-right: 10px;\n",
       "}\n",
       "\n",
       ".xr-var-name:hover,\n",
       ".xr-var-dims:hover,\n",
       ".xr-var-dtype:hover,\n",
       ".xr-attrs dt:hover {\n",
       "  overflow: visible;\n",
       "  width: auto;\n",
       "  z-index: 1;\n",
       "}\n",
       "\n",
       ".xr-var-attrs,\n",
       ".xr-var-data,\n",
       ".xr-index-data {\n",
       "  display: none;\n",
       "  background-color: var(--xr-background-color) !important;\n",
       "  padding-bottom: 5px !important;\n",
       "}\n",
       "\n",
       ".xr-var-attrs-in:checked ~ .xr-var-attrs,\n",
       ".xr-var-data-in:checked ~ .xr-var-data,\n",
       ".xr-index-data-in:checked ~ .xr-index-data {\n",
       "  display: block;\n",
       "}\n",
       "\n",
       ".xr-var-data > table {\n",
       "  float: right;\n",
       "}\n",
       "\n",
       ".xr-var-name span,\n",
       ".xr-var-data,\n",
       ".xr-index-name div,\n",
       ".xr-index-data,\n",
       ".xr-attrs {\n",
       "  padding-left: 25px !important;\n",
       "}\n",
       "\n",
       ".xr-attrs,\n",
       ".xr-var-attrs,\n",
       ".xr-var-data,\n",
       ".xr-index-data {\n",
       "  grid-column: 1 / -1;\n",
       "}\n",
       "\n",
       "dl.xr-attrs {\n",
       "  padding: 0;\n",
       "  margin: 0;\n",
       "  display: grid;\n",
       "  grid-template-columns: 125px auto;\n",
       "}\n",
       "\n",
       ".xr-attrs dt,\n",
       ".xr-attrs dd {\n",
       "  padding: 0;\n",
       "  margin: 0;\n",
       "  float: left;\n",
       "  padding-right: 10px;\n",
       "  width: auto;\n",
       "}\n",
       "\n",
       ".xr-attrs dt {\n",
       "  font-weight: normal;\n",
       "  grid-column: 1;\n",
       "}\n",
       "\n",
       ".xr-attrs dt:hover span {\n",
       "  display: inline-block;\n",
       "  background: var(--xr-background-color);\n",
       "  padding-right: 10px;\n",
       "}\n",
       "\n",
       ".xr-attrs dd {\n",
       "  grid-column: 2;\n",
       "  white-space: pre-wrap;\n",
       "  word-break: break-all;\n",
       "}\n",
       "\n",
       ".xr-icon-database,\n",
       ".xr-icon-file-text2,\n",
       ".xr-no-icon {\n",
       "  display: inline-block;\n",
       "  vertical-align: middle;\n",
       "  width: 1em;\n",
       "  height: 1.5em !important;\n",
       "  stroke-width: 0;\n",
       "  stroke: currentColor;\n",
       "  fill: currentColor;\n",
       "}\n",
       "</style><pre class='xr-text-repr-fallback'>&lt;xarray.Dataset&gt;\n",
       "Dimensions:    (time: 1504166)\n",
       "Coordinates:\n",
       "  * time       (time) datetime64[ns] 2012-10-02T00:06:42.790372 ... 2012-12-0...\n",
       "Data variables:\n",
       "    ssh_obs    (time) float64 0.0068 0.0118 -0.0172 ... -0.156 -0.1723 -0.1581\n",
       "    ssh_model  (time) float64 0.0232 0.0094 -0.0118 ... -0.1925 -0.1974 -0.1997\n",
       "    lon        (time) float64 -55.03 -55.06 -55.1 -55.13 ... -58.03 -58.07 -58.1\n",
       "    lat        (time) float64 41.81 41.76 41.7 41.65 ... 42.8 42.85 42.9 42.95\n",
       "Attributes: (12/29)\n",
       "    description:               SWOT fixed grid\n",
       "    corresponding_grid:        /data/MSA_ETU/mballarotta/ETUDE_BOOST-SWOT/out...\n",
       "    title:                     SWOT-like data simulated by SWOT simulator\n",
       "    keywords:                  SWOT, altimetry, SSH, satellite, remote sensing\n",
       "    Conventions:               CF-1.6\n",
       "    summary:                   SWOT grid data produced\n",
       "    ...                        ...\n",
       "    date_modified:             2018-11-27T16:45:37Z\n",
       "    keywords_vocabulary:       NASA\n",
       "    references:                Gaultier, L., C. Ubelmann, and L.-L. Fu, 2016:...\n",
       "    mods_author:               \n",
       "    mods_time:                 2023-01-19 15:57:18.633054+00:00\n",
       "    mods_desc:                 Alongtrack conversion: Flattened Array, Swappe...</pre><div class='xr-wrap' style='display:none'><div class='xr-header'><div class='xr-obj-type'>xarray.Dataset</div></div><ul class='xr-sections'><li class='xr-section-item'><input id='section-2cb30441-431d-4cbe-94d7-cb69f3a32cef' class='xr-section-summary-in' type='checkbox' disabled ><label for='section-2cb30441-431d-4cbe-94d7-cb69f3a32cef' class='xr-section-summary'  title='Expand/collapse section'>Dimensions:</label><div class='xr-section-inline-details'><ul class='xr-dim-list'><li><span class='xr-has-index'>time</span>: 1504166</li></ul></div><div class='xr-section-details'></div></li><li class='xr-section-item'><input id='section-f9d792af-7935-4a52-84e7-3c2b5e59e94d' class='xr-section-summary-in' type='checkbox'  checked><label for='section-f9d792af-7935-4a52-84e7-3c2b5e59e94d' class='xr-section-summary' >Coordinates: <span>(1)</span></label><div class='xr-section-inline-details'></div><div class='xr-section-details'><ul class='xr-var-list'><li class='xr-var-item'><div class='xr-var-name'><span class='xr-has-index'>time</span></div><div class='xr-var-dims'>(time)</div><div class='xr-var-dtype'>datetime64[ns]</div><div class='xr-var-preview xr-preview'>2012-10-02T00:06:42.790372 ... 2...</div><input id='attrs-e1a9f742-f5fe-4976-9630-feb76a1ede6b' class='xr-var-attrs-in' type='checkbox' ><label for='attrs-e1a9f742-f5fe-4976-9630-feb76a1ede6b' title='Show/Hide attributes'><svg class='icon xr-icon-file-text2'><use xlink:href='#icon-file-text2'></use></svg></label><input id='data-da4d4c75-36ff-41a5-83dd-34d94676a47e' class='xr-var-data-in' type='checkbox'><label for='data-da4d4c75-36ff-41a5-83dd-34d94676a47e' title='Show/Hide data repr'><svg class='icon xr-icon-database'><use xlink:href='#icon-database'></use></svg></label><div class='xr-var-attrs'><dl class='xr-attrs'><dt><span>units :</span></dt><dd>seconds since 2012-10-01</dd></dl></div><div class='xr-var-data'><pre>array([&#x27;2012-10-02T00:06:42.790372000&#x27;, &#x27;2012-10-02T00:06:43.779141000&#x27;,\n",
       "       &#x27;2012-10-02T00:06:44.767911000&#x27;, ..., &#x27;2012-12-01T19:29:14.712979000&#x27;,\n",
       "       &#x27;2012-12-01T19:29:15.372159000&#x27;, &#x27;2012-12-01T19:29:16.690518000&#x27;],\n",
       "      dtype=&#x27;datetime64[ns]&#x27;)</pre></div></li></ul></div></li><li class='xr-section-item'><input id='section-098b36eb-a252-4ecd-b97c-924c5a2bb28a' class='xr-section-summary-in' type='checkbox'  checked><label for='section-098b36eb-a252-4ecd-b97c-924c5a2bb28a' class='xr-section-summary' >Data variables: <span>(4)</span></label><div class='xr-section-inline-details'></div><div class='xr-section-details'><ul class='xr-var-list'><li class='xr-var-item'><div class='xr-var-name'><span>ssh_obs</span></div><div class='xr-var-dims'>(time)</div><div class='xr-var-dtype'>float64</div><div class='xr-var-preview xr-preview'>0.0068 0.0118 ... -0.1723 -0.1581</div><input id='attrs-b3d5edbf-cf7b-43ef-a823-2a6a30b84125' class='xr-var-attrs-in' type='checkbox' ><label for='attrs-b3d5edbf-cf7b-43ef-a823-2a6a30b84125' title='Show/Hide attributes'><svg class='icon xr-icon-file-text2'><use xlink:href='#icon-file-text2'></use></svg></label><input id='data-c420acdb-b947-4b02-ba55-53823e080e58' class='xr-var-data-in' type='checkbox'><label for='data-c420acdb-b947-4b02-ba55-53823e080e58' title='Show/Hide data repr'><svg class='icon xr-icon-database'><use xlink:href='#icon-database'></use></svg></label><div class='xr-var-attrs'><dl class='xr-attrs'><dt><span>valid_min :</span></dt><dd>-1500000</dd><dt><span>valid_max :</span></dt><dd>1500000</dd><dt><span>units :</span></dt><dd>m</dd><dt><span>long_name :</span></dt><dd>Observed SSH (ssh_model + errors)</dd></dl></div><div class='xr-var-data'><pre>array([ 0.0068,  0.0118, -0.0172, ..., -0.156 , -0.1723, -0.1581])</pre></div></li><li class='xr-var-item'><div class='xr-var-name'><span>ssh_model</span></div><div class='xr-var-dims'>(time)</div><div class='xr-var-dtype'>float64</div><div class='xr-var-preview xr-preview'>0.0232 0.0094 ... -0.1974 -0.1997</div><input id='attrs-a9ce658d-4ab2-4a09-97d2-b0657ef10372' class='xr-var-attrs-in' type='checkbox' ><label for='attrs-a9ce658d-4ab2-4a09-97d2-b0657ef10372' title='Show/Hide attributes'><svg class='icon xr-icon-file-text2'><use xlink:href='#icon-file-text2'></use></svg></label><input id='data-a035ae9f-1ed0-497a-9d3e-21427a7896f5' class='xr-var-data-in' type='checkbox'><label for='data-a035ae9f-1ed0-497a-9d3e-21427a7896f5' title='Show/Hide data repr'><svg class='icon xr-icon-database'><use xlink:href='#icon-database'></use></svg></label><div class='xr-var-attrs'><dl class='xr-attrs'><dt><span>valid_min :</span></dt><dd>-1500000</dd><dt><span>valid_max :</span></dt><dd>1500000</dd><dt><span>units :</span></dt><dd>m</dd><dt><span>long_name :</span></dt><dd>SSH interpolated from model</dd></dl></div><div class='xr-var-data'><pre>array([ 0.0232,  0.0094, -0.0118, ..., -0.1925, -0.1974, -0.1997])</pre></div></li><li class='xr-var-item'><div class='xr-var-name'><span>lon</span></div><div class='xr-var-dims'>(time)</div><div class='xr-var-dtype'>float64</div><div class='xr-var-preview xr-preview'>-55.03 -55.06 ... -58.07 -58.1</div><input id='attrs-f5a38f82-697f-4b67-b5f7-4a29832031bc' class='xr-var-attrs-in' type='checkbox' ><label for='attrs-f5a38f82-697f-4b67-b5f7-4a29832031bc' title='Show/Hide attributes'><svg class='icon xr-icon-file-text2'><use xlink:href='#icon-file-text2'></use></svg></label><input id='data-2692c6dc-5550-4c13-8bc4-bafff5ff5174' class='xr-var-data-in' type='checkbox'><label for='data-2692c6dc-5550-4c13-8bc4-bafff5ff5174' title='Show/Hide data repr'><svg class='icon xr-icon-database'><use xlink:href='#icon-database'></use></svg></label><div class='xr-var-attrs'><dl class='xr-attrs'><dt><span>units :</span></dt><dd>degrees_east</dd><dt><span>standard_name :</span></dt><dd>longitude</dd><dt><span>long_name :</span></dt><dd>Longitude</dd></dl></div><div class='xr-var-data'><pre>array([-55.025536, -55.06208 , -55.098528, ..., -58.028288, -58.065984,\n",
       "       -58.103712])</pre></div></li><li class='xr-var-item'><div class='xr-var-name'><span>lat</span></div><div class='xr-var-dims'>(time)</div><div class='xr-var-dtype'>float64</div><div class='xr-var-preview xr-preview'>41.81 41.76 41.7 ... 42.9 42.95</div><input id='attrs-e140f5fe-a677-4c38-bb5d-3048a768f86f' class='xr-var-attrs-in' type='checkbox' ><label for='attrs-e140f5fe-a677-4c38-bb5d-3048a768f86f' title='Show/Hide attributes'><svg class='icon xr-icon-file-text2'><use xlink:href='#icon-file-text2'></use></svg></label><input id='data-89f2a73d-3bb5-4a97-bf81-b6aa4533dab9' class='xr-var-data-in' type='checkbox'><label for='data-89f2a73d-3bb5-4a97-bf81-b6aa4533dab9' title='Show/Hide data repr'><svg class='icon xr-icon-database'><use xlink:href='#icon-database'></use></svg></label><div class='xr-var-attrs'><dl class='xr-attrs'><dt><span>units :</span></dt><dd>degrees_west</dd><dt><span>standard_name :</span></dt><dd>latitude</dd><dt><span>long_name :</span></dt><dd>Latitude</dd></dl></div><div class='xr-var-data'><pre>array([41.8099  , 41.756628, 41.703352, ..., 42.848308, 42.901368,\n",
       "       42.954424])</pre></div></li></ul></div></li><li class='xr-section-item'><input id='section-44e89b6d-d448-475f-9088-ccfc8284a0a8' class='xr-section-summary-in' type='checkbox'  ><label for='section-44e89b6d-d448-475f-9088-ccfc8284a0a8' class='xr-section-summary' >Indexes: <span>(1)</span></label><div class='xr-section-inline-details'></div><div class='xr-section-details'><ul class='xr-var-list'><li class='xr-var-item'><div class='xr-index-name'><div>time</div></div><div class='xr-index-preview'>PandasIndex</div><div></div><input id='index-16be5c7c-41a2-41e9-8b2b-5f2e54070615' class='xr-index-data-in' type='checkbox'/><label for='index-16be5c7c-41a2-41e9-8b2b-5f2e54070615' title='Show/Hide index repr'><svg class='icon xr-icon-database'><use xlink:href='#icon-database'></use></svg></label><div class='xr-index-data'><pre>PandasIndex(DatetimeIndex([&#x27;2012-10-02 00:06:42.790372&#x27;, &#x27;2012-10-02 00:06:43.779141&#x27;,\n",
       "               &#x27;2012-10-02 00:06:44.767911&#x27;, &#x27;2012-10-02 00:06:45.756680&#x27;,\n",
       "               &#x27;2012-10-02 00:06:46.745450&#x27;, &#x27;2012-10-02 00:06:47.734219&#x27;,\n",
       "               &#x27;2012-10-02 00:06:48.722989&#x27;, &#x27;2012-10-02 00:06:49.711758&#x27;,\n",
       "               &#x27;2012-10-02 00:06:50.700528&#x27;, &#x27;2012-10-02 00:06:51.689297&#x27;,\n",
       "               ...\n",
       "               &#x27;2012-12-01 19:29:07.462002&#x27;, &#x27;2012-12-01 19:29:08.780362&#x27;,\n",
       "               &#x27;2012-12-01 19:29:09.439541&#x27;, &#x27;2012-12-01 19:29:10.757901&#x27;,\n",
       "               &#x27;2012-12-01 19:29:11.417081&#x27;, &#x27;2012-12-01 19:29:12.735440&#x27;,\n",
       "               &#x27;2012-12-01 19:29:13.394620&#x27;, &#x27;2012-12-01 19:29:14.712979&#x27;,\n",
       "               &#x27;2012-12-01 19:29:15.372159&#x27;, &#x27;2012-12-01 19:29:16.690518&#x27;],\n",
       "              dtype=&#x27;datetime64[ns]&#x27;, name=&#x27;time&#x27;, length=1504166, freq=None))</pre></div></li></ul></div></li><li class='xr-section-item'><input id='section-1e326e06-d9ae-4fa9-8e04-1496e7087945' class='xr-section-summary-in' type='checkbox'  ><label for='section-1e326e06-d9ae-4fa9-8e04-1496e7087945' class='xr-section-summary' >Attributes: <span>(29)</span></label><div class='xr-section-inline-details'></div><div class='xr-section-details'><dl class='xr-attrs'><dt><span>description :</span></dt><dd>SWOT fixed grid</dd><dt><span>corresponding_grid :</span></dt><dd>/data/MSA_ETU/mballarotta/ETUDE_BOOST-SWOT/output_SWOTsimulator/swot_HD/BOOST-SWOT_SWOT_grid_p050.nc</dd><dt><span>title :</span></dt><dd>SWOT-like data simulated by SWOT simulator</dd><dt><span>keywords :</span></dt><dd>SWOT, altimetry, SSH, satellite, remote sensing</dd><dt><span>Conventions :</span></dt><dd>CF-1.6</dd><dt><span>summary :</span></dt><dd>SWOT grid data produced</dd><dt><span>Metadata_Conventions :</span></dt><dd>Unidata Dataset Discovery v1.0</dd><dt><span>history :</span></dt><dd>Grid File created by swotsimulator version 2.21</dd><dt><span>processing_level :</span></dt><dd>L2</dd><dt><span>standard_name_vocabulary :</span></dt><dd>CF-1.6</dd><dt><span>creator_name :</span></dt><dd>Lucile Gaultier and Clement Ubelmann</dd><dt><span>creator_email :</span></dt><dd>lucile.gaultier@gmail.com</dd><dt><span>publisher_url :</span></dt><dd>github/SWOTSimulator/</dd><dt><span>time_coverage_start :</span></dt><dd>1.7438599537037014</dd><dt><span>time_coverage_end :</span></dt><dd>1.778879987383002</dd><dt><span>geospatial_lat_min :</span></dt><dd>-78.07</dd><dt><span>geospatial_lat_max :</span></dt><dd>78.07</dd><dt><span>geospatial_lat_units :</span></dt><dd>degrees_north</dd><dt><span>geospatial_lon_max :</span></dt><dd>360.00</dd><dt><span>geospatial_lon_min :</span></dt><dd>0.00</dd><dt><span>geospatial_lon_units :</span></dt><dd>degrees_east</dd><dt><span>project :</span></dt><dd>SWOT</dd><dt><span>date_created :</span></dt><dd>2018-11-27T16:45:37Z</dd><dt><span>date_modified :</span></dt><dd>2018-11-27T16:45:37Z</dd><dt><span>keywords_vocabulary :</span></dt><dd>NASA</dd><dt><span>references :</span></dt><dd>Gaultier, L., C. Ubelmann, and L.-L. Fu, 2016: The Challenge of Using Future SWOT Data for Oceanic Field Reconstruction. J. Atmos. Oceanic Technol., 33, 119-126, doi:10.1175/jtech-d-15-0160.1. http://dx.doi.org/10.1175/JTECH-D-15-0160.1.</dd><dt><span>mods_author :</span></dt><dd></dd><dt><span>mods_time :</span></dt><dd>2023-01-19 15:57:18.633054+00:00</dd><dt><span>mods_desc :</span></dt><dd>Alongtrack conversion: Flattened Array, Swapped dimensions, Sorted wrt time, pandas datetime</dd></dl></div></li></ul></div></div>"
      ],
      "text/plain": [
       "<xarray.Dataset>\n",
       "Dimensions:    (time: 1504166)\n",
       "Coordinates:\n",
       "  * time       (time) datetime64[ns] 2012-10-02T00:06:42.790372 ... 2012-12-0...\n",
       "Data variables:\n",
       "    ssh_obs    (time) float64 0.0068 0.0118 -0.0172 ... -0.156 -0.1723 -0.1581\n",
       "    ssh_model  (time) float64 0.0232 0.0094 -0.0118 ... -0.1925 -0.1974 -0.1997\n",
       "    lon        (time) float64 -55.03 -55.06 -55.1 -55.13 ... -58.03 -58.07 -58.1\n",
       "    lat        (time) float64 41.81 41.76 41.7 41.65 ... 42.8 42.85 42.9 42.95\n",
       "Attributes: (12/29)\n",
       "    description:               SWOT fixed grid\n",
       "    corresponding_grid:        /data/MSA_ETU/mballarotta/ETUDE_BOOST-SWOT/out...\n",
       "    title:                     SWOT-like data simulated by SWOT simulator\n",
       "    keywords:                  SWOT, altimetry, SSH, satellite, remote sensing\n",
       "    Conventions:               CF-1.6\n",
       "    summary:                   SWOT grid data produced\n",
       "    ...                        ...\n",
       "    date_modified:             2018-11-27T16:45:37Z\n",
       "    keywords_vocabulary:       NASA\n",
       "    references:                Gaultier, L., C. Ubelmann, and L.-L. Fu, 2016:...\n",
       "    mods_author:               \n",
       "    mods_time:                 2023-01-19 15:57:18.633054+00:00\n",
       "    mods_desc:                 Alongtrack conversion: Flattened Array, Swappe..."
      ]
     },
     "execution_count": 6,
     "metadata": {},
     "output_type": "execute_result"
    }
   ],
   "source": [
    "xrda_obs = dm.load_xrds()\n",
    "xrda_obs"
   ]
  },
  {
   "cell_type": "code",
   "execution_count": 7,
   "id": "2d5da277-9e83-4475-863c-d853d64710ae",
   "metadata": {},
   "outputs": [],
   "source": [
    "# fig, ax = plt.subplots(ncols=1, figsize=(5,4))\n",
    "\n",
    "# xrda_obs.ssh_obs.isel(time=1).plot.pcolormesh(ax=ax, cmap=\"viridis\")\n",
    "# ax.set(title=\"Original\")\n",
    "\n",
    "# plt.tight_layout()\n",
    "# plt.show()"
   ]
  },
  {
   "cell_type": "code",
   "execution_count": 8,
   "id": "b6041259-00a2-4de1-85b1-2569744ee922",
   "metadata": {},
   "outputs": [],
   "source": [
    "# import geoviews as gv\n",
    "# import geoviews.feature as gf\n",
    "# from cartopy import crs\n",
    "\n",
    "# gv.extension('bokeh', 'matplotlib')"
   ]
  },
  {
   "cell_type": "code",
   "execution_count": 9,
   "id": "b2043e33-8790-4e66-af64-c7f0f2758af8",
   "metadata": {},
   "outputs": [],
   "source": [
    "# xrda_obs"
   ]
  },
  {
   "cell_type": "code",
   "execution_count": 10,
   "id": "405d8c5d-7fe3-4d1f-8943-d8268fc87de3",
   "metadata": {},
   "outputs": [],
   "source": [
    "# dataset = gv.Dataset(xrda_obs)\n",
    "# ensemble1 = dataset.to(gv.Image, ['lon', 'lat'], \"ssh_obs\")\n",
    "# gv.output(ensemble1.opts(cmap='viridis', colorbar=True, fig_size=200, backend='matplotlib') * gf.coastline(),\n",
    "#           backend='matplotlib')"
   ]
  },
  {
   "cell_type": "code",
   "execution_count": 11,
   "id": "689ffb2f-decd-4b19-ad3a-ee264c1088df",
   "metadata": {},
   "outputs": [],
   "source": [
    "# lr = 5e-3\n",
    "# num_epochs = 5_000\n",
    "# num_steps_per_epoch = len(dm.ds_train)\n",
    "\n",
    "# @dataclass\n",
    "# class FoxDataModule:\n",
    "#     _target_: str = \"jejeqx._src.datamodules.image.ImageFox\"\n",
    "#     batch_size: int = 10_000\n",
    "#     train_size: float = 0.5\n",
    "#     shuffle: bool = False\n",
    "#     split_method: str = \"even\"\n",
    "#     resize: int = 4\n",
    "    \n",
    "# @dataclass\n",
    "# class Training:\n",
    "#     num_epochs: int = 2_000\n",
    "\n",
    "# @dataclass\n",
    "# class Model:\n",
    "#     _target_: str = \"jejeqx._src.nets.nerfs.siren.SirenNet\"\n",
    "#     in_size: int = 2\n",
    "#     out_size: int = 3\n",
    "#     width_size: int = 128\n",
    "#     depth: int = 5\n",
    "\n",
    "# @dataclass\n",
    "# class Optimizer:\n",
    "#     _target_: str = \"optax.adam\"\n",
    "#     learning_rate: float = lr\n",
    "    \n",
    "# @dataclass\n",
    "# class Scheduler:\n",
    "#     _target_: str = \"optax.warmup_cosine_decay_schedule\"\n",
    "#     init_value: float = 0.0\n",
    "#     peak_value: float = lr\n",
    "#     warmup_steps: int = 100\n",
    "#     decay_steps: int = int(num_epochs * num_steps_per_epoch)\n",
    "#     end_value: float = 0.01 * lr\n",
    "    \n",
    "# @dataclass\n",
    "# class Config:\n",
    "#     datamodule: FoxDataModule = FoxDataModule()\n",
    "#     model: Model = Model()\n",
    "#     optimizer: Optimizer = Optimizer()\n",
    "#     scheduler: Scheduler = Scheduler()\n",
    "#     num_epochs: int = 2_000"
   ]
  },
  {
   "cell_type": "code",
   "execution_count": 12,
   "id": "68dc918a-caec-4696-9e70-1d101b62d0e9",
   "metadata": {
    "tags": []
   },
   "outputs": [],
   "source": [
    "# import optax\n",
    "\n",
    "# config = Config()\n",
    "# config = OmegaConf.structured(Config())\n",
    "\n",
    "# # initialize datamodule\n",
    "# dm = hydra.utils.instantiate(config.datamodule)\n",
    "\n",
    "# dm.setup()\n",
    "\n",
    "\n",
    "# # initialize optimizer\n",
    "# optimizer = hydra.utils.instantiate(config.optimizer)\n",
    "\n",
    "# # initialize scheduler\n",
    "# num_steps_per_epoch = len(dm.ds_train)\n",
    "# decay_steps = int(num_steps_per_epoch * config.num_epochs)\n",
    "# schedule_fn = hydra.utils.instantiate(config.scheduler, decay_steps=decay_steps)\n",
    "\n",
    "# # initialize optimizer + scheduler\n",
    "# optimizer = optax.chain(optimizer, optax.scale_by_schedule(schedule_fn))\n",
    "\n"
   ]
  },
  {
   "cell_type": "code",
   "execution_count": 13,
   "id": "d5b7ad02-d923-4fca-b106-ce87652b9995",
   "metadata": {},
   "outputs": [],
   "source": [
    "# ibatch = next(iter(dm.train_dataloader()))\n",
    "\n",
    "# print(ibatch[0].shape, ibatch[1].shape, type(ibatch[0]))"
   ]
  },
  {
   "cell_type": "markdown",
   "id": "7c674973-f5a6-4d61-9d77-53b1b935bf10",
   "metadata": {
    "user_expressions": []
   },
   "source": [
    "## Model"
   ]
  },
  {
   "cell_type": "markdown",
   "id": "fdbada9e-5be2-4abd-b5bc-1693d0ef2523",
   "metadata": {
    "pycharm": {
     "name": "#%% md\n"
    },
    "user_expressions": []
   },
   "source": [
    "The input data is a coordinate vector, $\\mathbf{x}_\\phi$, of the image coordinates.\n",
    "\n",
    "$$\n",
    "\\mathbf{x}_\\phi \\in \\mathbb{R}^{D_\\phi}\n",
    "$$\n",
    "\n",
    "where $D_\\phi = [\\text{x}, \\text{y}]$. So we are interested in learning a function, $\\boldsymbol{f}$, such that we can input a coordinate vector and output a scaler/vector value of the pixel value.\n",
    "\n",
    "$$\n",
    "\\mathbf{u} = \\boldsymbol{f}(\\mathbf{x}_\\phi; \\boldsymbol{\\theta})\n",
    "$$"
   ]
  },
  {
   "cell_type": "markdown",
   "id": "667bed9f-1fdc-4f68-8884-6fb0ab2dacb8",
   "metadata": {
    "pycharm": {
     "name": "#%% md\n"
    },
    "user_expressions": []
   },
   "source": [
    "### SIREN Layer\n",
    "\n",
    "$$\n",
    "\\boldsymbol{\\phi}^{(\\ell)}(\\mathbf{x}) = \\sin\n",
    "\\left(\n",
    "\\omega^{(\\ell)}\\left(\n",
    "\\mathbf{w}^{(\\ell)}\\mathbf{x} + \\mathbf{b}^{(\\ell)} + \\mathbf{s}^{(\\ell)}\n",
    "\\right)\\right)\n",
    "$$\n",
    "\n",
    "where $\\mathbf{s}$ is the modulation\n",
    "\n",
    "$$\n",
    "\\mathbf{s}^{(\\ell)} = \\mathbf{w}_z^{(\\ell)}\\mathbf{z} + \\mathbf{b}_z^{(\\ell)}\n",
    "$$"
   ]
  },
  {
   "cell_type": "code",
   "execution_count": 14,
   "id": "75094d0f-21d6-4422-b4ea-3ab4c66e60b3",
   "metadata": {},
   "outputs": [],
   "source": [
    "from jejeqx._src.nets.nerfs.ffn import RFFLayer\n",
    "\n",
    "model_name = \"rff\"\n",
    "\n",
    "\n",
    "model = eqx.nn.Sequential(\n",
    "    [RFFLayer(in_dim=4, num_features=256, out_dim=256, key=jrandom.PRNGKey(42)),\n",
    "     RFFLayer(in_dim=256, num_features=256, out_dim=256, key=jrandom.PRNGKey(123)),\n",
    "     RFFLayer(in_dim=256, num_features=256, out_dim=256, key=jrandom.PRNGKey(23)),\n",
    "     RFFLayer(in_dim=256, num_features=256, out_dim=256, key=jrandom.PRNGKey(81)),\n",
    "     RFFLayer(in_dim=256, num_features=256, out_dim=1, key=jrandom.PRNGKey(32)),\n",
    "    ]\n",
    ")\n",
    "# check output of models\n",
    "out = jax.vmap(model)(jnp.hstack([x_init,t_init]))\n",
    "\n",
    "assert out.shape == y_init.shape"
   ]
  },
  {
   "cell_type": "markdown",
   "id": "1b3580d3-6711-4cfd-8e73-fc5703c0842b",
   "metadata": {
    "user_expressions": []
   },
   "source": [
    "## Optimizer (+ Learning Rate)"
   ]
  },
  {
   "cell_type": "markdown",
   "id": "bee6f311-5612-46dd-ade3-335142f3c0b3",
   "metadata": {
    "user_expressions": []
   },
   "source": [
    "For this, we will use a simple adam optimizer with a `learning_rate` of 1e-4. From many studies, it appears that a lower learning rate works well with this methods because there is a lot of data. In addition, a bigger `batch_size` is also desireable. We will set the `num_epochs` to `1_000` which should be good enough for a single image. Obviously more epochs and a better learning rate scheduler would result in better results but this will be sufficient for this demo."
   ]
  },
  {
   "cell_type": "code",
   "execution_count": null,
   "id": "a16dc47a-bc3e-4bee-8372-4d4503dd049a",
   "metadata": {},
   "outputs": [],
   "source": []
  },
  {
   "cell_type": "code",
   "execution_count": null,
   "id": "3ca01586-a530-47d7-a552-6cc4042fa9e5",
   "metadata": {},
   "outputs": [],
   "source": []
  },
  {
   "cell_type": "markdown",
   "id": "90ebbcdb-880b-4749-9302-1aea52dcfbf6",
   "metadata": {
    "tags": [],
    "user_expressions": []
   },
   "source": [
    "### Scheduler\n",
    "\n",
    "<p align=\"center\">\n",
    "<img src=\"http://www.bdhammel.com/assets/learning-rate/resnet_loss.png\" alt=\"drawing\" width=\"300\"/>\n",
    "<figcaption align = \"center\">\n",
    "  <b>Fig.1 - An example for learning rate reduction when the validation loss stagnates. Source: \n",
    "    <a href=\"http://www.bdhammel.com/assets/learning-rate/resnet_loss.png\">Blog</a>\n",
    "  </b>\n",
    "  </figcaption>\n",
    "</p>\n",
    "\n",
    "We will use a simple learning rate scheduler - `reduce_lr_on_plateau`. This will automatically reduce the learning rate as the validation loss stagnates. It will ensure that we really squeeze out as much performance as possible from our models during the training procedure.We start with a (relatively) high `learning_rate` of `1e-4` so we will set the `patience` to 5 epochs. So if there is no change in with every epoch, we decrease the learning rate by a factor of `0.1`.\n",
    "\n",
    "This is a rather crude (but effective) method but it tends to work well in some situations. A better method might be the `cosine_annealing` method or the `exponential_decay` method. See other [examples](https://www.kaggle.com/code/snnclsr/learning-rate-schedulers/)."
   ]
  },
  {
   "cell_type": "code",
   "execution_count": 15,
   "id": "99036348-eb3d-4d53-835d-4262c7546c9b",
   "metadata": {
    "tags": []
   },
   "outputs": [],
   "source": [
    "import optax\n",
    "\n",
    "num_epochs = 2_000\n",
    "\n",
    "@dataclass\n",
    "class Optimizer:\n",
    "    _target_: str = \"optax.adam\"\n",
    "    learning_rate: float = 1e-4\n",
    "# @dataclass\n",
    "# class Scheduler:\n",
    "#     _target_: str = \"optax.warmup_exponential_decay_schedule\"\n",
    "#     init_value: float = 0.0\n",
    "#     peak_value: float = 1e-2\n",
    "#     warmup_steps: int = 100\n",
    "#     end_value: float = 1e-5\n",
    "#     decay_rate: float = 0.1\n",
    "\n",
    "# FINETUNE!\n",
    "@dataclass\n",
    "class Scheduler:\n",
    "    _target_: str = \"optax.warmup_cosine_decay_schedule\"\n",
    "    init_value: float = 0.0\n",
    "    peak_value: float = 1e-2\n",
    "    warmup_steps: int = 500\n",
    "    end_value: float = 1e-6\n",
    "    \n",
    "scheduler_config = OmegaConf.structured(Scheduler())"
   ]
  },
  {
   "cell_type": "code",
   "execution_count": 16,
   "id": "6a8676fe-0cac-465f-a1bc-f1951b1b6e11",
   "metadata": {
    "tags": []
   },
   "outputs": [],
   "source": [
    "optim_config = OmegaConf.structured(Optimizer())\n",
    "\n",
    "optimizer = hydra.utils.instantiate(optim_config)\n",
    "\n",
    "# num_steps_per_epoch = len(dm.ds_train)\n",
    "\n",
    "# scheduler = hydra.utils.instantiate(\n",
    "#     scheduler_config, \n",
    "#     decay_steps=int(num_epochs * num_steps_per_epoch)\n",
    "# )\n",
    "\n",
    "# optimizer = optax.chain(optimizer, optax.scale_by_schedule(scheduler))"
   ]
  },
  {
   "cell_type": "code",
   "execution_count": null,
   "id": "461daefc-c58b-48e1-8ba3-9322095a21b7",
   "metadata": {},
   "outputs": [],
   "source": []
  },
  {
   "cell_type": "markdown",
   "id": "7327bdf1-7e7d-458c-99f7-2d85ba48d185",
   "metadata": {
    "user_expressions": []
   },
   "source": [
    "## Trainer Module"
   ]
  },
  {
   "cell_type": "code",
   "execution_count": 17,
   "id": "8a54b919-1dd4-4bad-bd4d-1c9d4dc92a0f",
   "metadata": {
    "collapsed": false,
    "jupyter": {
     "outputs_hidden": false
    }
   },
   "outputs": [],
   "source": [
    "import glob\n",
    "import os\n",
    "from pathlib import Path\n",
    "\n",
    "from jejeqx._src.trainers.base import TrainerModule\n",
    "from jejeqx._src.trainers.callbacks import wandb_model_artifact\n",
    "from jejeqx._src.losses import psnr\n",
    "\n",
    "\n",
    "class RegressorTrainer(TrainerModule):\n",
    "    def __init__(self,\n",
    "                 model,\n",
    "                 optimizer,\n",
    "                 **kwargs):\n",
    "        super().__init__(\n",
    "            model=model, \n",
    "            optimizer=optimizer, \n",
    "            pl_logger=None,\n",
    "            **kwargs\n",
    "        )\n",
    "        \n",
    "    @property\n",
    "    def model(self):\n",
    "        return self.state.params\n",
    "\n",
    "    @property\n",
    "    def model_batch(self):\n",
    "        return jax.vmap(self.state.params, in_axes=(0,0))\n",
    "\n",
    "    def create_functions(self):\n",
    "\n",
    "        @eqx.filter_value_and_grad\n",
    "        def mse_loss(model, batch):\n",
    "            x, t, y = batch[\"spatial\"], batch[\"temporal\"], batch[\"data\"]\n",
    "            # pred = jax.vmap(model, in_axes=(0,0))(x, t)\n",
    "            pred = jax.vmap(model)(jnp.hstack([x, t]))\n",
    "            loss = jnp.mean((y - pred)**2)\n",
    "            return loss\n",
    "        \n",
    "        def train_step(state, batch):\n",
    "            \n",
    "            loss, grads = mse_loss(state.params, batch)\n",
    "            state = state.update_state(state, grads)\n",
    "            psnr_loss = psnr(loss) \n",
    "            metrics = {\"loss\": loss, \"psnr\": psnr_loss}\n",
    "            return state, loss, metrics\n",
    "\n",
    "        def eval_step(model, batch):\n",
    "            loss, _ = mse_loss(model, batch)\n",
    "            psnr_loss = psnr(loss) \n",
    "            return {\"loss\": loss, \"psnr\": psnr_loss}\n",
    "        \n",
    "        def test_step(model, batch):\n",
    "            x, t, y = batch[\"spatial\"], batch[\"temporal\"], batch[\"data\"]\n",
    "            pred = jax.vmap(model)(jnp.hstack([x, t]))\n",
    "            loss, _ = mse_loss(model, batch)\n",
    "            psnr_loss = psnr(loss)\n",
    "            return pred, {\"loss\": loss, \"psnr\": psnr_loss}\n",
    "        \n",
    "        def predict_step(model, batch):\n",
    "            x, t = batch[\"spatial\"], batch[\"temporal\"]\n",
    "            pred = jax.vmap(model)(jnp.hstack([x, t]))\n",
    "            return pred\n",
    "\n",
    "        return train_step, eval_step, test_step, predict_step\n",
    "    \n",
    "    def on_training_end(self,):\n",
    "        \n",
    "        if self.pl_logger:\n",
    "            save_dir = Path(self.log_dir).joinpath(self.save_name)\n",
    "            self.save_model(save_dir)\n",
    "            wandb_model_artifact(self)\n",
    "            self.pl_logger.finalize(\"success\")\n",
    "        \n",
    "        \n"
   ]
  },
  {
   "cell_type": "code",
   "execution_count": 18,
   "id": "e1df158c-9126-4e8e-b5ab-ae01c0a34c06",
   "metadata": {
    "collapsed": false,
    "jupyter": {
     "outputs_hidden": false
    }
   },
   "outputs": [],
   "source": [
    "seed = 123\n",
    "debug = False\n",
    "enable_progress_bar = False\n",
    "log_dir = \"./\"\n",
    "\n",
    "trainer = RegressorTrainer(\n",
    "    model, \n",
    "    optimizer, \n",
    "    seed=seed, \n",
    "    debug=debug, \n",
    "    enable_progress_bar=enable_progress_bar,\n",
    "    log_dir=log_dir\n",
    ")\n",
    "\n",
    "train_more = True\n",
    "save_more = True"
   ]
  },
  {
   "cell_type": "code",
   "execution_count": 19,
   "id": "54591d79-21a2-4787-8bb8-7f25c595f2e7",
   "metadata": {},
   "outputs": [
    {
     "name": "stdout",
     "output_type": "stream",
     "text": [
      "CPU times: user 7.99 s, sys: 178 ms, total: 8.17 s\n",
      "Wall time: 7.71 s\n"
     ]
    },
    {
     "data": {
      "text/plain": [
       "{'loss': 0.31772783398628235, 'psnr': 7.352322101593018}"
      ]
     },
     "execution_count": 19,
     "metadata": {},
     "output_type": "execute_result"
    }
   ],
   "source": [
    "%%time\n",
    "\n",
    "out, metrics = trainer.test_model(dm.test_dataloader())\n",
    "metrics"
   ]
  },
  {
   "cell_type": "code",
   "execution_count": 20,
   "id": "e6dff88d",
   "metadata": {
    "tags": []
   },
   "outputs": [],
   "source": [
    "\n",
    "\n",
    "if model_name == \"rff\":\n",
    "    # trainer.load_model(\"./checkpoints/checkpoint_model_rff_ssh_nadir.ckpt\")\n",
    "    # trainer.load_model(\"./checkpoints/checkpoint_model_rff_ssh_swot.ckpt\")\n",
    "    # trainer.load_model(\"./checkpoints/checkpoint_model_rff_ssh_swot_scratch.ckpt\")\n",
    "    # trainer.load_model(\"./checkpoints/checkpoint_natl60_model_rff.ckpt\")\n",
    "    trainer.load_model(\"./checkpoints/checkpoint_model_rff_ssh_nadir.ckpt\")\n",
    "elif model_name == \"siren\":\n",
    "    trainer.load_model(\"./checkpoints/checkpoint_model_siren_ssh_swot.ckpt\")"
   ]
  },
  {
   "cell_type": "code",
   "execution_count": 21,
   "id": "8616b022-0b0b-42bd-ad8a-eb8683311ca5",
   "metadata": {},
   "outputs": [
    {
     "name": "stdout",
     "output_type": "stream",
     "text": [
      "CPU times: user 7.66 s, sys: 82.9 ms, total: 7.74 s\n",
      "Wall time: 6.79 s\n"
     ]
    },
    {
     "data": {
      "text/plain": [
       "{'loss': 0.008900788612663746, 'psnr': 43.30922317504883}"
      ]
     },
     "execution_count": 21,
     "metadata": {},
     "output_type": "execute_result"
    }
   ],
   "source": [
    "%%time\n",
    "\n",
    "out, metrics = trainer.test_model(dm.test_dataloader())\n",
    "metrics"
   ]
  },
  {
   "cell_type": "code",
   "execution_count": 22,
   "id": "73b5d0fd-628d-45f4-8eff-21be28d1c977",
   "metadata": {
    "tags": []
   },
   "outputs": [
    {
     "name": "stderr",
     "output_type": "stream",
     "text": [
      "Epochs: 2000 | Loss: 1.785e-04: 100%|██████████| 2000/2000 [41:59<00:00,  1.26s/it]"
     ]
    },
    {
     "name": "stdout",
     "output_type": "stream",
     "text": [
      "CPU times: user 58min 56s, sys: 20.5 s, total: 59min 16s\n",
      "Wall time: 41min 59s\n"
     ]
    },
    {
     "name": "stderr",
     "output_type": "stream",
     "text": [
      "\n"
     ]
    }
   ],
   "source": [
    "%%time\n",
    "\n",
    "metrics = trainer.train_model(dm, num_epochs=num_epochs)"
   ]
  },
  {
   "cell_type": "code",
   "execution_count": 24,
   "id": "68ad3663-3e31-4504-a584-fadb4a5b0efe",
   "metadata": {},
   "outputs": [
    {
     "name": "stdout",
     "output_type": "stream",
     "text": [
      "CPU times: user 5.63 s, sys: 60.3 ms, total: 5.69 s\n",
      "Wall time: 5.55 s\n"
     ]
    },
    {
     "data": {
      "text/plain": [
       "{'loss': 0.0002372775343246758, 'psnr': 77.02493286132812}"
      ]
     },
     "execution_count": 24,
     "metadata": {},
     "output_type": "execute_result"
    }
   ],
   "source": [
    "%%time\n",
    "\n",
    "out, metrics = trainer.test_model(dm.test_dataloader())\n",
    "metrics"
   ]
  },
  {
   "cell_type": "code",
   "execution_count": 25,
   "id": "20449b9d-6229-400b-8502-ac280a2faf67",
   "metadata": {},
   "outputs": [],
   "source": [
    "if save_more:\n",
    "    if model_name == \"rff\":\n",
    "        trainer.save_model(\"./checkpoints/checkpoint_model_rff_ssh_swot.ckpt\")\n",
    "    elif model_name == \"siren\":\n",
    "        trainer.save_model(\"./checkpoints/checkpoint_model_siren_ssh_swot.ckpt\")"
   ]
  },
  {
   "cell_type": "markdown",
   "id": "96d51ff8-ad49-4d64-bafe-b54a044adcd3",
   "metadata": {
    "user_expressions": []
   },
   "source": [
    "## Evaluation\n",
    "\n",
    "We will predict the whole dataset at the full resolution available for the same time period.\n",
    "\n",
    "`01-June-2013 :--> 15-June-2013`"
   ]
  },
  {
   "cell_type": "code",
   "execution_count": 26,
   "id": "8894b25c-5ade-4270-9294-4927cf90b336",
   "metadata": {},
   "outputs": [],
   "source": [
    "from dataclasses import dataclass, field\n",
    "from typing import List, Dict\n",
    "\n",
    "\n",
    "@dataclass\n",
    "class SSHDMEVAL:\n",
    "    _target_: str = \"jejeqx._src.datamodules.coords.EvalCoordDM\"\n",
    "    paths: str = \"/gpfswork/rech/yrf/commun/data_challenges/dc20a_osse/test/dc_ref/NATL60-CJM165_GULFSTREAM*\"\n",
    "    batch_size: int = 10_000\n",
    "    shuffle: bool = False\n",
    "    train_size: float = 0.80\n",
    "    decode_times: bool = True\n",
    "    evaluation: bool = True\n",
    "    spatial_coords: List = field(default_factory=lambda : [\"lat\", \"lon\"])\n",
    "    temporal_coords: List = field(default_factory=lambda: [\"time\"])\n",
    "    variables: List = field(default_factory=lambda : [\"sossheig\"])\n",
    "    coarsen: Dict = field(default_factory=lambda : {\"lon\": 4, \"lat\": 4})\n",
    "    resample: str = \"1D\"\n",
    "    \n",
    "# spatial transform\n",
    "spatial_transforms = Pipeline([\n",
    "    (\"cartesian3d\", Spherical2Cartesian(radius=1.0, units=\"degrees\")),\n",
    "    # (\"spatialminmax\", MinMaxDF([\"x\", \"y\", \"z\"], -1, 1)),\n",
    "])\n",
    "\n",
    "temporal_transforms = Pipeline([\n",
    "    (\"timedelta\", TimeDelta(\"2012-10-01\", 1, \"s\")),\n",
    "    (\"timeminmax\", MinMaxDF([\"time\"], -1, 1)),\n",
    "])\n"
   ]
  },
  {
   "cell_type": "code",
   "execution_count": 27,
   "id": "5b9f1ee9-07d7-4d76-82b8-69453a87e036",
   "metadata": {
    "tags": []
   },
   "outputs": [
    {
     "name": "stdout",
     "output_type": "stream",
     "text": [
      "CPU times: user 15.3 s, sys: 2.54 s, total: 17.9 s\n",
      "Wall time: 40.9 s\n"
     ]
    },
    {
     "name": "stderr",
     "output_type": "stream",
     "text": [
      "/gpfsdswork/projects/rech/cli/uvo53rl/projects/jejeqx/jejeqx/_src/transforms/dataframe/temporal.py:34: SettingWithCopyWarning: \n",
      "A value is trying to be set on a copy of a slice from a DataFrame.\n",
      "Try using .loc[row_indexer,col_indexer] = value instead\n",
      "\n",
      "See the caveats in the documentation: https://pandas.pydata.org/pandas-docs/stable/user_guide/indexing.html#returning-a-view-versus-a-copy\n",
      "  X[\"time\"] = time\n",
      "/gpfsdswork/projects/rech/cli/uvo53rl/projects/jejeqx/jejeqx/_src/transforms/dataframe/scaling.py:127: SettingWithCopyWarning: \n",
      "A value is trying to be set on a copy of a slice from a DataFrame.\n",
      "Try using .loc[row_indexer,col_indexer] = value instead\n",
      "\n",
      "See the caveats in the documentation: https://pandas.pydata.org/pandas-docs/stable/user_guide/indexing.html#returning-a-view-versus-a-copy\n",
      "  X[self.columns] = X_var\n"
     ]
    }
   ],
   "source": [
    "%%time\n",
    "\n",
    "# select = {\"time\": slice(\"2012-10-22\", \"2012-11-22\")}\n",
    "select = {\"time\": slice(\"2012-10-22\", \"2012-12-02\")}\n",
    "\n",
    "config_dm = OmegaConf.structured(SSHDMEVAL())\n",
    "\n",
    "dm_eval = hydra.utils.instantiate(\n",
    "    config_dm,\n",
    "    select=select,\n",
    "    spatial_transform=dm.spatial_transform,\n",
    "    temporal_transform=dm.temporal_transform\n",
    ")\n",
    "\n",
    "dm_eval.setup()"
   ]
  },
  {
   "cell_type": "code",
   "execution_count": 28,
   "id": "36ca3be9-35e9-40e8-beac-736a1cf4fc4e",
   "metadata": {},
   "outputs": [
    {
     "name": "stdout",
     "output_type": "stream",
     "text": [
      "Num Points: 945,000\n"
     ]
    }
   ],
   "source": [
    "print(f\"Num Points: {len(dm_eval.ds_test):,}\")"
   ]
  },
  {
   "cell_type": "code",
   "execution_count": 29,
   "id": "0e2d527f-181e-4ca1-8da1-a586246dd6f7",
   "metadata": {},
   "outputs": [
    {
     "name": "stdout",
     "output_type": "stream",
     "text": [
      "CPU times: user 15 s, sys: 2.37 s, total: 17.4 s\n",
      "Wall time: 16.3 s\n"
     ]
    }
   ],
   "source": [
    "%%time\n",
    "\n",
    "xrda = dm_eval.load_xrds()"
   ]
  },
  {
   "cell_type": "code",
   "execution_count": null,
   "id": "b54a93cc-dff4-4c91-a121-e17a57ce69e4",
   "metadata": {},
   "outputs": [],
   "source": [
    "%%time\n",
    "\n",
    "out, metrics = trainer.test_model(dm_eval.test_dataloader())\n",
    "metrics"
   ]
  },
  {
   "cell_type": "code",
   "execution_count": null,
   "id": "d1336da9-e5aa-4611-bffe-311e810c4f89",
   "metadata": {},
   "outputs": [],
   "source": [
    "xrda[\"ssh_rff\"] = dm_eval.data_to_df(out).to_xarray().sossheig"
   ]
  },
  {
   "cell_type": "code",
   "execution_count": null,
   "id": "a4b59b43-807f-4e14-8b63-6cf8317925ff",
   "metadata": {},
   "outputs": [],
   "source": [
    "%matplotlib inline\n",
    "\n",
    "itime = 0\n",
    "\n",
    "fig, ax = plt.subplots(ncols=2, figsize=(8,3))\n",
    "\n",
    "vmin = np.min([xrda.sossheig.min(), xrda.ssh_rff.min()])\n",
    "vmax = np.min([xrda.sossheig.max(), xrda.ssh_rff.max()])\n",
    "\n",
    "xrda.sossheig.isel(time=itime).plot.pcolormesh(\n",
    "    ax=ax[0], cmap=\"viridis\", vmin=vmin, vmax=vmax, robust=True\n",
    ")\n",
    "ax[0].set(title=\"Original\")\n",
    "\n",
    "xrda.ssh_rff.isel(time=itime).plot.pcolormesh(\n",
    "    ax=ax[1], cmap=\"viridis\", vmin=vmin, vmax=vmax, robust=True\n",
    ")\n",
    "ax[1].set(title=\"Random Feature Expansions\")\n",
    "\n",
    "plt.tight_layout()\n",
    "plt.show()\n"
   ]
  },
  {
   "cell_type": "code",
   "execution_count": null,
   "id": "9bd50f4b-d831-4197-aa6a-e596b3f2988c",
   "metadata": {},
   "outputs": [],
   "source": [
    "import common_utils as cutils"
   ]
  },
  {
   "cell_type": "code",
   "execution_count": null,
   "id": "f78c1275-1ccb-4221-90c6-a59be09b4ceb",
   "metadata": {},
   "outputs": [],
   "source": [
    "ds_rff = cutils.calculate_physical_quantities(xrda.ssh_rff)\n",
    "ds_natl60 = cutils.calculate_physical_quantities(xrda.sossheig)"
   ]
  },
  {
   "cell_type": "code",
   "execution_count": null,
   "id": "9d1039f4-249d-41f7-b6bd-487650c43ca1",
   "metadata": {},
   "outputs": [],
   "source": [
    "fig, ax = cutils.plot_analysis_vars([\n",
    "    ds_natl60.isel(time=-1),\n",
    "    ds_rff.isel(time=-1),]\n",
    ")\n",
    "plt.show()"
   ]
  },
  {
   "cell_type": "code",
   "execution_count": null,
   "id": "949195b9-6d5e-44da-addb-c1a596f0dc15",
   "metadata": {},
   "outputs": [],
   "source": [
    "ds_psd_natl60 = cutils.calculate_isotropic_psd(ds_natl60)\n",
    "ds_psd_rff = cutils.calculate_isotropic_psd(ds_rff)\n"
   ]
  },
  {
   "cell_type": "code",
   "execution_count": null,
   "id": "f70dfd3a-e61c-4a24-836d-fb46c6021e7f",
   "metadata": {},
   "outputs": [],
   "source": [
    "fig, ax = cutils.plot_analysis_psd_iso(\n",
    "    [ds_psd_natl60, ds_psd_rff,],\n",
    "    [\"NATL60\",\"RFE\", ]\n",
    ")\n",
    "plt.show()"
   ]
  },
  {
   "cell_type": "code",
   "execution_count": null,
   "id": "300d26a4-5bc4-4dae-994a-cbd1788a11ea",
   "metadata": {},
   "outputs": [],
   "source": []
  }
 ],
 "metadata": {
  "kernelspec": {
   "display_name": "Python [conda env:miniconda3-jejeqx]",
   "language": "python",
   "name": "conda-env-miniconda3-jejeqx-py"
  },
  "language_info": {
   "codemirror_mode": {
    "name": "ipython",
    "version": 3
   },
   "file_extension": ".py",
   "mimetype": "text/x-python",
   "name": "python",
   "nbconvert_exporter": "python",
   "pygments_lexer": "ipython3",
   "version": "3.10.10"
  }
 },
 "nbformat": 4,
 "nbformat_minor": 5
}

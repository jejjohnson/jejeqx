{
 "cells": [
  {
   "cell_type": "markdown",
   "id": "4123c4da-15c8-47f8-9781-7c14c94e2910",
   "metadata": {
    "tags": [],
    "user_expressions": []
   },
   "source": [
    "---\n",
    "title: Sparse Observations\n",
    "date: 2023-04-01\n",
    "authors:\n",
    "  - name: J. Emmanuel Johnson\n",
    "    affiliations:\n",
    "      - MEOM Lab\n",
    "    roles:\n",
    "      - Primary Programmer\n",
    "    email: jemanjohnson34@gmail.com\n",
    "license: CC-BY-4.0\n",
    "keywords: NerFs, SWOT\n",
    "---"
   ]
  },
  {
   "cell_type": "code",
   "execution_count": null,
   "id": "6028f5f4-c74e-42aa-a147-be448542e2de",
   "metadata": {
    "tags": []
   },
   "outputs": [],
   "source": [
    "import autoroot\n",
    "import jax\n",
    "import jax.numpy as jnp\n",
    "import jax.scipy as jsp\n",
    "import jax.random as jrandom\n",
    "import numpy as np\n",
    "import numba as nb\n",
    "import equinox as eqx\n",
    "import kernex as kex\n",
    "import finitediffx as fdx\n",
    "import diffrax as dfx\n",
    "import xarray as xr\n",
    "import metpy\n",
    "import matplotlib.pyplot as plt\n",
    "import seaborn as sns\n",
    "from tqdm.notebook import tqdm, trange\n",
    "from jaxtyping import Float, Array, PyTree, ArrayLike\n",
    "import wandb\n",
    "from omegaconf import OmegaConf\n",
    "import hydra\n",
    "from sklearn import pipeline\n",
    "from sklearn.compose import ColumnTransformer\n",
    "from sklearn.pipeline import Pipeline\n",
    "from jejeqx._src.transforms.dataframe.spatial import Spherical2Cartesian\n",
    "from jejeqx._src.transforms.dataframe.temporal import TimeDelta\n",
    "from jejeqx._src.transforms.dataframe.scaling import MinMaxDF\n",
    "\n",
    "sns.reset_defaults()\n",
    "sns.set_context(context=\"talk\", font_scale=0.7)\n",
    "# Ensure TF does not see GPU and grab all GPU memory.\n",
    "%env XLA_PYTHON_CLIENT_PREALLOCATE=false\n",
    "jax.config.update(\"jax_enable_x64\", True)\n",
    "\n",
    "%matplotlib inline\n",
    "%load_ext autoreload\n",
    "%autoreload 2"
   ]
  },
  {
   "cell_type": "markdown",
   "id": "c71086b9-24cb-4b1d-9eab-93ce21ac8d12",
   "metadata": {
    "tags": [],
    "user_expressions": []
   },
   "source": [
    "## Recap Formulation\n",
    "\n",
    "We are interested in learning non-linear functions $\\boldsymbol{f}$.\n",
    "\n",
    "$$\n",
    "\\begin{aligned}\n",
    "\\boldsymbol{f}(\\mathbf{x}) &=\n",
    "\\mathbf{w}^\\top\\boldsymbol{\\phi}(\\mathbf{x})+\\mathbf{b}\n",
    "\\end{aligned}\n",
    "$$\n",
    "\n",
    "where the $\\boldsymbol{\\phi}(\\cdot)$ is a basis function. Neural Fields typically try to learn this basis funciton via a series of composite functions of the form\n",
    "\n",
    "$$\n",
    "\\boldsymbol{\\phi}(\\mathbf{x}) =\n",
    "\\boldsymbol{\\phi}_L\\circ\\boldsymbol{\\phi}_{L-1}\n",
    "\\circ\\cdots\\circ\n",
    "\\boldsymbol{\\phi}_2\\circ\\boldsymbol{\\phi}_{1}(\\mathbf{x})\n",
    "$$"
   ]
  },
  {
   "cell_type": "markdown",
   "id": "c9495206-f1e1-42d6-beba-13fe42d9253f",
   "metadata": {
    "user_expressions": []
   },
   "source": [
    "## Problems\n",
    "\n",
    "Here, we will demonstrate a problem that a naive network has."
   ]
  },
  {
   "cell_type": "markdown",
   "id": "5ac67435-b31d-4788-b79d-3d2e3b5ac1df",
   "metadata": {
    "user_expressions": []
   },
   "source": [
    "## Sparse Observations"
   ]
  },
  {
   "cell_type": "markdown",
   "id": "e1a64840-9539-4eef-b173-436d7abfe6f8",
   "metadata": {
    "user_expressions": []
   },
   "source": [
    "In the previous examples, we were demonstrating how NerFs perform when we have some clean simulation. \n",
    "However, in many real problems, we do not have access to such clean\n",
    "\n",
    "For this example, we are going to look at the case when we have very sparse observations: as in the case with satellite altimetry data like SWOT. In this case"
   ]
  },
  {
   "cell_type": "code",
   "execution_count": null,
   "id": "aefda25b-01ae-4654-b4ce-03c17732a4a6",
   "metadata": {},
   "outputs": [],
   "source": [
    "# !wget -nc \"https://s3.us-east-1.wasabisys.com/melody/osse_data/data/gridded_data_swot_wocorr/dataset_nadir_0d_swot.nc\""
   ]
  },
  {
   "cell_type": "code",
   "execution_count": null,
   "id": "80de7073-939d-4ab9-a419-d5564a660681",
   "metadata": {},
   "outputs": [],
   "source": [
    "from pathlib import Path"
   ]
  },
  {
   "cell_type": "code",
   "execution_count": null,
   "id": "dde389d0-00ed-4b52-b577-f97c1231a66e",
   "metadata": {},
   "outputs": [],
   "source": [
    "Path(\n",
    "    \"/gpfswork/rech/cli/uvo53rl/projects/jejeqx/data/natl60/dataset_nadir_0d_swot.nc\"\n",
    ").is_file()"
   ]
  },
  {
   "cell_type": "code",
   "execution_count": null,
   "id": "940d5566-74c1-484e-9469-e5b95ddd9d51",
   "metadata": {},
   "outputs": [],
   "source": [
    "from dataclasses import dataclass, field\n",
    "from typing import List, Dict\n",
    "\n",
    "\n",
    "@dataclass\n",
    "class Subset:\n",
    "    _target_: str = \"builtins.slice\"\n",
    "    _args_: List = field(default_factory=lambda: [\"2013-01-01\", \"2013-01-10\"])\n",
    "\n",
    "\n",
    "files = [\n",
    "    \"/gpfswork/rech/yrf/commun/data_challenges/dc20a_osse/work_eman/ml_ready/swot1nadir5.nc\",\n",
    "    # \"/gpfswork/rech/yrf/commun/data_challenges/dc20a_osse/work_eman/ml_ready/nadir4.nc\",\n",
    "]\n",
    "\n",
    "\n",
    "@dataclass\n",
    "class SSHDM:\n",
    "    _target_: str = \"jejeqx._src.datamodules.coords.AlongTrackDM\"\n",
    "    paths: List[str] = field(default_factory=lambda: files)\n",
    "    batch_size: int = 5_000\n",
    "    shuffle: bool = True\n",
    "    train_size: float = 0.90\n",
    "    # subset_size: float = None\n",
    "    spatial_coords: List = field(default_factory=lambda: [\"lat\", \"lon\"])\n",
    "    temporal_coords: List = field(default_factory=lambda: [\"time\"])\n",
    "    variables: List = field(default_factory=lambda: [\"ssh_obs\"])\n",
    "\n",
    "\n",
    "# spatial transform\n",
    "spatial_transforms = Pipeline(\n",
    "    [\n",
    "        (\"cartesian3d\", Spherical2Cartesian(radius=1.0, units=\"degrees\")),\n",
    "        (\"spatialminmax\", MinMaxDF([\"x\", \"y\", \"z\"], -1, 1)),\n",
    "    ]\n",
    ")\n",
    "\n",
    "temporal_transforms = Pipeline(\n",
    "    [\n",
    "        (\"timedelta\", TimeDelta(\"2012-10-01\", 1, \"s\")),\n",
    "        (\"timeminmax\", MinMaxDF([\"time\"], -1, 1)),\n",
    "    ]\n",
    ")"
   ]
  },
  {
   "cell_type": "code",
   "execution_count": null,
   "id": "7f5bf5af-e023-4d3b-a5bc-4bd14de193a4",
   "metadata": {},
   "outputs": [],
   "source": [
    "# select = {\"time\": slice(\"2012-10-22\", \"2012-11-22\")}\n",
    "select = {\"time\": slice(\"2012-10-01\", \"2012-12-02\")}\n",
    "\n",
    "config_dm = OmegaConf.structured(SSHDM())\n",
    "\n",
    "dm = hydra.utils.instantiate(\n",
    "    config_dm,\n",
    "    select=select,\n",
    "    spatial_transform=None,  # spatial_transforms,\n",
    "    temporal_transform=None,  # temporal_transforms,\n",
    ")"
   ]
  },
  {
   "cell_type": "code",
   "execution_count": null,
   "id": "9e367177-80a4-4490-acdc-02d6a2932f73",
   "metadata": {},
   "outputs": [],
   "source": [
    "xrda_obs = dm.load_xrds()\n",
    "xrda_obs"
   ]
  },
  {
   "cell_type": "markdown",
   "id": "9ec7d68c-f548-486a-ab83-d500765172a7",
   "metadata": {},
   "source": [
    "## Evaluation"
   ]
  },
  {
   "cell_type": "code",
   "execution_count": null,
   "id": "8894b25c-5ade-4270-9294-4927cf90b336",
   "metadata": {},
   "outputs": [],
   "source": [
    "from dataclasses import dataclass, field\n",
    "from typing import List, Dict\n",
    "\n",
    "\n",
    "@dataclass\n",
    "class SSHDMEVAL:\n",
    "    _target_: str = \"jejeqx._src.datamodules.coords.EvalCoordDM\"\n",
    "    paths: str = \"/gpfswork/rech/yrf/commun/data_challenges/dc20a_osse/test/dc_ref/NATL60-CJM165_GULFSTREAM*\"\n",
    "    batch_size: int = 10_000\n",
    "    shuffle: bool = False\n",
    "    train_size: float = 0.80\n",
    "    decode_times: bool = True\n",
    "    evaluation: bool = True\n",
    "    spatial_coords: List = field(default_factory=lambda: [\"lat\", \"lon\"])\n",
    "    temporal_coords: List = field(default_factory=lambda: [\"time\"])\n",
    "    variables: List = field(default_factory=lambda: [\"sossheig\"])\n",
    "    coarsen: Dict = field(default_factory=lambda: {\"lon\": 4, \"lat\": 4})\n",
    "    resample: str = \"1D\""
   ]
  },
  {
   "cell_type": "code",
   "execution_count": null,
   "id": "5b9f1ee9-07d7-4d76-82b8-69453a87e036",
   "metadata": {
    "tags": []
   },
   "outputs": [],
   "source": [
    "%%time\n",
    "\n",
    "config_dm = OmegaConf.structured(SSHDMEVAL())\n",
    "\n",
    "dm_eval = hydra.utils.instantiate(\n",
    "    config_dm,\n",
    "    select=select,\n",
    "    spatial_transform=dm.spatial_transform,\n",
    "    temporal_transform=dm.temporal_transform,\n",
    ")"
   ]
  },
  {
   "cell_type": "code",
   "execution_count": null,
   "id": "fe6b2ab6-ccbb-456e-ac82-aff18bb69ab7",
   "metadata": {},
   "outputs": [],
   "source": [
    "%%time\n",
    "\n",
    "xrnatl60 = dm_eval.load_xrds()\n",
    "xrnatl60"
   ]
  },
  {
   "cell_type": "code",
   "execution_count": null,
   "id": "adc4ba2d-01b9-4e81-90b1-208a128db729",
   "metadata": {},
   "outputs": [],
   "source": [
    "import pandas as pd\n",
    "from tqdm.auto import tqdm, trange\n",
    "\n",
    "t_buffer = np.timedelta64(7, \"D\")\n",
    "ts = xrnatl60.time.values"
   ]
  },
  {
   "cell_type": "code",
   "execution_count": null,
   "id": "c35c1d25-4132-46de-be79-e5fed65711d4",
   "metadata": {},
   "outputs": [],
   "source": [
    "dt = ts[1] - ts[0]\n",
    "\n",
    "vtime = (xrda_obs.time.values - xrda_obs.time.values[0]) / dt\n",
    "vts = (ts - ts[0]) / dt\n",
    "\n",
    "xrda_obs[\"vtime\"] = ((\"time\"), vtime)"
   ]
  },
  {
   "cell_type": "code",
   "execution_count": null,
   "id": "ca292017-eb09-4649-ac1b-d66c6b85dfbe",
   "metadata": {},
   "outputs": [],
   "source": [
    "from jaxutils import Dataset\n",
    "import jaxkern as jk\n",
    "import gpjax as gpx\n",
    "import optax"
   ]
  },
  {
   "cell_type": "code",
   "execution_count": null,
   "id": "bc59dcf3-f818-4f83-b468-1d6e16e9e9ec",
   "metadata": {},
   "outputs": [],
   "source": [
    "def init_gp_model(D):\n",
    "    kernel = jk.RBF()\n",
    "    prior = gpx.Prior(kernel=kernel)\n",
    "    key = jrandom.PRNGKey(123)\n",
    "\n",
    "    likelihood = gpx.Gaussian(num_datapoints=D.n)\n",
    "\n",
    "    posterior = prior * likelihood\n",
    "\n",
    "    return posterior\n",
    "\n",
    "\n",
    "def fit_gp_model(posterior, D, parameter_state=None):\n",
    "    key = jrandom.PRNGKey(123)\n",
    "\n",
    "    if parameter_state is not None:\n",
    "        parameter_state = gpx.intialize(\n",
    "            posterior, key, kernel=parameter_state[\"kernel\"]\n",
    "        )\n",
    "    else:\n",
    "        parameter_state = gpx.initialize(\n",
    "            posterior,\n",
    "            key,\n",
    "            kernel={\"lengthscale\": jnp.array([7.0, 1.0, 1.0])},\n",
    "        )\n",
    "\n",
    "    negative_mll = jax.jit(posterior.marginal_log_likelihood(D, negative=True))\n",
    "\n",
    "    optimiser = optax.adam(learning_rate=0.01)\n",
    "\n",
    "    inference_state = gpx.fit(\n",
    "        objective=negative_mll,\n",
    "        parameter_state=param_state,\n",
    "        optax_optim=optimiser,\n",
    "        num_iters=500,\n",
    "    )\n",
    "\n",
    "    return inference_state\n",
    "\n",
    "\n",
    "def get_grid(da, time):\n",
    "    lon = da.lon.values\n",
    "    lat = da.lat.values\n",
    "\n",
    "    T, X, Y = np.meshgrid(time, lat, lon, indexing=\"ij\")\n",
    "    T, X, Y = T.ravel(), X.ravel(), Y.ravel()\n",
    "\n",
    "    return np.stack([T, X, Y], axis=-1)\n",
    "\n",
    "\n",
    "def create_coord_dataframe(X, y):\n",
    "    X = np.asarray(X)\n",
    "    y = np.asarray(y)[:, None]\n",
    "\n",
    "    data = np.hstack([X, y])\n",
    "\n",
    "    df = pd.DataFrame(data, columns=[\"time\", \"lat\", \"lon\", \"ssh\"])\n",
    "    return df\n",
    "\n",
    "\n",
    "def predict_batches(X, y):\n",
    "    return out"
   ]
  },
  {
   "cell_type": "code",
   "execution_count": null,
   "id": "9a7a3aa5-66c5-4f7f-9172-f67bc4a2074c",
   "metadata": {},
   "outputs": [],
   "source": [
    "\n",
    "\n"
   ]
  },
  {
   "cell_type": "code",
   "execution_count": null,
   "id": "0569e43c-5989-46f1-b795-88fd526c0997",
   "metadata": {},
   "outputs": [],
   "source": [
    "xrda_gp = xr.Dataset()\n",
    "num_time = len(vts)\n",
    "params = None\n",
    "rng = np.random.RandomState(123)\n",
    "subset = 5_000\n",
    "\n",
    "with trange(num_time) as pbar:\n",
    "    for i in pbar:\n",
    "        ivt, it = vts[i], ts[i]\n",
    "\n",
    "        sub = xrda_obs.where(np.abs(xrda_obs.time - it) < t_buffer, drop=True)\n",
    "\n",
    "        lat, lon, time, y = (\n",
    "            sub.lat.values,\n",
    "            sub.lon.values,\n",
    "            sub.vtime.values,\n",
    "            sub.ssh_obs.values,\n",
    "        )\n",
    "\n",
    "        pbar.set_description(f\"Time: {it} | Num Points: {len(lat):,}\")\n",
    "\n",
    "        # create training input vector\n",
    "        x = np.stack([time, lat, lon], axis=-1)\n",
    "\n",
    "        # initialize GP\n",
    "        idx = rng.choice(np.arange(x.shape[0]), size=(subset))\n",
    "\n",
    "        D = Dataset(x[idx], y[idx, None])\n",
    "\n",
    "        posterior = init_gp_model(D)\n",
    "\n",
    "        parameter_state = gpx.initialise(\n",
    "            posterior,\n",
    "            jrandom.PRNGKey(123),\n",
    "            kernel={\"lengthscale\": jnp.array([7.0, 1.0, 1.0])},\n",
    "        )\n",
    "        params, *_ = parameter_state.unpack()\n",
    "\n",
    "        # get grid at current time step\n",
    "        X_star = get_grid(xrnatl60, ivt)\n",
    "\n",
    "        def predict_batches(X_star):\n",
    "            out = list()\n",
    "            for ix in np.split(X_star, 10):\n",
    "                latent_dist = posterior(params, D)(ix)\n",
    "                predictive_mean = latent_dist.mean()\n",
    "\n",
    "                out.append(predictive_mean)\n",
    "\n",
    "            out = np.hstack(out)\n",
    "\n",
    "            return out\n",
    "\n",
    "        # predict at current time step\n",
    "        soln = predict_batches(X_star)\n",
    "\n",
    "        # create coordinate dataframe\n",
    "        df = create_coord_dataframe(X_star, soln)\n",
    "        df[\"time\"] = it\n",
    "\n",
    "        # append dataset\n",
    "        xrda_gp = xr.merge(\n",
    "            [xrda_gp, df.set_index([\"time\", \"lat\", \"lon\"]).to_xarray()],\n",
    "        )"
   ]
  },
  {
   "cell_type": "code",
   "execution_count": null,
   "id": "d28b4963-1b1e-45f4-89d2-3ec32a63a5ea",
   "metadata": {},
   "outputs": [],
   "source": [
    "xrda_gp"
   ]
  },
  {
   "cell_type": "code",
   "execution_count": null,
   "id": "0098f245-f988-4778-8dd6-328b1cf3890d",
   "metadata": {},
   "outputs": [],
   "source": [
    "xrda_gp.ssh.sel(time=\"2012-10-22\").plot(cmap=\"viridis\")"
   ]
  },
  {
   "cell_type": "code",
   "execution_count": null,
   "id": "680eb020-d66a-4be7-ad71-85f727ac4f04",
   "metadata": {},
   "outputs": [],
   "source": []
  },
  {
   "cell_type": "code",
   "execution_count": null,
   "id": "2afbe85e-125b-424d-a039-cea9b51d7205",
   "metadata": {},
   "outputs": [],
   "source": [
    "xrnatl60[\"ssh_gp\"] = xrda_gp.ssh"
   ]
  },
  {
   "cell_type": "code",
   "execution_count": null,
   "id": "72382966-82c6-42f7-8327-1d4772f447b7",
   "metadata": {},
   "outputs": [],
   "source": []
  },
  {
   "cell_type": "code",
   "execution_count": null,
   "id": "a4b59b43-807f-4e14-8b63-6cf8317925ff",
   "metadata": {},
   "outputs": [],
   "source": [
    "%matplotlib inline\n",
    "\n",
    "itime = 10\n",
    "\n",
    "fig, ax = plt.subplots(ncols=2, figsize=(8, 3))\n",
    "\n",
    "vmin = np.min([xrnatl60.sossheig.min(), xrnatl60.ssh_gp.min()])\n",
    "vmax = np.min([xrnatl60.sossheig.max(), xrnatl60.ssh_gp.max()])\n",
    "\n",
    "xrnatl60.sossheig.sel(time=\"2012-11-01\").plot.pcolormesh(\n",
    "    ax=ax[0], cmap=\"viridis\", vmin=vmin, vmax=vmax, robust=True\n",
    ")\n",
    "ax[0].set(title=\"Original\")\n",
    "\n",
    "xrnatl60.ssh_gp.sel(time=\"2012-11-01\").plot.pcolormesh(\n",
    "    ax=ax[1], cmap=\"viridis\", vmin=vmin, vmax=vmax, robust=True\n",
    ")\n",
    "ax[1].set(title=\"Naive Gaussian Process\")\n",
    "\n",
    "plt.tight_layout()\n",
    "plt.show()"
   ]
  },
  {
   "cell_type": "code",
   "execution_count": null,
   "id": "9bd50f4b-d831-4197-aa6a-e596b3f2988c",
   "metadata": {},
   "outputs": [],
   "source": [
    "import common_utils as cutils"
   ]
  },
  {
   "cell_type": "code",
   "execution_count": null,
   "id": "f78c1275-1ccb-4221-90c6-a59be09b4ceb",
   "metadata": {},
   "outputs": [],
   "source": [
    "ds_rff = cutils.calculate_physical_quantities(xrnatl60.ssh_gp)\n",
    "ds_natl60 = cutils.calculate_physical_quantities(xrnatl60.sossheig)"
   ]
  },
  {
   "cell_type": "code",
   "execution_count": null,
   "id": "9d1039f4-249d-41f7-b6bd-487650c43ca1",
   "metadata": {},
   "outputs": [],
   "source": [
    "fig, ax = cutils.plot_analysis_vars(\n",
    "    [\n",
    "        ds_natl60.sel(time=\"2012-11-01\"),\n",
    "        ds_rff.sel(time=\"2012-11-01\"),\n",
    "    ]\n",
    ")\n",
    "plt.show()"
   ]
  },
  {
   "cell_type": "code",
   "execution_count": null,
   "id": "949195b9-6d5e-44da-addb-c1a596f0dc15",
   "metadata": {},
   "outputs": [],
   "source": [
    "ds_psd_natl60 = cutils.calculate_isotropic_psd(ds_natl60)\n",
    "ds_psd_rff = cutils.calculate_isotropic_psd(ds_rff)"
   ]
  },
  {
   "cell_type": "code",
   "execution_count": null,
   "id": "f70dfd3a-e61c-4a24-836d-fb46c6021e7f",
   "metadata": {},
   "outputs": [],
   "source": [
    "fig, ax = cutils.plot_analysis_psd_iso(\n",
    "    [\n",
    "        ds_psd_natl60,\n",
    "        ds_psd_rff,\n",
    "    ],\n",
    "    [\n",
    "        \"NATL60\",\n",
    "        \"RFE\",\n",
    "    ],\n",
    ")\n",
    "plt.show()"
   ]
  },
  {
   "cell_type": "code",
   "execution_count": null,
   "id": "ccd7e56a-7751-476e-9998-c44634d5fd9b",
   "metadata": {},
   "outputs": [],
   "source": [
    "ds_scores = cutils.calculate_isotropic_psd_score(ds_rff, ds_natl60)"
   ]
  },
  {
   "cell_type": "code",
   "execution_count": null,
   "id": "954ec588-7873-48fb-8d48-17739a29127e",
   "metadata": {
    "tags": []
   },
   "outputs": [],
   "source": [
    "cutils.plot_analysis_psd_iso_score([ds_scores], [\"RFE\"], [\"k\"])\n",
    "plt.show()"
   ]
  },
  {
   "cell_type": "code",
   "execution_count": null,
   "id": "7104d0f8-d5f9-4fbf-aba4-8d533b90096f",
   "metadata": {},
   "outputs": [],
   "source": [
    "ds_psd_natl60 = cutils.calculate_spacetime_psd(ds_natl60)\n",
    "ds_psd_rff = cutils.calculate_spacetime_psd(ds_rff)"
   ]
  },
  {
   "cell_type": "code",
   "execution_count": null,
   "id": "36f56f32-41b4-4845-bd12-b89f8f91bfd2",
   "metadata": {},
   "outputs": [],
   "source": [
    "fig, ax = cutils.plot_analysis_psd_spacetime(\n",
    "    [\n",
    "        ds_psd_natl60,\n",
    "        ds_psd_rff,\n",
    "    ],\n",
    "    [\n",
    "        \"NATL60\",\n",
    "        \"RFE\",\n",
    "    ],\n",
    ")\n",
    "plt.show()"
   ]
  },
  {
   "cell_type": "code",
   "execution_count": null,
   "id": "102daa0d-614a-4e92-9604-df97cbe94600",
   "metadata": {},
   "outputs": [],
   "source": [
    "ds_psd_rff = cutils.calculate_spacetime_psd_score(ds_rff, ds_natl60)"
   ]
  },
  {
   "cell_type": "code",
   "execution_count": null,
   "id": "f02e10a1-705a-421a-816c-19ce6ed4c6ae",
   "metadata": {},
   "outputs": [],
   "source": [
    "for ivar in ds_psd_rff:\n",
    "    resolved_spatial_scale = ds_psd_rff[ivar].attrs[\"resolved_scale_space\"] / 1e3\n",
    "    print(f\"Resolved Scale [km]: {resolved_spatial_scale:.2f} [{ivar.upper()}]\")\n",
    "    resolved_temporal_scale = ds_psd_rff[ivar].attrs[\"resolved_scale_time\"]\n",
    "    print(f\"Resolved Scale [days]: {resolved_temporal_scale:.2f}  [{ivar.upper()}]\")"
   ]
  },
  {
   "cell_type": "code",
   "execution_count": null,
   "id": "bf85904f-95fa-49a1-ab4b-c56f3659e7a6",
   "metadata": {},
   "outputs": [],
   "source": [
    "_ = cutils.plot_analysis_psd_spacetime_score([ds_psd_rff], [\"rff\"])"
   ]
  },
  {
   "cell_type": "code",
   "execution_count": null,
   "id": "e3f9f422-ed42-4368-8917-18ea47c27e4c",
   "metadata": {},
   "outputs": [],
   "source": []
  }
 ],
 "metadata": {
  "kernelspec": {
   "display_name": "Python [conda env:jejeqx]",
   "language": "python",
   "name": "conda-env-jejeqx-py"
  },
  "language_info": {
   "codemirror_mode": {
    "name": "ipython",
    "version": 3
   },
   "file_extension": ".py",
   "mimetype": "text/x-python",
   "name": "python",
   "nbconvert_exporter": "python",
   "pygments_lexer": "ipython3",
   "version": "3.10.11"
  }
 },
 "nbformat": 4,
 "nbformat_minor": 5
}

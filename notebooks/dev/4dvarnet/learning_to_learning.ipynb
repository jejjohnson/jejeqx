{
 "cells": [
  {
   "attachments": {},
   "cell_type": "markdown",
   "metadata": {},
   "source": [
    "# Learning to Learning"
   ]
  },
  {
   "cell_type": "code",
   "execution_count": 1,
   "metadata": {},
   "outputs": [],
   "source": [
    "import autoroot\n",
    "import jax\n",
    "import jax.numpy as jnp\n",
    "import jax.random as jrandom\n",
    "import matplotlib.pyplot as plt\n",
    "import seaborn as sns\n",
    "\n",
    "sns.reset_defaults()\n",
    "sns.set_context(context=\"talk\", font_scale=0.7)\n",
    "\n",
    "%matplotlib inline\n",
    "%load_ext autoreload\n",
    "%autoreload 2"
   ]
  },
  {
   "attachments": {},
   "cell_type": "markdown",
   "metadata": {},
   "source": [
    "### Problem"
   ]
  },
  {
   "attachments": {},
   "cell_type": "markdown",
   "metadata": {},
   "source": [
    "Let's define a function as:\n",
    "\n",
    "$$\n",
    "\\boldsymbol{y} = \\boldsymbol{f}(\\mathbf{x})\n",
    "$$\n",
    "\n",
    "We can the function as\n",
    "\n",
    "$$\n",
    "\\boldsymbol{f}(\\mathbf{x};\\boldsymbol{\\theta}) = \\mathbf{wx}\n",
    "$$\n",
    "\n",
    "where $\\boldsymbol{\\theta}=\\{ \\mathbf{w}\\}$ are the parameters"
   ]
  },
  {
   "attachments": {},
   "cell_type": "markdown",
   "metadata": {},
   "source": [
    "### Loss Function"
   ]
  },
  {
   "attachments": {},
   "cell_type": "markdown",
   "metadata": {},
   "source": [
    "$$\n",
    "\\boldsymbol{L}(\\mathbf{x};\\boldsymbol{\\theta}) = \n",
    "||\\mathbf{wx} \n",
    "- \\mathbf{y} ||_2^2\n",
    "$$"
   ]
  },
  {
   "cell_type": "code",
   "execution_count": 45,
   "metadata": {},
   "outputs": [],
   "source": [
    "batch_size = 128\n",
    "key = jrandom.PRNGKey(123)\n",
    "key, *keys_params = jrandom.split(key, 4)\n",
    "\n",
    "w = jrandom.normal(keys_params[0], (batch_size, 10, 10))\n",
    "y = jrandom.normal(keys_params[1], (batch_size, 10))\n",
    "x = jrandom.normal(keys_params[2], (batch_size, 10))"
   ]
  },
  {
   "cell_type": "code",
   "execution_count": 46,
   "metadata": {},
   "outputs": [],
   "source": [
    "import equinox as eqx\n",
    "from jaxtyping import Array, PRNGKeyArray\n",
    "\n",
    "class LinearModel(eqx.Module):\n",
    "    w: Array\n",
    "\n",
    "    def __init__(\n",
    "            self, \n",
    "            batchsize: int=10,\n",
    "            ndims: int=10,\n",
    "            key: PRNGKeyArray=jrandom.PRNGKey(123)\n",
    "            ):\n",
    "        self.w = jrandom.normal(key, (batchsize, ndims, ndims))\n",
    "\n",
    "    def __call__(self, x):\n",
    "        return jax.vmap(jnp.matmul)(self.w, x)"
   ]
  },
  {
   "cell_type": "code",
   "execution_count": 92,
   "metadata": {},
   "outputs": [],
   "source": [
    "batchsize = 128\n",
    "ndims = 10\n",
    "key = jrandom.PRNGKey(123)\n",
    "key, *keys_params = jrandom.split(key, 3)\n",
    "\n",
    "y = jrandom.normal(keys_params[0], (batchsize, ndims))\n",
    "x = jrandom.normal(keys_params[1], (batchsize, ndims))\n",
    "\n",
    "lr_model  = LinearModel(ndims=ndims, batchsize=batchsize, key=keys_params[-1])\n",
    "\n",
    "y_pred = lr_model(x)\n",
    "assert y_pred.shape == y.shape"
   ]
  },
  {
   "cell_type": "code",
   "execution_count": 93,
   "metadata": {},
   "outputs": [],
   "source": [
    "import typing as tp\n",
    "class MSELoss(eqx.Module):\n",
    "    model: tp.Callable\n",
    "\n",
    "    def __init__(self, model):\n",
    "        self.model = model\n",
    "    \n",
    "    def __call__(self, x, y):\n",
    "        y_pred = self.model(x)\n",
    "        return jnp.mean(jnp.sum((y_pred - y) ** 2, axis=1))"
   ]
  },
  {
   "cell_type": "code",
   "execution_count": 94,
   "metadata": {},
   "outputs": [],
   "source": [
    "energy_fn = MSELoss(model=lr_model)\n",
    "\n",
    "loss = energy_fn(x, y)\n",
    "\n",
    "grad_fn = jax.value_and_grad(energy_fn, argnums=0)"
   ]
  },
  {
   "cell_type": "code",
   "execution_count": 126,
   "metadata": {},
   "outputs": [],
   "source": [
    "import optax\n",
    "from jaxtyping import PyTree\n",
    "\n",
    "class TrainStateOptax(eqx.Module):\n",
    "    params: Array\n",
    "    optimizer: optax.GradientTransformation\n",
    "    opt_state: optax.OptState\n",
    "\n",
    "    def __init__(self, params: PyTree, optimizer: optax.GradientTransformation):\n",
    "        self.params = params\n",
    "        self.optimizer = optimizer\n",
    "        self.opt_state = optimizer.init(params)\n",
    "\n",
    "\n",
    "    @staticmethod\n",
    "    def update_state(state: PyTree, grads: PyTree) -> PyTree:\n",
    "        updates, opt_state = state.optimizer.update(\n",
    "            grads, state.opt_state, params=state.params\n",
    "        )\n",
    "        params = optax.apply_updates(state.params, updates)\n",
    "\n",
    "        state = eqx.tree_at(lambda x: x.params, state, params)\n",
    "        state = eqx.tree_at(lambda x: x.opt_state, state, opt_state)\n",
    "        return state\n"
   ]
  },
  {
   "cell_type": "code",
   "execution_count": 127,
   "metadata": {},
   "outputs": [],
   "source": [
    "learning_rate = 1.0\n",
    "optimizer = optax.sgd(learning_rate=learning_rate)\n",
    "state_init = TrainStateOptax(x, optimizer)"
   ]
  },
  {
   "cell_type": "code",
   "execution_count": 128,
   "metadata": {},
   "outputs": [
    {
     "name": "stderr",
     "output_type": "stream",
     "text": [
      "Loss: 109.5970:   0%|          | 0/100 [00:00<?, ?it/s]"
     ]
    },
    {
     "name": "stderr",
     "output_type": "stream",
     "text": [
      "Loss: 1.2364: 100%|██████████| 100/100 [00:00<00:00, 195.96it/s]\n"
     ]
    }
   ],
   "source": [
    "from tqdm.autonotebook import trange\n",
    "num_iterations = 100\n",
    "\n",
    "state = TrainStateOptax(x, optimizer)\n",
    "losses = dict(sgd=list())\n",
    "\n",
    "with trange(num_iterations) as pbar:\n",
    "\n",
    "    for i in pbar:\n",
    "        \n",
    "        loss, grads = grad_fn(state.params, y)\n",
    "\n",
    "        state = state.update_state(state, grads)\n",
    "\n",
    "        losses[\"sgd\"].append(loss)\n",
    "        pbar.set_description(desc=f\"Loss: {loss:.4f}\")"
   ]
  },
  {
   "cell_type": "code",
   "execution_count": 104,
   "metadata": {},
   "outputs": [
    {
     "data": {
      "text/plain": [
       "(EmptyState(), EmptyState())"
      ]
     },
     "execution_count": 104,
     "metadata": {},
     "output_type": "execute_result"
    }
   ],
   "source": [
    "state.opt_state"
   ]
  },
  {
   "cell_type": "code",
   "execution_count": 114,
   "metadata": {},
   "outputs": [
    {
     "data": {
      "image/png": "[encoded data removed]",
      "text/plain": [
       "<Figure size 640x480 with 1 Axes>"
      ]
     },
     "metadata": {},
     "output_type": "display_data"
    }
   ],
   "source": [
    "fig, ax = plt.subplots()\n",
    "\n",
    "ax.plot(losses[\"sgd\"], label=\"SGD\")\n",
    "\n",
    "ax.set(xlabel=\"Iterations\", ylabel=\"Loss\", yscale=\"log\")\n",
    "\n",
    "plt.legend()\n",
    "plt.show()"
   ]
  },
  {
   "cell_type": "code",
   "execution_count": 106,
   "metadata": {},
   "outputs": [],
   "source": [
    "learning_rate = 1.0\n",
    "optimizer = optax.adamw(learning_rate=learning_rate)\n",
    "state_init = OptState(x, optimizer)"
   ]
  },
  {
   "cell_type": "code",
   "execution_count": 122,
   "metadata": {},
   "outputs": [],
   "source": [
    "opt_state = optimizer.init(x)"
   ]
  },
  {
   "cell_type": "code",
   "execution_count": 124,
   "metadata": {},
   "outputs": [
    {
     "data": {
      "text/plain": [
       "ScaleByAdamState(count=Array(0, dtype=int32), mu=Array([[0., 0., 0., ..., 0., 0., 0.],\n",
       "       [0., 0., 0., ..., 0., 0., 0.],\n",
       "       [0., 0., 0., ..., 0., 0., 0.],\n",
       "       ...,\n",
       "       [0., 0., 0., ..., 0., 0., 0.],\n",
       "       [0., 0., 0., ..., 0., 0., 0.],\n",
       "       [0., 0., 0., ..., 0., 0., 0.]], dtype=float32), nu=Array([[0., 0., 0., ..., 0., 0., 0.],\n",
       "       [0., 0., 0., ..., 0., 0., 0.],\n",
       "       [0., 0., 0., ..., 0., 0., 0.],\n",
       "       ...,\n",
       "       [0., 0., 0., ..., 0., 0., 0.],\n",
       "       [0., 0., 0., ..., 0., 0., 0.],\n",
       "       [0., 0., 0., ..., 0., 0., 0.]], dtype=float32))"
      ]
     },
     "execution_count": 124,
     "metadata": {},
     "output_type": "execute_result"
    }
   ],
   "source": [
    "opt_state[0]"
   ]
  },
  {
   "cell_type": "code",
   "execution_count": 125,
   "metadata": {},
   "outputs": [
    {
     "data": {
      "text/plain": [
       "EmptyState()"
      ]
     },
     "execution_count": 125,
     "metadata": {},
     "output_type": "execute_result"
    }
   ],
   "source": [
    "opt_state[1]"
   ]
  },
  {
   "cell_type": "code",
   "execution_count": 107,
   "metadata": {},
   "outputs": [
    {
     "name": "stderr",
     "output_type": "stream",
     "text": [
      "Loss: 72.6050:   0%|          | 0/100 [00:00<?, ?it/s] "
     ]
    },
    {
     "name": "stderr",
     "output_type": "stream",
     "text": [
      "Loss: 0.3328: 100%|██████████| 100/100 [00:00<00:00, 234.82it/s]\n"
     ]
    }
   ],
   "source": [
    "num_iterations = 100\n",
    "\n",
    "state = OptState(x, optimizer)\n",
    "losses['adamw'] = list()\n",
    "\n",
    "with trange(num_iterations) as pbar:\n",
    "\n",
    "    for i in pbar:\n",
    "        \n",
    "        loss, grads = grad_fn(state.params, y)\n",
    "\n",
    "        state = state.update_state(state, grads)\n",
    "\n",
    "        losses[\"adamw\"].append(loss)\n",
    "        pbar.set_description(desc=f\"Loss: {loss:.4f}\")"
   ]
  },
  {
   "cell_type": "code",
   "execution_count": 115,
   "metadata": {},
   "outputs": [
    {
     "data": {
      "image/png": "[encoded data removed]",
      "text/plain": [
       "<Figure size 640x480 with 1 Axes>"
      ]
     },
     "metadata": {},
     "output_type": "display_data"
    }
   ],
   "source": [
    "fig, ax = plt.subplots()\n",
    "\n",
    "ax.plot(losses[\"sgd\"], label=\"SGD\")\n",
    "ax.plot(losses[\"adamw\"], label=\"AdamW\")\n",
    "\n",
    "ax.set(xlabel=\"Iterations\", ylabel=\"Loss\", yscale=\"log\")\n",
    "\n",
    "plt.legend()\n",
    "plt.show()"
   ]
  },
  {
   "cell_type": "code",
   "execution_count": 116,
   "metadata": {},
   "outputs": [],
   "source": [
    "learning_rate = 1.0\n",
    "optimizer = optax.adam(learning_rate=learning_rate)\n",
    "state_init = OptState(x, optimizer)"
   ]
  },
  {
   "cell_type": "code",
   "execution_count": 117,
   "metadata": {},
   "outputs": [
    {
     "name": "stderr",
     "output_type": "stream",
     "text": [
      "  0%|          | 0/100 [00:00<?, ?it/s]"
     ]
    },
    {
     "name": "stderr",
     "output_type": "stream",
     "text": [
      "Loss: 0.3322: 100%|██████████| 100/100 [00:00<00:00, 223.30it/s]\n"
     ]
    }
   ],
   "source": [
    "num_iterations = 100\n",
    "\n",
    "state = OptState(x, optimizer)\n",
    "losses['adam'] = list()\n",
    "\n",
    "with trange(num_iterations) as pbar:\n",
    "\n",
    "    for i in pbar:\n",
    "        \n",
    "        loss, grads = grad_fn(state.params, y)\n",
    "\n",
    "        state = state.update_state(state, grads)\n",
    "\n",
    "        losses[\"adam\"].append(loss)\n",
    "        pbar.set_description(desc=f\"Loss: {loss:.4f}\")"
   ]
  },
  {
   "cell_type": "code",
   "execution_count": 118,
   "metadata": {},
   "outputs": [
    {
     "data": {
      "image/png": "[encoded data removed]",
      "text/plain": [
       "<Figure size 640x480 with 1 Axes>"
      ]
     },
     "metadata": {},
     "output_type": "display_data"
    }
   ],
   "source": [
    "fig, ax = plt.subplots()\n",
    "\n",
    "ax.plot(losses[\"sgd\"], label=\"SGD\")\n",
    "ax.plot(losses[\"adamw\"], label=\"AdamW\")\n",
    "ax.plot(losses[\"adam\"], label=\"Adam\")\n",
    "\n",
    "ax.set(xlabel=\"Iterations\", ylabel=\"Loss\", yscale=\"log\")\n",
    "\n",
    "plt.legend()\n",
    "plt.show()"
   ]
  },
  {
   "cell_type": "code",
   "execution_count": null,
   "metadata": {},
   "outputs": [],
   "source": []
  },
  {
   "attachments": {},
   "cell_type": "markdown",
   "metadata": {},
   "source": [
    "Now, we can define a loss function as the MSE:\n",
    "\n",
    "$$\n",
    "\\boldsymbol{L}(\\mathbf{x};\\boldsymbol{\\theta}) = \n",
    "||\\mathbf{wx} \n",
    "- \\mathbf{y} ||_2^2\n",
    "$$\n",
    "\n",
    "$$\n",
    "\\boldsymbol{R}(\\mathbf{x};\\boldsymbol{\\theta}) = \n",
    "\\alpha||\\mathbf{w}||_2^2\n",
    "$$"
   ]
  },
  {
   "attachments": {},
   "cell_type": "markdown",
   "metadata": {},
   "source": [
    "$$\n",
    "\\mathbf{x}^*(\\boldsymbol{\\theta}) = \n",
    "\\underset{\\mathbf{x}}{\\text{argmin}} \\hspace{2mm}\n",
    "\\boldsymbol{J}(\\mathbf{x};\\boldsymbol{\\theta})\n",
    "$$"
   ]
  },
  {
   "attachments": {},
   "cell_type": "markdown",
   "metadata": {},
   "source": [
    "### Optimization"
   ]
  },
  {
   "attachments": {},
   "cell_type": "markdown",
   "metadata": {},
   "source": [
    "**Parameter Estimation**\n",
    "\n",
    "$$\n",
    "\\mathbf{x}^{(k+1)} = \n",
    "\\mathbf{x}^{(k)} +\n",
    "\\boldsymbol{g}_k\n",
    "$$"
   ]
  },
  {
   "attachments": {},
   "cell_type": "markdown",
   "metadata": {},
   "source": [
    "The optimizer function, $\\boldsymbol{g}(\\cdot)$, defined as:\n",
    "\n",
    "$$\n",
    "\\left[ \\boldsymbol{g}_k, \\boldsymbol{h}_{k+1}\\right] =\n",
    "\\boldsymbol{g}\n",
    "\\left( \\boldsymbol{\\nabla}_{\\mathbf{x}}\\boldsymbol{L}(\\mathbf{x};\\boldsymbol{\\theta}), \\boldsymbol{h}_k \\right)\n",
    "$$"
   ]
  },
  {
   "cell_type": "code",
   "execution_count": 2,
   "metadata": {},
   "outputs": [],
   "source": [
    "import typing as tp\n",
    "import equinox as eqx\n",
    "from jaxtyping import Array\n",
    "\n",
    "\n",
    "class LinearModel(eqx.Module):\n",
    "    weight: Array\n",
    "\n",
    "    def __init__(self, dim_in, dim_out, key=jrandom.PRNGKey(123)):\n",
    "\n",
    "        self.weight = jrandom.normal(key=key, shape=(dim_out, dim_in))\n",
    "\n",
    "    def __call__(self, x):\n",
    "        return jnp.matmul(self.weight, x)\n",
    "    \n",
    "\n"
   ]
  },
  {
   "cell_type": "code",
   "execution_count": 43,
   "metadata": {},
   "outputs": [],
   "source": [
    "x_true = jnp.linspace(-1,1, 100)\n",
    "\n",
    "key = jrandom.PRNGKey(123)\n",
    "\n",
    "def f(x, noise: float=0.05):\n",
    "    return 0.25 * x + noise * jrandom.normal(key, shape=(x.shape[0],))\n",
    "y_true = f(x_true, noise=0.0)\n",
    "y_noisy = f(x_true, noise=0.05)"
   ]
  },
  {
   "cell_type": "code",
   "execution_count": 44,
   "metadata": {},
   "outputs": [
    {
     "data": {
      "image/png": "[encoded data removed]",
      "text/plain": [
       "<Figure size 640x480 with 1 Axes>"
      ]
     },
     "metadata": {},
     "output_type": "display_data"
    }
   ],
   "source": [
    "fig, ax = plt.subplots()\n",
    "\n",
    "ax.plot(x_true, y_true)\n",
    "ax.scatter(x_true, y_noisy)\n",
    "\n",
    "plt.show()"
   ]
  },
  {
   "attachments": {},
   "cell_type": "markdown",
   "metadata": {},
   "source": [
    "**Objective Function**\n",
    "\n",
    "$$\n",
    "\\boldsymbol{J}(\\mathbf{x};\\boldsymbol{\\theta}) =\n",
    "\\boldsymbol{L}(\\mathbf{x};\\boldsymbol{\\theta}) +\n",
    "\\lambda\n",
    "\\boldsymbol{R}(\\mathbf{x};\\boldsymbol{\\theta})\n",
    "$$"
   ]
  },
  {
   "attachments": {},
   "cell_type": "markdown",
   "metadata": {},
   "source": [
    "**Data Fidelity Term**\n",
    "\n",
    "$$\n",
    "\\begin{aligned}\n",
    "\\boldsymbol{L}(\\mathbf{x};\\boldsymbol{\\theta}) &=\n",
    "||\\mathbf{y} - \\boldsymbol{f}(\\mathbf{x};\\boldsymbol{\\theta})||_2^2 \\\\\n",
    "&= ||\\mathbf{y} - \\mathbf{xw}||_2^2\n",
    "\\end{aligned}\n",
    "$$"
   ]
  },
  {
   "attachments": {},
   "cell_type": "markdown",
   "metadata": {},
   "source": [
    "**Regularization Term**\n",
    "\n",
    "$$\n",
    "\\begin{aligned}\n",
    "\\boldsymbol{R}(\\boldsymbol{\\theta}) &=\n",
    "||\\boldsymbol{\\theta}||_2^2 \\\\\n",
    "&= ||\\mathbf{w}||_2^2\n",
    "\\end{aligned}\n",
    "$$"
   ]
  },
  {
   "cell_type": "code",
   "execution_count": 13,
   "metadata": {},
   "outputs": [],
   "source": [
    "class RidgeLoss(eqx.Module):\n",
    "    alpha: Array\n",
    "    model: tp.Callable = LinearModel\n",
    "\n",
    "    def __init__(self, model: tp.Callable, alpha=0.1):\n",
    "        self.model = model\n",
    "        self.alpha = jnp.asarray(alpha)\n",
    "\n",
    "    def data_loss(self, x, y):\n",
    "        y_pred = self.model(x)\n",
    "        return jnp.mean(y_pred - y)\n",
    "    \n",
    "    def reg_loss(self):\n",
    "        return jnp.sum(self.model.weight ** 2)\n",
    "\n",
    "    def loss(self, x, y, return_losses: bool=False):\n",
    "        \n",
    "        # data loss\n",
    "        data_loss = self.data_loss(x, y)\n",
    "\n",
    "        # reg loss\n",
    "        reg_loss = self.alpha * self.reg_loss()\n",
    "\n",
    "        # total loss\n",
    "        loss = data_loss + reg_loss\n",
    "\n",
    "        if return_losses:\n",
    "            losses = dict(loss=loss, data=data_loss, reg=reg_loss)\n",
    "            return loss, losses\n",
    "        else:\n",
    "            return loss\n"
   ]
  },
  {
   "cell_type": "code",
   "execution_count": 14,
   "metadata": {},
   "outputs": [
    {
     "data": {
      "text/plain": [
       "((1,), (1,))"
      ]
     },
     "execution_count": 14,
     "metadata": {},
     "output_type": "execute_result"
    }
   ],
   "source": [
    "x = jnp.ones((10,))\n",
    "y = jnp.ones((1,))\n",
    "\n",
    "lr_model = LinearModel(10, 1)\n",
    "y_pred = lr_model(x)\n",
    "y_pred.shape, y.shape"
   ]
  },
  {
   "cell_type": "code",
   "execution_count": 15,
   "metadata": {},
   "outputs": [
    {
     "data": {
      "text/plain": [
       "(Array(-4.153241, dtype=float32),\n",
       " {'loss': Array(-4.153241, dtype=float32),\n",
       "  'data': Array(-4.251601, dtype=float32),\n",
       "  'reg': Array(0.09835989, dtype=float32)})"
      ]
     },
     "execution_count": 15,
     "metadata": {},
     "output_type": "execute_result"
    }
   ],
   "source": [
    "ridge_loss = RidgeLoss(lr_model, alpha=0.01)\n",
    "\n",
    "ridge_loss.loss(x, y, return_losses=True)"
   ]
  },
  {
   "cell_type": "code",
   "execution_count": 16,
   "metadata": {},
   "outputs": [],
   "source": [
    "def jaxopt_loss(model, x, y):\n",
    "    return model.loss(x, y)"
   ]
  },
  {
   "attachments": {},
   "cell_type": "markdown",
   "metadata": {},
   "source": [
    "$$\n",
    "\\mathbf{x}^*(\\boldsymbol{\\theta}) =\n",
    "\\underset{\\mathbf{x}}{\\text{argmin}} \\hspace{2mm}\n",
    "\\boldsymbol{J}(\\mathbf{x};\\boldsymbol{\\theta})\n",
    "$$"
   ]
  },
  {
   "cell_type": "code",
   "execution_count": 17,
   "metadata": {},
   "outputs": [],
   "source": [
    "from jaxopt import OptaxSolver\n",
    "import jaxopt\n",
    "import optax\n",
    "\n",
    "learning_rate = 1e-3\n",
    "maxiter = 100\n",
    "\n",
    "opt = optax.adam(learning_rate)\n",
    "# solver = OptaxSolver(opt=opt, fun=jaxopt_loss, maxiter=1000)"
   ]
  },
  {
   "cell_type": "code",
   "execution_count": 21,
   "metadata": {},
   "outputs": [
    {
     "name": "stdout",
     "output_type": "stream",
     "text": [
      "LinearModel(weight=f32[1,10])\n"
     ]
    }
   ],
   "source": [
    "solver = jaxopt.LBFGS(fun=jaxopt_loss, maxiter=maxiter)\n",
    "res = solver.run(ridge_loss, x=x, y=y)\n",
    "\n",
    "# Alternatively, we could have used one of these solvers as well:\n",
    "# solver = jaxopt.GradientDescent(fun=ridge_reg_objective, maxiter=500)\n",
    "# solver = jaxopt.ScipyMinimize(fun=ridge_reg_objective, method=\"L-BFGS-B\", maxiter=500)\n",
    "# solver = jaxopt.NonlinearCG(fun=ridge_reg_objective, method=\"polak-ribiere\", maxiter=500)\n",
    "\n",
    "print(res.params.model)"
   ]
  },
  {
   "cell_type": "code",
   "execution_count": 22,
   "metadata": {},
   "outputs": [
    {
     "data": {
      "text/plain": [
       "Array([[-0.10502207, -0.56205004, -0.56485987, -1.7063935 ,  0.56626016,\n",
       "        -0.42215332,  1.0077653 ,  0.9922631 , -0.61236995, -1.8450408 ]],      dtype=float32)"
      ]
     },
     "execution_count": 22,
     "metadata": {},
     "output_type": "execute_result"
    }
   ],
   "source": [
    "res.params.model.weight"
   ]
  },
  {
   "cell_type": "code",
   "execution_count": 9,
   "metadata": {},
   "outputs": [],
   "source": [
    "\n",
    "opt = optax.adam(learning_rate)\n",
    "\n",
    "def jaxopt_soln(x, y):\n",
    "  gd = OptaxSolver(opt=opt, fun=jaxopt_loss, maxiter=1000, implicit_diff=True)\n",
    "  # gd = jaxopt.LBFGS(fun=jaxopt_loss, maxiter=500, implicit_diff=True, )\n",
    "  # gd = jaxopt.GradientDescent(fun=jaxopt_loss, maxiter=500, implicit_diff=True, )\n",
    "  return gd.run(ridge_loss, x=x, y=y).params"
   ]
  },
  {
   "cell_type": "code",
   "execution_count": 10,
   "metadata": {},
   "outputs": [
    {
     "data": {
      "text/plain": [
       "Array(-1.2881405, dtype=float32)"
      ]
     },
     "execution_count": 10,
     "metadata": {},
     "output_type": "execute_result"
    }
   ],
   "source": [
    "soln  = jaxopt_soln(x, y)\n",
    "soln.alpha"
   ]
  },
  {
   "cell_type": "code",
   "execution_count": 11,
   "metadata": {},
   "outputs": [
    {
     "data": {
      "text/plain": [
       "(Array(0.01, dtype=float32),\n",
       " Array([[-0.10502207, -0.56205004, -0.56485987, -1.7063935 ,  0.56626016,\n",
       "         -0.42215332,  1.0077653 ,  0.9922631 , -0.61236995, -1.8450408 ]],      dtype=float32))"
      ]
     },
     "execution_count": 11,
     "metadata": {},
     "output_type": "execute_result"
    }
   ],
   "source": [
    "res.params.alpha, res.params.model.weight"
   ]
  },
  {
   "cell_type": "code",
   "execution_count": 12,
   "metadata": {},
   "outputs": [
    {
     "data": {
      "text/plain": [
       "LbfgsState(iter_num=Array(100, dtype=int32, weak_type=True), value=Array(-2.0766206, dtype=float32), grad=RidgeLoss(alpha=f32[], model=LinearModel(weight=f32[1,10])), stepsize=Array(0., dtype=float32), error=Array(5.1628613, dtype=float32), s_history=RidgeLoss(alpha=f32[10], model=LinearModel(weight=f32[10,1,10])), y_history=RidgeLoss(alpha=f32[10], model=LinearModel(weight=f32[10,1,10])), rho_history=Array([0., 0., 0., 0., 0., 0., 0., 0., 0., 0.], dtype=float32), gamma=Array(1., dtype=float32), aux=None, failed_linesearch=Array(True, dtype=bool))"
      ]
     },
     "execution_count": 12,
     "metadata": {},
     "output_type": "execute_result"
    }
   ],
   "source": [
    "res.state"
   ]
  },
  {
   "cell_type": "code",
   "execution_count": null,
   "metadata": {},
   "outputs": [],
   "source": []
  }
 ],
 "metadata": {
  "kernelspec": {
   "display_name": "jejeqx",
   "language": "python",
   "name": "python3"
  },
  "language_info": {
   "codemirror_mode": {
    "name": "ipython",
    "version": 3
   },
   "file_extension": ".py",
   "mimetype": "text/x-python",
   "name": "python",
   "nbconvert_exporter": "python",
   "pygments_lexer": "ipython3",
   "version": "3.10.11"
  },
  "orig_nbformat": 4
 },
 "nbformat": 4,
 "nbformat_minor": 2
}

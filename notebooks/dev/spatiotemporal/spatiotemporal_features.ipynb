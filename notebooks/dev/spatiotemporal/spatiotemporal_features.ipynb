{
 "cells": [
  {
   "cell_type": "markdown",
   "id": "4123c4da-15c8-47f8-9781-7c14c94e2910",
   "metadata": {
    "tags": [],
    "user_expressions": []
   },
   "source": [
    "---\n",
    "title: Spatial Temporal\n",
    "date: 2023-04-01\n",
    "authors:\n",
    "  - name: J. Emmanuel Johnson\n",
    "    affiliations:\n",
    "      - MEOM Lab\n",
    "    roles:\n",
    "      - Primary Programmer\n",
    "    email: jemanjohnson34@gmail.com\n",
    "license: CC-BY-4.0\n",
    "keywords: NerFs, Images\n",
    "---"
   ]
  },
  {
   "cell_type": "code",
   "execution_count": null,
   "id": "6028f5f4-c74e-42aa-a147-be448542e2de",
   "metadata": {
    "tags": []
   },
   "outputs": [],
   "source": [
    "import autoroot\n",
    "import jax\n",
    "import jax.numpy as jnp\n",
    "import jax.scipy as jsp\n",
    "import jax.random as jrandom\n",
    "import numpy as np\n",
    "import numba as nb\n",
    "import equinox as eqx\n",
    "import kernex as kex\n",
    "import finitediffx as fdx\n",
    "import diffrax as dfx\n",
    "import xarray as xr\n",
    "import metpy\n",
    "import matplotlib.pyplot as plt\n",
    "import seaborn as sns\n",
    "from tqdm.notebook import tqdm, trange\n",
    "from jaxtyping import Float, Array, PyTree, ArrayLike\n",
    "import wandb\n",
    "from omegaconf import OmegaConf\n",
    "import hydra\n",
    "from sklearn import pipeline\n",
    "from sklearn.compose import ColumnTransformer\n",
    "from sklearn.pipeline import Pipeline\n",
    "from jejeqx._src.transforms.dataframe.spatial import Spherical2Cartesian\n",
    "from jejeqx._src.transforms.dataframe.temporal import TimeDelta\n",
    "from jejeqx._src.transforms.dataframe.scaling import MinMaxDF\n",
    "\n",
    "sns.reset_defaults()\n",
    "sns.set_context(context=\"talk\", font_scale=0.7)\n",
    "jax.config.update(\"jax_enable_x64\", True)\n",
    "\n",
    "%matplotlib inline\n",
    "%load_ext autoreload\n",
    "%autoreload 2"
   ]
  },
  {
   "cell_type": "markdown",
   "id": "c71086b9-24cb-4b1d-9eab-93ce21ac8d12",
   "metadata": {
    "user_expressions": []
   },
   "source": [
    "## Recap Formulation\n",
    "\n",
    "We are interested in learning non-linear functions $\\boldsymbol{f}$.\n",
    "\n",
    "$$\n",
    "\\begin{aligned}\n",
    "\\boldsymbol{f}(\\mathbf{x}) &=\n",
    "\\mathbf{w}^\\top\\boldsymbol{\\phi}(\\mathbf{x})+\\mathbf{b}\n",
    "\\end{aligned}\n",
    "$$\n",
    "\n",
    "where the $\\boldsymbol{\\phi}(\\cdot)$ is a basis function. Neural Fields typically try to learn this basis funciton via a series of composite functions of the form\n",
    "\n",
    "$$\n",
    "\\boldsymbol{\\phi}(\\mathbf{x}) =\n",
    "\\boldsymbol{\\phi}_L\\circ\\boldsymbol{\\phi}_{L-1}\n",
    "\\circ\\cdots\\circ\n",
    "\\boldsymbol{\\phi}_2\\circ\\boldsymbol{\\phi}_{1}(\\mathbf{x})\n",
    "$$"
   ]
  },
  {
   "cell_type": "markdown",
   "id": "c9495206-f1e1-42d6-beba-13fe42d9253f",
   "metadata": {
    "user_expressions": []
   },
   "source": [
    "## Problems\n",
    "\n",
    "Here, we will demonstrate a problem that a naive network has."
   ]
  },
  {
   "cell_type": "markdown",
   "id": "5ac67435-b31d-4788-b79d-3d2e3b5ac1df",
   "metadata": {
    "user_expressions": []
   },
   "source": [
    "## Data"
   ]
  },
  {
   "cell_type": "code",
   "execution_count": null,
   "id": "5abd699a-2548-478a-9a44-f72d0eb493c5",
   "metadata": {},
   "outputs": [],
   "source": []
  },
  {
   "cell_type": "code",
   "execution_count": null,
   "id": "aefda25b-01ae-4654-b4ce-03c17732a4a6",
   "metadata": {},
   "outputs": [],
   "source": [
    "# !wget wget -nc https://s3.us-east-1.wasabisys.com/melody/osse_data/ref/NATL60-CJM165_GULFSTREAM_ssh_y2013.1y.nc"
   ]
  },
  {
   "cell_type": "code",
   "execution_count": null,
   "id": "80de7073-939d-4ab9-a419-d5564a660681",
   "metadata": {},
   "outputs": [],
   "source": [
    "from pathlib import Path"
   ]
  },
  {
   "cell_type": "code",
   "execution_count": null,
   "id": "dde389d0-00ed-4b52-b577-f97c1231a66e",
   "metadata": {},
   "outputs": [],
   "source": [
    "Path(\n",
    "    \"/gpfswork/rech/cli/uvo53rl/projects/jejeqx/data/natl60/NATL60-CJM165_GULFSTREAM_ssh_y2013.1y.nc\"\n",
    ").is_file()"
   ]
  },
  {
   "cell_type": "code",
   "execution_count": null,
   "id": "236b7d19-607e-47a8-9e56-7b34dcf3d2b0",
   "metadata": {},
   "outputs": [],
   "source": [
    "# @dataclass\n",
    "# class Subset:\n",
    "#     _target_: str = \"slice\"\n",
    "#     _args_: List = field(default_factory=lambda :[\"2013-01-01\", \"2013-01-10\"])"
   ]
  },
  {
   "cell_type": "code",
   "execution_count": null,
   "id": "940d5566-74c1-484e-9469-e5b95ddd9d51",
   "metadata": {},
   "outputs": [],
   "source": [
    "from dataclasses import dataclass, field\n",
    "from typing import List, Dict\n",
    "\n",
    "\n",
    "@dataclass\n",
    "class Subset:\n",
    "    _target_: str = \"builtins.slice\"\n",
    "    _args_: List = field(default_factory=lambda: [\"2013-01-01\", \"2013-01-10\"])\n",
    "\n",
    "\n",
    "# @dataclass\n",
    "# class SSHDM:\n",
    "#     _target_: str = \"jejeqx._src.datamodules.natl60.SSHSTNATL60\"\n",
    "#     batch_size: int = 10_000\n",
    "#     shuffle: bool = False\n",
    "#     split_method: str = \"random\"\n",
    "#     train_size: float = 0.80\n",
    "#     spatial_coords: List = field(default_factory=lambda : [\"x\", \"y\", \"z\"])\n",
    "#     temporal_coords: List = field(default_factory=lambda: [\"time\"])\n",
    "#     variables: List = field(default_factory=lambda : [\"ssh\"])\n",
    "#     coarsen: Dict = field(default_factory=lambda : {\"lon\": 4, \"lat\": 4})\n",
    "#     directory: str = \"/gpfswork/rech/cli/uvo53rl/projects/jejeqx/data/natl60/\"\n",
    "\n",
    "\n",
    "@dataclass\n",
    "class SSHDM:\n",
    "    _target_: str = \"jejeqx._src.datamodules.coords.AlongTrackDM\"\n",
    "    batch_size: int = 10_000\n",
    "    shuffle: bool = False\n",
    "    train_size: float = 0.80\n",
    "    subset_size: float = 0.30\n",
    "    spatial_coords: List = field(default_factory=lambda: [\"lat\", \"lon\"])\n",
    "    temporal_coords: List = field(default_factory=lambda: [\"time\"])\n",
    "    variables: List = field(default_factory=lambda: [\"sossheig\"])\n",
    "    coarsen: Dict = field(default_factory=lambda: {\"lon\": 4, \"lat\": 4})\n",
    "    resample: str = \"1D\"\n",
    "    # paths: str = \"/gpfswork/rech/cli/uvo53rl/projects/jejeqx/data/natl60/NATL60-CJM165_GULFSTREAM_ssh_y2013.1y.nc\"\n",
    "    paths: str = \"/gpfswork/rech/yrf/commun/data_challenges/dc20a_osse/test/dc_ref/NATL60-CJM165_GULFSTREAM*\"\n",
    "\n",
    "\n",
    "# # spatial transform\n",
    "# transforms = Pipeline([\n",
    "#     (\"cartesian3d\", Spherical2Cartesian(radius=1.0, units=\"degrees\")),\n",
    "#     (\"spatialminmax\", MinMaxDF([\"x\", \"y\", \"z\"], -1, 1)),\n",
    "#     (\"timedelta\", TimeDelta(\"2012-10-01\", 1, \"s\")),\n",
    "#     (\"timeminmax\", MinMaxDF([\"time\"], -1, 1)),\n",
    "# ])\n",
    "\n",
    "# spatial transform\n",
    "spatial_transforms = Pipeline(\n",
    "    [\n",
    "        (\"cartesian3d\", Spherical2Cartesian(radius=1.0, units=\"degrees\")),\n",
    "        (\"spatialminmax\", MinMaxDF([\"x\", \"y\", \"z\"], -1, 1)),\n",
    "    ]\n",
    ")\n",
    "\n",
    "temporal_transforms = Pipeline(\n",
    "    [\n",
    "        (\"timedelta\", TimeDelta(\"2012-10-01\", 1, \"s\")),\n",
    "        (\"timeminmax\", MinMaxDF([\"time\"], -1, 1)),\n",
    "    ]\n",
    ")"
   ]
  },
  {
   "cell_type": "code",
   "execution_count": null,
   "id": "28710e1f-bbc6-4a94-a334-b290a7053579",
   "metadata": {},
   "outputs": [],
   "source": [
    "select = {\"time\": slice(\"2012-10-22\", \"2012-11-02\")}\n",
    "\n",
    "config_dm = OmegaConf.structured(SSHDM())\n",
    "\n",
    "dm = hydra.utils.instantiate(\n",
    "    config_dm,\n",
    "    select=select,\n",
    "    spatial_transform=spatial_transforms,\n",
    "    temporal_transform=temporal_transforms,\n",
    ")"
   ]
  },
  {
   "cell_type": "code",
   "execution_count": null,
   "id": "bd796011-539a-48bd-ab6d-e85139a993c5",
   "metadata": {},
   "outputs": [],
   "source": [
    "xrda = dm.load_xrds()\n",
    "xrda"
   ]
  },
  {
   "cell_type": "code",
   "execution_count": null,
   "id": "659695bb-8812-4bc9-8975-15ddeb16b593",
   "metadata": {},
   "outputs": [],
   "source": [
    "xrda.sossheig.isel(time=0).plot.pcolormesh(cmap=\"viridis\")"
   ]
  },
  {
   "cell_type": "code",
   "execution_count": null,
   "id": "dc3c41cc-4afe-4e18-a677-a0a66ba727d8",
   "metadata": {},
   "outputs": [],
   "source": [
    "# convert xarray to daraframe\n",
    "ds = xrda.to_dataframe()\n",
    "\n",
    "ds = ds.dropna()\n",
    "\n",
    "# extract coordinates (for later)\n",
    "coord_index = ds.index\n",
    "\n",
    "# remove the indexing to get single columns\n",
    "ds = ds.reset_index()\n",
    "\n",
    "column_names = ds.columns.values"
   ]
  },
  {
   "cell_type": "code",
   "execution_count": null,
   "id": "27c4d9ca-6b60-463b-b909-0e1cc8f8c04b",
   "metadata": {},
   "outputs": [],
   "source": [
    "ds.describe()"
   ]
  },
  {
   "cell_type": "markdown",
   "id": "1fe1f8d8-392d-4d1f-85e3-cfe99bbcd2a2",
   "metadata": {},
   "source": [
    "## Spatial Features\n",
    "\n",
    "\n",
    "* Spherical\n",
    "* Cartesian\n",
    "* \n",
    "\n"
   ]
  },
  {
   "cell_type": "markdown",
   "id": "21cef031-6f38-4369-b4f4-fac7856c6f4b",
   "metadata": {
    "tags": []
   },
   "source": [
    "### Spherical Coordinates\n",
    "\n",
    "\n",
    "$$\n",
    "\\begin{aligned}\n",
    "R &\\geq 0 \\\\\n",
    "-180^\\circ &\\leq \\theta \\leq 180^\\circ \\\\\n",
    "-90^\\circ &\\leq \\varphi \\leq 90^\\circ \\\\\n",
    "\\end{aligned}\n",
    "$$\n",
    "\n",
    "where:\n",
    "\n",
    "* $\\theta$ is the longitude\n",
    "* $\\varphi$ is the latitude\n",
    "* $R$ is the radius of the Earth.\n",
    "\n",
    "\n",
    "$$\n",
    "\\begin{aligned}\n",
    "R &\\geq 0 \\\\\n",
    "-\\pi &\\leq \\theta \\leq \\pi \\\\\n",
    "-\\frac{\\pi}{2} &\\leq \\varphi \\leq \\frac{\\pi}{2}  \\\\\n",
    "\\end{aligned}\n",
    "$$"
   ]
  },
  {
   "cell_type": "code",
   "execution_count": null,
   "id": "b3f05e3c-1c00-4f00-baf6-bb396f2acdf8",
   "metadata": {},
   "outputs": [],
   "source": [
    "import math\n",
    "from jejeqx._src.transforms.dataframe.spatial import Spherical2Cartesian\n",
    "\n",
    "from jejeqx._src.transforms.dataframe.scaling import MinMaxDF, FixedScaler, Deg2Rad\n",
    "\n",
    "\n",
    "spatial_transforms = Pipeline(\n",
    "    [\n",
    "        (\"deg2rad\", Deg2Rad()),\n",
    "        (\n",
    "            \"scaler\",\n",
    "            FixedScaler(\n",
    "                [\n",
    "                    2 / math.pi,\n",
    "                    1 / math.pi,\n",
    "                ],\n",
    "                [\"lat\", \"lon\"],\n",
    "            ),\n",
    "        ),\n",
    "    ]\n",
    ")"
   ]
  },
  {
   "cell_type": "code",
   "execution_count": null,
   "id": "6bc054b3-27f0-4af8-b327-166c4c5d951b",
   "metadata": {},
   "outputs": [],
   "source": [
    "x = ds[[\"lat\", \"lon\"]]\n",
    "\n",
    "x = spatial_transforms.fit_transform(x)\n",
    "x.describe()"
   ]
  },
  {
   "cell_type": "markdown",
   "id": "fddcc34a-9b9e-4b27-8889-f5b7f51f3132",
   "metadata": {},
   "source": [
    "## Temporal Features\n",
    "\n",
    "\n",
    "* Rescaling\n",
    "* Cyclic Features"
   ]
  },
  {
   "cell_type": "code",
   "execution_count": null,
   "id": "a73245b2-38bd-4ec3-9dec-51c1c7f4041d",
   "metadata": {},
   "outputs": [],
   "source": [
    "from jejeqx._src.transforms.dataframe.temporal import TimeDelta"
   ]
  }
 ],
 "metadata": {
  "kernelspec": {
   "display_name": "Python [conda env:miniconda3-jejeqx]",
   "language": "python",
   "name": "conda-env-miniconda3-jejeqx-py"
  },
  "language_info": {
   "codemirror_mode": {
    "name": "ipython",
    "version": 3
   },
   "file_extension": ".py",
   "mimetype": "text/x-python",
   "name": "python",
   "nbconvert_exporter": "python",
   "pygments_lexer": "ipython3",
   "version": "3.10.10"
  }
 },
 "nbformat": 4,
 "nbformat_minor": 5
}

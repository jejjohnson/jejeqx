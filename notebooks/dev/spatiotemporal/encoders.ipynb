{
 "cells": [
  {
   "cell_type": "code",
   "execution_count": null,
   "id": "89656a24-5b12-4742-98c3-53370f201ec1",
   "metadata": {},
   "outputs": [],
   "source": []
  },
  {
   "cell_type": "markdown",
   "id": "45e61a77-688d-4bec-8319-be65bb43aaef",
   "metadata": {
    "user_expressions": []
   },
   "source": [
    "## Model"
   ]
  },
  {
   "cell_type": "markdown",
   "id": "1db0a22f-d15a-4608-b111-a60a0a1ccf96",
   "metadata": {
    "pycharm": {
     "name": "#%% md\n"
    },
    "user_expressions": []
   },
   "source": [
    "The input data is a coordinate vector, $\\mathbf{x}_\\phi$, of the image coordinates.\n",
    "\n",
    "$$\n",
    "\\mathbf{x}_\\phi \\in \\mathbb{R}^{D_\\phi}\n",
    "$$\n",
    "\n",
    "where $D_\\phi = [\\text{x}, \\text{y}]$. So we are interested in learning a function, $\\boldsymbol{f}$, such that we can input a coordinate vector and output a scaler/vector value of the pixel value.\n",
    "\n",
    "$$\n",
    "\\mathbf{u} = \\boldsymbol{f}(\\mathbf{x}_\\phi; \\boldsymbol{\\theta})\n",
    "$$"
   ]
  },
  {
   "cell_type": "markdown",
   "id": "4c861926-1aea-47a7-b527-035a76b32f68",
   "metadata": {
    "user_expressions": []
   },
   "source": [
    "**Identity**\n",
    "\n",
    "$$\n",
    "\\gamma_T(t) = t\n",
    "$$"
   ]
  },
  {
   "cell_type": "code",
   "execution_count": 17,
   "id": "6da899bd-15f5-4905-879a-813b9bfc6737",
   "metadata": {},
   "outputs": [
    {
     "data": {
      "text/plain": [
       "(Array(-1., dtype=float64), Array(1., dtype=float64))"
      ]
     },
     "execution_count": 17,
     "metadata": {},
     "output_type": "execute_result"
    }
   ],
   "source": [
    "from jejeqx._src.nets import time_net\n",
    "\n",
    "latent_dim = 128\n",
    "\n",
    "time_encoder = time_net.TimeIdentity(out_features=latent_dim, key=jrandom.PRNGKey(123))\n",
    "\n",
    "out = time_encoder(t_init[0])\n",
    "\n",
    "assert out.shape == (latent_dim,)\n",
    "\n",
    "out_batch = jax.vmap(time_encoder)(t_init)\n",
    "\n",
    "assert out_batch.shape == (t_init.shape[0],latent_dim)\n",
    "\n",
    "out_batch.min(), out_batch.max()"
   ]
  },
  {
   "cell_type": "markdown",
   "id": "4c2fa7ff-2aea-4fb7-a138-c8766094d45b",
   "metadata": {
    "user_expressions": []
   },
   "source": [
    "**Linear**\n",
    "\n",
    "$$\n",
    "\\gamma_T(t) = \\mathbf{w}t + \\mathbf{b}\n",
    "$$"
   ]
  },
  {
   "cell_type": "code",
   "execution_count": 18,
   "id": "6be00666-7ab5-4434-9b75-d76d3b9fce13",
   "metadata": {},
   "outputs": [
    {
     "data": {
      "text/plain": [
       "(Array(-1.70982319, dtype=float64), Array(1.7617026, dtype=float64))"
      ]
     },
     "execution_count": 18,
     "metadata": {},
     "output_type": "execute_result"
    }
   ],
   "source": [
    "latent_dim = 128\n",
    "\n",
    "time_encoder = eqx.nn.Linear(\n",
    "    in_features=1, out_features=latent_dim, key=jrandom.PRNGKey(123)\n",
    ")\n",
    "\n",
    "\n",
    "out = time_encoder(t_init[0])\n",
    "\n",
    "assert out.shape == (latent_dim,)\n",
    "\n",
    "out_batch = jax.vmap(time_encoder)(t_init)\n",
    "\n",
    "assert out_batch.shape == (t_init.shape[0],latent_dim)\n",
    "\n",
    "out_batch.min(), out_batch.max()"
   ]
  },
  {
   "cell_type": "markdown",
   "id": "a81abbae-2550-4802-8dcd-2bd1303e1f1d",
   "metadata": {
    "user_expressions": []
   },
   "source": [
    "**Tanh**\n",
    "\n",
    "$$\n",
    "\\gamma_T(t) = \\tanh\\left(\\mathbf{w}t+\\mathbf{b}\\right)\n",
    "$$"
   ]
  },
  {
   "cell_type": "code",
   "execution_count": 19,
   "id": "f658f0f8-c7fa-43af-a292-1c9addaa81f4",
   "metadata": {},
   "outputs": [
    {
     "data": {
      "text/plain": [
       "(Array(-0.93662585, dtype=float64), Array(0.94269286, dtype=float64))"
      ]
     },
     "execution_count": 19,
     "metadata": {},
     "output_type": "execute_result"
    }
   ],
   "source": [
    "latent_dim = 128\n",
    "\n",
    "time_encoder = time_net.TimeTanh(\n",
    "    in_features=1, out_features=latent_dim, \n",
    "    use_bias=True,\n",
    "    key=jrandom.PRNGKey(123)\n",
    ")\n",
    "\n",
    "out = time_encoder(t_init[0])\n",
    "\n",
    "assert out.shape == (latent_dim,)\n",
    "\n",
    "out_batch = jax.vmap(time_encoder)(t_init)\n",
    "\n",
    "assert out_batch.shape == (t_init.shape[0],latent_dim)\n",
    "\n",
    "out_batch.min(), out_batch.max()"
   ]
  },
  {
   "cell_type": "markdown",
   "id": "bedb1141-4038-44dc-af84-68292e9a9130",
   "metadata": {
    "user_expressions": []
   },
   "source": [
    "**Log**\n",
    "\n",
    "$$\n",
    "\\gamma_T(t) = \\log\\left(\\exp\\left(\\mathbf{w}t+\\mathbf{b}\\right) +1\\right)\n",
    "$$"
   ]
  },
  {
   "cell_type": "code",
   "execution_count": 20,
   "id": "2cbab978-bc11-4c7e-9fb7-12f20a3878b2",
   "metadata": {},
   "outputs": [
    {
     "data": {
      "text/plain": [
       "(Array(0.16627497, dtype=float64), Array(1.92020283, dtype=float64))"
      ]
     },
     "execution_count": 20,
     "metadata": {},
     "output_type": "execute_result"
    }
   ],
   "source": [
    "latent_dim = 128\n",
    "\n",
    "time_encoder = time_net.TimeLog(\n",
    "    in_features=1, out_features=latent_dim, \n",
    "    use_bias=True,\n",
    "    key=jrandom.PRNGKey(123)\n",
    ")\n",
    "\n",
    "out = time_encoder(t_init[0])\n",
    "\n",
    "assert out.shape == (latent_dim,)\n",
    "\n",
    "out_batch = jax.vmap(time_encoder)(t_init)\n",
    "\n",
    "assert out_batch.shape == (t_init.shape[0],latent_dim)\n",
    "\n",
    "out_batch.min(), out_batch.max()"
   ]
  },
  {
   "cell_type": "markdown",
   "id": "e61ea187-e526-4cdd-9cd4-57b379c102cf",
   "metadata": {
    "user_expressions": []
   },
   "source": [
    "**Fourier**\n",
    "\n",
    "$$\n",
    "\\gamma_T(t) = \\log\\left(\\exp\\left(\\mathbf{w}t+\\mathbf{b}\\right) +1\\right)\n",
    "$$"
   ]
  },
  {
   "cell_type": "code",
   "execution_count": 21,
   "id": "eb85852d-66b0-437b-95f3-4ae7244cb5e1",
   "metadata": {},
   "outputs": [
    {
     "data": {
      "text/plain": [
       "(Array(-0.49999261, dtype=float64), Array(0.49999261, dtype=float64))"
      ]
     },
     "execution_count": 21,
     "metadata": {},
     "output_type": "execute_result"
    }
   ],
   "source": [
    "latent_dim = 128\n",
    "bounded = True\n",
    "time_encoder = time_net.TimeFourier(\n",
    "    in_features=1, out_features=latent_dim, \n",
    "    bounded=bounded,\n",
    "    key=jrandom.PRNGKey(123)\n",
    ")\n",
    "\n",
    "out = time_encoder(t_init[0])\n",
    "\n",
    "assert out.shape == (latent_dim,)\n",
    "\n",
    "out_batch = jax.vmap(time_encoder)(t_init)\n",
    "\n",
    "assert out_batch.shape == (t_init.shape[0],latent_dim)\n",
    "\n",
    "out_batch.min(), out_batch.max()"
   ]
  },
  {
   "cell_type": "markdown",
   "id": "8f7d6c86-41fb-4bba-a9c7-22fdaff7159a",
   "metadata": {
    "user_expressions": []
   },
   "source": [
    "#### Positional Encoding"
   ]
  },
  {
   "cell_type": "code",
   "execution_count": 18,
   "id": "703f9554-fde2-46e5-afe0-a377e165d61a",
   "metadata": {},
   "outputs": [],
   "source": [
    "from jejeqx._src.nets.nerfs import encoders"
   ]
  },
  {
   "cell_type": "markdown",
   "id": "86b86bb2-f4cc-4c8a-9c73-ff3cbc02799b",
   "metadata": {
    "user_expressions": []
   },
   "source": [
    "#### Gaussian Random Features\n",
    "\n",
    "\n",
    "Source:\n",
    "\n",
    "* [Blog](https://gregorygundersen.com/blog/2019/12/23/random-fourier-features/)\n",
    "* [Tutorial](https://random-walks.org/content/misc/rff/rff.html)"
   ]
  },
  {
   "cell_type": "code",
   "execution_count": 19,
   "id": "a3776754-a396-41cc-885e-a54fde1b6884",
   "metadata": {},
   "outputs": [],
   "source": [
    "latent_dim = 128\n",
    "in_dim = 1\n",
    "sigma = 1.0\n",
    "key = key = jrandom.PRNGKey(42)\n",
    "\n",
    "projection = jnp.eye(in_dim)\n",
    "\n",
    "time_encoder = encoders.GaussianFourierFeatureEncoding(in_dim=in_dim, num_features=latent_dim, sigma=sigma, key=key)\n",
    "\n",
    "out = time_encoder(t_init[0])\n",
    "\n",
    "assert out.shape[-1] == time_encoder.out_dim\n",
    "\n",
    "out_batch = jax.vmap(time_encoder)(t_init)\n",
    "\n",
    "out.shape, out_batch.shape\n",
    "\n",
    "assert out_batch.shape[-1] == time_encoder.out_dim"
   ]
  },
  {
   "cell_type": "markdown",
   "id": "be12dacd-46dc-448d-a154-76a894f0ab26",
   "metadata": {
    "user_expressions": []
   },
   "source": [
    "#### Identity"
   ]
  },
  {
   "cell_type": "code",
   "execution_count": 20,
   "id": "752c0e8b-1e40-4dca-a5b9-183d122e209d",
   "metadata": {},
   "outputs": [],
   "source": [
    "latent_dim = 128\n",
    "in_dim = 1\n",
    "\n",
    "projection = jnp.eye(in_dim)\n",
    "\n",
    "time_encoder = encoders.IdentityEncoding(in_dim=in_dim)\n",
    "\n",
    "out = time_encoder(t_init[0])\n",
    "\n",
    "assert out.shape[-1] == time_encoder.out_dim\n",
    "\n",
    "out_batch = jax.vmap(time_encoder)(t_init)\n",
    "\n",
    "assert out_batch.shape[-1] == time_encoder.out_dim"
   ]
  },
  {
   "cell_type": "markdown",
   "id": "82a47944-c139-4cd7-878e-a0733832438d",
   "metadata": {
    "user_expressions": []
   },
   "source": [
    "#### NeRF-Like Positional Encoding\n",
    "\n",
    "*NeRF - Neural Radiance Fields*"
   ]
  },
  {
   "cell_type": "code",
   "execution_count": 21,
   "id": "65d888db-2fd2-4183-9c1a-cc2716efdb8e",
   "metadata": {},
   "outputs": [],
   "source": [
    "latent_dim = 128\n",
    "in_dim = 1\n",
    "\n",
    "projection = jnp.eye(in_dim)\n",
    "\n",
    "time_encoder = encoders.SinusoidalEncoding(in_dim=in_dim, num_features=latent_dim)\n",
    "\n",
    "out = time_encoder(t_init[0])\n",
    "\n",
    "assert out.shape[-1] == time_encoder.out_dim\n",
    "\n",
    "out_batch = jax.vmap(time_encoder)(t_init)\n",
    "\n",
    "out.shape, out_batch.shape\n",
    "\n",
    "assert out_batch.shape[-1] == time_encoder.out_dim"
   ]
  }
 ],
 "metadata": {
  "kernelspec": {
   "display_name": "Python [conda env:miniconda3-jejeqx]",
   "language": "python",
   "name": "conda-env-miniconda3-jejeqx-py"
  },
  "language_info": {
   "codemirror_mode": {
    "name": "ipython",
    "version": 3
   },
   "file_extension": ".py",
   "mimetype": "text/x-python",
   "name": "python",
   "nbconvert_exporter": "python",
   "pygments_lexer": "ipython3",
   "version": "3.10.10"
  }
 },
 "nbformat": 4,
 "nbformat_minor": 5
}

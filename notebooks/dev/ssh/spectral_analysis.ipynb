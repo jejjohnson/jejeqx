{
 "cells": [
  {
   "cell_type": "markdown",
   "id": "7bd9a6d6-1723-4d2f-9547-f7277212c0db",
   "metadata": {
    "tags": [],
    "user_expressions": []
   },
   "source": [
    "---\n",
    "title: Gradient Considerations\n",
    "date: 2023-04-01\n",
    "authors:\n",
    "  - name: J. Emmanuel Johnson\n",
    "    affiliations:\n",
    "      - MEOM Lab\n",
    "    roles:\n",
    "      - Primary Programmer\n",
    "    email: jemanjohnson34@gmail.com\n",
    "license: CC-BY-4.0\n",
    "keywords: NerFs, Images\n",
    "---"
   ]
  },
  {
   "cell_type": "markdown",
   "id": "0aac5f2c-43a7-46e7-8b06-c91f10967369",
   "metadata": {},
   "source": [
    "> In this notebook, we take a look at some of the derived quantities for sea surface height (SSH). These are physically meaningful quantities like velocity and vorticity. From these, we can visually assess how well our reconstruction methods perform."
   ]
  },
  {
   "cell_type": "code",
   "execution_count": null,
   "id": "313f4954-0f66-432f-b4ed-484c42483e93",
   "metadata": {
    "tags": []
   },
   "outputs": [],
   "source": [
    "import autoroot\n",
    "import jax\n",
    "import jax.numpy as jnp\n",
    "import jax.scipy as jsp\n",
    "import jax.random as jrandom\n",
    "import numpy as np\n",
    "import numba as nb\n",
    "import equinox as eqx\n",
    "import kernex as kex\n",
    "import finitediffx as fdx\n",
    "import diffrax as dfx\n",
    "import xarray as xr\n",
    "import matplotlib.pyplot as plt\n",
    "import seaborn as sns\n",
    "from tqdm.notebook import tqdm, trange\n",
    "from jaxtyping import Float, Array, PyTree, ArrayLike\n",
    "import wandb\n",
    "from omegaconf import OmegaConf\n",
    "import hydra\n",
    "import metpy\n",
    "from sklearn.pipeline import Pipeline\n",
    "from jejeqx._src.transforms.dataframe.spatial import Spherical2Cartesian\n",
    "from jejeqx._src.transforms.dataframe.temporal import TimeDelta\n",
    "from jejeqx._src.transforms.dataframe.scaling import MinMaxDF\n",
    "\n",
    "\n",
    "sns.reset_defaults()\n",
    "sns.set_context(context=\"talk\", font_scale=0.7)\n",
    "jax.config.update(\"jax_enable_x64\", False)\n",
    "\n",
    "%matplotlib inline\n",
    "%load_ext autoreload\n",
    "%autoreload 2"
   ]
  },
  {
   "cell_type": "markdown",
   "id": "3a914616-8618-49d1-8501-305c3913b349",
   "metadata": {
    "user_expressions": []
   },
   "source": [
    "## Recap Formulation\n",
    "\n",
    "We are interested in learning non-linear functions $\\boldsymbol{f}$.\n",
    "\n",
    "$$\n",
    "\\begin{aligned}\n",
    "\\boldsymbol{f}(\\mathbf{x}) &=\n",
    "\\mathbf{w}^\\top\\boldsymbol{\\phi}(\\mathbf{x})+\\mathbf{b}\n",
    "\\end{aligned}\n",
    "$$\n",
    "\n",
    "where the $\\boldsymbol{\\phi}(\\cdot)$ is a basis function. Neural Fields typically try to learn this basis funciton via a series of composite functions of the form\n",
    "\n",
    "$$\n",
    "\\boldsymbol{\\phi}(\\mathbf{x}) =\n",
    "\\boldsymbol{\\phi}_L\\circ\\boldsymbol{\\phi}_{L-1}\n",
    "\\circ\\cdots\\circ\n",
    "\\boldsymbol{\\phi}_2\\circ\\boldsymbol{\\phi}_{1}(\\mathbf{x})\n",
    "$$"
   ]
  },
  {
   "cell_type": "markdown",
   "id": "365f2667-f09e-4c19-bcb3-f0ce87dd49c6",
   "metadata": {
    "user_expressions": []
   },
   "source": [
    "## Problems\n",
    "\n",
    "Here, we will demonstrate a problem that a naive network has."
   ]
  },
  {
   "cell_type": "markdown",
   "id": "ae407479-1135-4ecf-908d-cc32a1819376",
   "metadata": {
    "user_expressions": []
   },
   "source": [
    "## Data"
   ]
  },
  {
   "cell_type": "code",
   "execution_count": null,
   "id": "d65cb502-1777-4d8e-b79e-013c8a4a95f0",
   "metadata": {},
   "outputs": [],
   "source": [
    "# !wget wget -nc https://s3.us-east-1.wasabisys.com/melody/osse_data/ref/NATL60-CJM165_GULFSTREAM_ssh_y2013.1y.nc"
   ]
  },
  {
   "cell_type": "code",
   "execution_count": null,
   "id": "42199f63-a711-4d03-87b6-04fe0965e83d",
   "metadata": {},
   "outputs": [],
   "source": [
    "from pathlib import Path"
   ]
  },
  {
   "cell_type": "code",
   "execution_count": null,
   "id": "e2318451-c5c6-41a4-a3b7-c75316d3a37a",
   "metadata": {},
   "outputs": [],
   "source": [
    "Path(\n",
    "    \"/gpfswork/rech/cli/uvo53rl/projects/jejeqx/data/natl60/NATL60-CJM165_GULFSTREAM_ssh_y2013.1y.nc\"\n",
    ").is_file()"
   ]
  },
  {
   "cell_type": "code",
   "execution_count": null,
   "id": "b13a5d5d-1618-4813-9244-e5ac435996e3",
   "metadata": {},
   "outputs": [],
   "source": [
    "from dataclasses import dataclass, field\n",
    "from typing import List, Dict\n",
    "\n",
    "\n",
    "@dataclass\n",
    "class Subset:\n",
    "    _target_: str = \"builtins.slice\"\n",
    "    _args_: List = field(default_factory=lambda: [\"2013-01-01\", \"2013-01-01\"])\n",
    "\n",
    "\n",
    "@dataclass\n",
    "class SSHDM:\n",
    "    _target_: str = \"jejeqx._src.datamodules.coords.AlongTrackDM\"\n",
    "    batch_size: int = 10_000\n",
    "    shuffle: bool = False\n",
    "    train_size: float = 0.80\n",
    "    subset_size: float = 0.40\n",
    "    decode_times: bool = False\n",
    "    spatial_coords: List = field(default_factory=lambda: [\"lat\", \"lon\"])\n",
    "    temporal_coords: List = field(default_factory=lambda: [\"time\"])\n",
    "    variables: List = field(default_factory=lambda: [\"ssh\"])\n",
    "    paths: str = \"/gpfswork/rech/cli/uvo53rl/projects/jejeqx/data/natl60/NATL60-CJM165_GULFSTREAM_ssh_y2013*\"\n",
    "\n",
    "\n",
    "# spatial transform\n",
    "spatial_transforms = Pipeline(\n",
    "    [\n",
    "        (\"cartesian3d\", Spherical2Cartesian(radius=1.0, units=\"degrees\")),\n",
    "        (\"spatialminmax\", MinMaxDF([\"x\", \"y\", \"z\"], -1, 1)),\n",
    "    ]\n",
    ")\n",
    "\n",
    "temporal_transforms = Pipeline(\n",
    "    [\n",
    "        (\"timedelta\", TimeDelta(\"2012-10-01\", 1, \"s\")),\n",
    "        (\"timeminmax\", MinMaxDF([\"time\"], -1, 1)),\n",
    "    ]\n",
    ")"
   ]
  },
  {
   "cell_type": "code",
   "execution_count": null,
   "id": "891b679e-de15-4353-9ee0-b3c8d614b8be",
   "metadata": {},
   "outputs": [],
   "source": [
    "select = {\"time\": slice(\"2013-01-01\", \"2013-06-01\")}\n",
    "\n",
    "config_dm = OmegaConf.structured(SSHDM())\n",
    "\n",
    "dm = hydra.utils.instantiate(\n",
    "    config_dm,\n",
    "    select=select,\n",
    "    spatial_transform=spatial_transforms,\n",
    "    temporal_transform=temporal_transforms,\n",
    ")\n",
    "\n",
    "dm.setup()\n",
    "\n",
    "\n",
    "init = dm.ds_train[:32]\n",
    "x_init, t_init, y_init = init[\"spatial\"], init[\"temporal\"], init[\"data\"]\n",
    "x_init.min(), x_init.max(), x_init.shape, t_init.min(), t_init.max(), t_init.shape"
   ]
  },
  {
   "cell_type": "code",
   "execution_count": null,
   "id": "681d3b48-55da-4b7f-9523-ad45ba83d1ee",
   "metadata": {},
   "outputs": [],
   "source": [
    "xrda = dm.load_xrds()\n",
    "xrda"
   ]
  },
  {
   "cell_type": "code",
   "execution_count": null,
   "id": "01b18a4f-fc0b-417a-a364-ddf771086aea",
   "metadata": {},
   "outputs": [],
   "source": [
    "import jejeqx._src.transforms.xarray.geostrophic as geocalc\n",
    "import jejeqx._src.viz.geostrophic as geoplot\n",
    "from jejeqx._src.viz.utils import get_cbar_label"
   ]
  },
  {
   "cell_type": "code",
   "execution_count": null,
   "id": "7ae69628-830d-4f14-b7bc-b7342368dc63",
   "metadata": {},
   "outputs": [],
   "source": [
    "def calculate_physical_quantities(da):\n",
    "    # SSH\n",
    "    ds = geocalc.get_ssh_dataset(da)\n",
    "\n",
    "    # Stream Function\n",
    "    ds = geocalc.calculate_streamfunction(ds, \"ssh\")\n",
    "\n",
    "    # U,V Velocities\n",
    "    ds = geocalc.calculate_velocities_sf(ds, \"psi\")\n",
    "\n",
    "    # Kinetic Energy\n",
    "    ds = geocalc.calculate_kinetic_energy(ds, [\"u\", \"v\"])\n",
    "\n",
    "    # Relative Vorticity\n",
    "    ds = geocalc.calculate_relative_vorticity_uv(ds, [\"u\", \"v\"], normalized=True)\n",
    "\n",
    "    # Strain\n",
    "    ds = geocalc.calculate_strain_magnitude(ds, [\"u\", \"v\"], normalized=True)\n",
    "\n",
    "    return ds"
   ]
  },
  {
   "cell_type": "code",
   "execution_count": null,
   "id": "e2b254a9-f565-411f-9f9e-eefb8304356b",
   "metadata": {},
   "outputs": [],
   "source": [
    "ds_natl60 = calculate_physical_quantities(xrda.ssh)"
   ]
  },
  {
   "cell_type": "code",
   "execution_count": null,
   "id": "a954b9b4-2d7b-425f-b847-960537ec2828",
   "metadata": {},
   "outputs": [],
   "source": []
  },
  {
   "cell_type": "code",
   "execution_count": null,
   "id": "e4b135aa-9e9f-4b2f-b324-edfb91bddcf6",
   "metadata": {},
   "outputs": [],
   "source": [
    "import cmocean as cmo\n",
    "\n",
    "\n",
    "def plot_analysis_vars(ds):\n",
    "    fig, ax = plt.subplots(nrows=2, ncols=3, figsize=(14, 7))\n",
    "\n",
    "    # SSH\n",
    "    cbar_kwargs = {\"label\": get_cbar_label(ds.ssh)}\n",
    "    ds.ssh.plot.pcolormesh(ax=ax[0, 0], cmap=\"viridis\", cbar_kwargs=cbar_kwargs)\n",
    "    plt.tight_layout()\n",
    "\n",
    "    # U\n",
    "    cbar_kwargs = {\"label\": get_cbar_label(ds.u)}\n",
    "    ds.u.plot.pcolormesh(ax=ax[0, 1], cmap=\"gray\", cbar_kwargs=cbar_kwargs)\n",
    "    plt.tight_layout()\n",
    "\n",
    "    # v\n",
    "    cbar_kwargs = {\"label\": get_cbar_label(ds.v)}\n",
    "    ds.v.plot.pcolormesh(ax=ax[0, 2], cmap=\"gray\", cbar_kwargs=cbar_kwargs)\n",
    "    plt.tight_layout()\n",
    "\n",
    "    # Kinetic Energy\n",
    "    cbar_kwargs = {\"label\": get_cbar_label(ds.ke)}\n",
    "    ds.ke.plot.pcolormesh(ax=ax[1, 0], cmap=\"YlGnBu_r\", cbar_kwargs=cbar_kwargs)\n",
    "    plt.tight_layout()\n",
    "\n",
    "    # Relative Vorticity\n",
    "    cbar_kwargs = {\"label\": get_cbar_label(ds.vort_r)}\n",
    "    ds.vort_r.plot.pcolormesh(ax=ax[1, 1], cmap=\"RdBu_r\", cbar_kwargs=cbar_kwargs)\n",
    "    plt.tight_layout()\n",
    "\n",
    "    # STRAIN\n",
    "    cbar_kwargs = {\"label\": get_cbar_label(ds.strain)}\n",
    "    ds.strain.plot.pcolormesh(ax=ax[1, 2], cmap=cmo.cm.speed, cbar_kwargs=cbar_kwargs)\n",
    "    plt.tight_layout()\n",
    "    return fig, ax"
   ]
  },
  {
   "cell_type": "code",
   "execution_count": null,
   "id": "597300c2-c590-4af9-9d85-1e791f47fd44",
   "metadata": {},
   "outputs": [],
   "source": []
  },
  {
   "cell_type": "code",
   "execution_count": null,
   "id": "1fa1c324-d1b9-4778-a58d-a5f9b08c2d95",
   "metadata": {},
   "outputs": [],
   "source": [
    "fig, ax = plot_analysis_vars(ds_natl60.isel(time=0))\n",
    "plt.show()"
   ]
  },
  {
   "cell_type": "code",
   "execution_count": null,
   "id": "0642d3f7-cf48-4781-bb99-4b782fd66002",
   "metadata": {},
   "outputs": [],
   "source": [
    "from jejeqx._src.transforms.xarray.grid import latlon_deg2m, time_rescale\n",
    "\n",
    "ds_psd_natl60 = latlon_deg2m(ds_natl60, mean=True)\n",
    "ds_psd_natl60 = time_rescale(ds_psd_natl60, 1, \"D\")\n",
    "ds_psd_natl60"
   ]
  },
  {
   "cell_type": "markdown",
   "id": "4a419cd6-1747-4933-bee1-8b3d07d15d8d",
   "metadata": {},
   "source": [
    "## IsoTropic PSD"
   ]
  },
  {
   "cell_type": "code",
   "execution_count": null,
   "id": "cfe4f5d2-966a-4b82-aa3c-e7c41a9d497f",
   "metadata": {},
   "outputs": [],
   "source": [
    "from jejeqx._src.transforms.xarray.psd import (\n",
    "    psd_spacetime,\n",
    "    psd_isotropic,\n",
    "    psd_average_freq,\n",
    ")\n",
    "\n",
    "\n",
    "def calculate_isotropic_psd(ds, freq_dt=1, freq_unit=\"D\"):\n",
    "    ds = latlon_deg2m(ds, mean=True)\n",
    "    ds = time_rescale(ds, freq_dt, freq_unit)\n",
    "\n",
    "    # calculate isotropic PSDs\n",
    "    ds_psd = xr.Dataset()\n",
    "    ds_psd[\"ssh\"] = psd_average_freq(psd_isotropic(ds.ssh, [\"lat\", \"lon\"]))\n",
    "    ds_psd[\"u\"] = psd_average_freq(psd_isotropic(ds.u, [\"lat\", \"lon\"]))\n",
    "    ds_psd[\"v\"] = psd_average_freq(psd_isotropic(ds.v, [\"lat\", \"lon\"]))\n",
    "    ds_psd[\"ke\"] = psd_average_freq(psd_isotropic(ds.ke, [\"lat\", \"lon\"]))\n",
    "    ds_psd[\"vort_r\"] = psd_average_freq(psd_isotropic(ds.vort_r, [\"lat\", \"lon\"]))\n",
    "    ds_psd[\"strain\"] = psd_average_freq(psd_isotropic(ds.strain, [\"lat\", \"lon\"]))\n",
    "\n",
    "    return ds_psd"
   ]
  },
  {
   "cell_type": "code",
   "execution_count": null,
   "id": "56f22cb2-2bae-418a-a828-4f6955162982",
   "metadata": {},
   "outputs": [],
   "source": [
    "ds_psd_natl60 = calculate_isotropic_psd(ds_natl60)"
   ]
  },
  {
   "cell_type": "code",
   "execution_count": null,
   "id": "815c1978-1bcc-499c-898d-3ce40ed6b0fc",
   "metadata": {},
   "outputs": [],
   "source": [
    "ds_psd_natl60.ssh"
   ]
  },
  {
   "cell_type": "code",
   "execution_count": null,
   "id": "15104a21-3cc7-4ff5-861b-2088788ccf8e",
   "metadata": {},
   "outputs": [],
   "source": [
    "import cmocean as cmo\n",
    "from jejeqx._src.viz.xarray.psd import plot_psd_isotropic, plot_psd_spacetime_wavenumber\n",
    "\n",
    "\n",
    "def plot_analysis_psd_iso(ds):\n",
    "    fig, ax = plt.subplots(ncols=3, nrows=2, figsize=(14, 7))\n",
    "\n",
    "    # SSH\n",
    "    scale = \"km\"\n",
    "    units = \"$m^{2}$/cycles/m\"\n",
    "    ax[0, 0] = plot_psd_isotropic(ds.ssh, units=units, scale=scale, ax=ax[0, 0])\n",
    "\n",
    "    # U\n",
    "    scale = \"km\"\n",
    "    units = \"U-Velocity\"  # \"$m^{2}$/cycles/m\"\n",
    "    ax[0, 1] = plot_psd_isotropic(ds.u, units=units, scale=scale, ax=ax[0, 1])\n",
    "\n",
    "    # v\n",
    "    scale = \"km\"\n",
    "    units = \"V-Velocity\"  # \"$m^{2}$/cycles/m\"\n",
    "    ax[0, 2] = plot_psd_isotropic(ds.v, units=units, scale=scale, ax=ax[0, 2])\n",
    "\n",
    "    # Kinetic Energy\n",
    "    scale = \"km\"\n",
    "    units = \"Kinetic Energy\"  # \"$m^{2}$/cycles/m\"\n",
    "    ax[1, 0] = plot_psd_isotropic(ds.ke, units=units, scale=scale, ax=ax[1, 0])\n",
    "\n",
    "    # Relative Vorticity\n",
    "    scale = \"km\"\n",
    "    units = \"U-Velocity\"  # \"$m^{2}$/cycles/m\"\n",
    "    ax[1, 1] = plot_psd_isotropic(ds.vort_r, units=units, scale=scale, ax=ax[1, 1])\n",
    "\n",
    "    # STRAIN\n",
    "    scale = \"km\"\n",
    "    units = \"Strain\"  # \"$m^{2}$/cycles/m\"\n",
    "    ax[1, 2] = plot_psd_isotropic(ds.u, units=units, scale=scale, ax=ax[1, 2])\n",
    "\n",
    "    plt.tight_layout()\n",
    "    return fig, ax"
   ]
  },
  {
   "cell_type": "code",
   "execution_count": null,
   "id": "5c9b9c3b-ca2f-4dc8-9fa3-eb7e51faec30",
   "metadata": {
    "tags": []
   },
   "outputs": [],
   "source": [
    "fig, ax = plot_analysis_psd_iso(ds_psd_natl60)\n",
    "plt.show()"
   ]
  },
  {
   "cell_type": "code",
   "execution_count": null,
   "id": "b7d153db-640f-4640-96f3-cc0114cd4181",
   "metadata": {},
   "outputs": [],
   "source": [
    "from jejeqx._src.transforms.xarray.psd import (\n",
    "    psd_spacetime,\n",
    "    psd_isotropic,\n",
    "    psd_average_freq,\n",
    ")\n",
    "\n",
    "\n",
    "def calculate_spacetime_psd(ds, freq_dt=1, freq_unit=\"D\"):\n",
    "    ds = latlon_deg2m(ds, mean=True)\n",
    "    ds = time_rescale(ds, freq_dt, freq_unit)\n",
    "\n",
    "    # calculate isotropic PSDs\n",
    "    ds_psd = xr.Dataset()\n",
    "    ds_psd[\"ssh\"] = psd_average_freq(psd_spacetime(ds.ssh, [\"time\", \"lon\"]))\n",
    "    ds_psd[\"u\"] = psd_average_freq(psd_spacetime(ds.u, [\"time\", \"lon\"]))\n",
    "    ds_psd[\"v\"] = psd_average_freq(psd_spacetime(ds.v, [\"time\", \"lon\"]))\n",
    "    ds_psd[\"ke\"] = psd_average_freq(psd_spacetime(ds.ke, [\"time\", \"lon\"]))\n",
    "    ds_psd[\"vort_r\"] = psd_average_freq(psd_spacetime(ds.vort_r, [\"time\", \"lon\"]))\n",
    "    ds_psd[\"strain\"] = psd_average_freq(psd_spacetime(ds.strain, [\"time\", \"lon\"]))\n",
    "\n",
    "    return ds_psd"
   ]
  },
  {
   "cell_type": "code",
   "execution_count": null,
   "id": "b15d971e-c0e2-4ce1-9cfd-16ef16157634",
   "metadata": {},
   "outputs": [],
   "source": [
    "ds_psd_natl60 = calculate_spacetime_psd(ds_natl60)\n",
    "ds_psd_natl60"
   ]
  },
  {
   "cell_type": "code",
   "execution_count": null,
   "id": "d891655d-e3b5-481a-86e3-3d7bea9cc7c0",
   "metadata": {},
   "outputs": [],
   "source": [
    "ds_psd_natl60 = calculate_spacetime_psd(ds_natl60)\n",
    "ds_psd_natl60"
   ]
  },
  {
   "cell_type": "code",
   "execution_count": null,
   "id": "cb9439ec-b695-4a8d-8c60-b9edc9503006",
   "metadata": {},
   "outputs": [],
   "source": [
    "import cmocean as cmo\n",
    "from jejeqx._src.viz.xarray.psd import plot_psd_isotropic, plot_psd_spacetime_wavenumber\n",
    "\n",
    "\n",
    "def plot_analysis_psd_spacetime(ds):\n",
    "    fig, ax = plt.subplots(ncols=3, nrows=2, figsize=(14, 7))\n",
    "\n",
    "    # SSH\n",
    "    scale = \"km\"\n",
    "    units = \"SSH\"  # \"$m^{2}$/cycles/m\"\n",
    "    _, ax[0, 0], _ = plot_psd_spacetime_wavelength(\n",
    "        ds.ssh, space_scale=scale, psd_units=units, ax=ax[0, 0]\n",
    "    )\n",
    "\n",
    "    # U\n",
    "    scale = \"km\"\n",
    "    units = \"U-Velocity\"  # \"$m^{2}$/cycles/m\"\n",
    "    ax[0, 1] = plot_psd_spacetime_wavelength(\n",
    "        ds.u, space_scale=scale, psd_units=units, ax=ax[0, 1]\n",
    "    )\n",
    "\n",
    "    # v\n",
    "    scale = \"km\"\n",
    "    units = \"V-Velocity\"  # \"$m^{2}$/cycles/m\"\n",
    "    ax[0, 2] = plot_psd_spacetime_wavelength(\n",
    "        ds.v, space_scale=scale, psd_units=units, ax=ax[0, 2]\n",
    "    )\n",
    "\n",
    "    # Kinetic Energy\n",
    "    scale = \"km\"\n",
    "    units = \"Kinetic Energy\"  # \"$m^{2}$/cycles/m\"\n",
    "    ax[1, 0] = plot_psd_spacetime_wavelength(\n",
    "        ds.ke, space_scale=scale, psd_units=units, ax=ax[1, 0]\n",
    "    )\n",
    "\n",
    "    # Relative Vorticity\n",
    "    scale = \"km\"\n",
    "    units = \"Relative Vorticity\"  # \"$m^{2}$/cycles/m\"\n",
    "    ax[1, 1] = plot_psd_spacetime_wavelength(\n",
    "        ds.vort_r, space_scale=scale, psd_units=units, ax=ax[1, 1]\n",
    "    )\n",
    "\n",
    "    # STRAIN\n",
    "    scale = \"km\"\n",
    "    units = \"Strain\"  # \"$m^{2}$/cycles/m\"\n",
    "    ax[1, 2] = plot_psd_spacetime_wavelength(\n",
    "        ds.strain, space_scale=scale, psd_units=units, ax=ax[1, 2]\n",
    "    )\n",
    "\n",
    "    plt.tight_layout()\n",
    "    return fig, ax"
   ]
  },
  {
   "cell_type": "code",
   "execution_count": null,
   "id": "39e1e802-207e-43bd-913b-90b3b06966a6",
   "metadata": {},
   "outputs": [],
   "source": [
    "fig, ax = plot_analysis_psd_spacetime(ds_psd_natl60)\n",
    "plt.show()"
   ]
  },
  {
   "cell_type": "code",
   "execution_count": null,
   "id": "23d22261-dddb-4359-80f6-8c02d73f8ba9",
   "metadata": {},
   "outputs": [],
   "source": []
  },
  {
   "cell_type": "code",
   "execution_count": null,
   "id": "61a4daa3-3134-474d-a7cf-4d6e8b79a695",
   "metadata": {},
   "outputs": [],
   "source": []
  },
  {
   "cell_type": "code",
   "execution_count": null,
   "id": "766cb700-97d0-4b54-bde7-5d1ae07a71a2",
   "metadata": {},
   "outputs": [],
   "source": [
    "out = latlon_deg2m(ds_natl60.ssh, mean=True)\n",
    "out = time_rescale(out, 1, \"D\")\n",
    "out = psd_spacetime(out, [\"time\", \"lon\"])\n",
    "\n",
    "out = psd_average_freq(out)\n",
    "\n",
    "\n",
    "fig, ax, _ = plot_psd_spacetime_wavelength(out, \"km\", \"SSH\")\n",
    "# fig, ax, _ = plot_psd_spacetime_wavenumber(out, \"km\")\n",
    "\n",
    "plt.show()"
   ]
  },
  {
   "cell_type": "code",
   "execution_count": null,
   "id": "8859bc59-7817-441b-812c-b7bbe6f44658",
   "metadata": {},
   "outputs": [],
   "source": [
    "from jejeqx._src.viz.xarray.psd import (\n",
    "    plot_psd_spacetime_wavenumber,\n",
    "    plot_psd_spacetime_wavelength,\n",
    ")"
   ]
  },
  {
   "cell_type": "code",
   "execution_count": null,
   "id": "375d0e01-230e-49a2-bf5e-30c9718a04be",
   "metadata": {},
   "outputs": [],
   "source": [
    "fig, ax, _ = plot_psd_spacetime_wavenumber(ds_psd_natl60.ssh)\n",
    "\n",
    "plt.show()"
   ]
  },
  {
   "cell_type": "code",
   "execution_count": null,
   "id": "4d2f2ba9-3185-4d49-a053-8ddece6794b1",
   "metadata": {},
   "outputs": [],
   "source": [
    "fig, ax, _ = plot_psd_spacetime_wavelength(ds_psd_natl60.ssh)\n",
    "\n",
    "plt.show()"
   ]
  },
  {
   "cell_type": "code",
   "execution_count": null,
   "id": "718d310e-7fde-454e-8930-85c56c767684",
   "metadata": {},
   "outputs": [],
   "source": [
    "import cmocean as cmo\n",
    "\n",
    "\n",
    "def plot_analysis_psd_iso(ds):\n",
    "    fig, ax = plt.subplots(ncols=3, nrows=2, figsize=(14, 7))\n",
    "\n",
    "    # SSH\n",
    "    scale = \"km\"\n",
    "    units = \"$m^{2}$/cycles/m\"\n",
    "    ax[0, 0] = plot_psd_spacetime(ds.ssh, units=units, scale=scale, ax=ax[0, 0])\n",
    "\n",
    "    # U\n",
    "    scale = \"km\"\n",
    "    units = \"U-Velocity\"  # \"$m^{2}$/cycles/m\"\n",
    "    ax[0, 1] = plot_psd_spacetime(ds.u, units=units, scale=scale, ax=ax[0, 1])\n",
    "\n",
    "    # v\n",
    "    scale = \"km\"\n",
    "    units = \"V-Velocity\"  # \"$m^{2}$/cycles/m\"\n",
    "    ax[0, 2] = plot_psd_spacetime(ds.v, units=units, scale=scale, ax=ax[0, 2])\n",
    "\n",
    "    # Kinetic Energy\n",
    "    scale = \"km\"\n",
    "    units = \"Kinetic Energy\"  # \"$m^{2}$/cycles/m\"\n",
    "    ax[1, 0] = plot_psd_spacetime(ds.ke, units=units, scale=scale, ax=ax[1, 0])\n",
    "\n",
    "    # Relative Vorticity\n",
    "    scale = \"km\"\n",
    "    units = \"U-Velocity\"  # \"$m^{2}$/cycles/m\"\n",
    "    ax[1, 1] = plot_psd_spacetime(ds.vort_r, units=units, scale=scale, ax=ax[1, 1])\n",
    "\n",
    "    # STRAIN\n",
    "    scale = \"km\"\n",
    "    units = \"Strain\"  # \"$m^{2}$/cycles/m\"\n",
    "    ax[1, 2] = plot_psd_spacetime(ds.u, units=units, scale=scale, ax=ax[1, 2])\n",
    "\n",
    "    plt.tight_layout()\n",
    "    return fig, ax"
   ]
  },
  {
   "cell_type": "code",
   "execution_count": null,
   "id": "f44027a2-1245-4ef2-adf5-2cde90f541d8",
   "metadata": {},
   "outputs": [],
   "source": [
    "import xrft\n",
    "from jejeqx._src.transforms.xarray.psd import (\n",
    "    psd_spacetime,\n",
    "    psd_isotropic,\n",
    "    psd_average_freq,\n",
    ")"
   ]
  },
  {
   "cell_type": "code",
   "execution_count": null,
   "id": "77b9ba19-fd7d-4d8f-b1bf-ecebb6d5c884",
   "metadata": {},
   "outputs": [],
   "source": [
    "ds_psd = psd_isotropic(out_ds.ssh, [\"lat\", \"lon\"])\n",
    "ds_psd_avg = psd_average_freq(ds_psd)\n",
    "ds_psd_avg"
   ]
  },
  {
   "cell_type": "code",
   "execution_count": null,
   "id": "b23a4e5d-c363-44f0-a0f6-0f51b5fc7405",
   "metadata": {},
   "outputs": [],
   "source": [
    "from jejeqx._src.viz.xarray.psd import (\n",
    "    plot_psd_isotropic_wavenumber,\n",
    "    plot_psd_isotropic_wavelength,\n",
    "    plot_psd_isotropic,\n",
    ")"
   ]
  },
  {
   "cell_type": "code",
   "execution_count": null,
   "id": "478a577b-c3ee-4996-a0ee-c565b8869e25",
   "metadata": {},
   "outputs": [],
   "source": [
    "scale = \"km\"\n",
    "units = \"$m^{2}$/cycles/m\"\n",
    "fig, ax = plt.subplots(ncols=2, nrows=3, figsize=(10, 12))\n",
    "\n",
    "ax[1, 1] = plot_psd_isotropic(ds_psd_avg, units=units, scale=scale, ax=ax[1, 1])\n",
    "\n",
    "\n",
    "plt.tight_layout()\n",
    "plt.show()"
   ]
  },
  {
   "cell_type": "code",
   "execution_count": null,
   "id": "92804ed8-f636-4da0-a273-5da12395300f",
   "metadata": {},
   "outputs": [],
   "source": []
  },
  {
   "cell_type": "code",
   "execution_count": null,
   "id": "f2ff7273-af8f-42a5-970a-c56fbabb095e",
   "metadata": {},
   "outputs": [],
   "source": [
    "plot_psd_isotropi"
   ]
  },
  {
   "cell_type": "code",
   "execution_count": null,
   "id": "f743af5b-412b-4f6e-b91c-ea2dad5c7580",
   "metadata": {},
   "outputs": [],
   "source": [
    "import matplotlib.colors as colors\n",
    "import matplotlib.ticker as ticker\n",
    "\n",
    "\n",
    "def plot_psd_spacetime_wavenumber(freq_x, freq_y, psd):\n",
    "    fig, ax = plt.subplots()\n",
    "\n",
    "    locator = ticker.LogLocator()\n",
    "    norm = colors.LogNorm()\n",
    "\n",
    "    pts = ax.contourf(\n",
    "        freq_x, freq_y, psd, norm=norm, locator=locator, cmap=\"RdYlGn\", extend=\"both\"\n",
    "    )\n",
    "\n",
    "    ax.set(\n",
    "        yscale=\"log\",\n",
    "        xscale=\"log\",\n",
    "        xlabel=\"Wavenumber [cycles/km]\",\n",
    "        ylabel=\"Frequency [cycles/days]\",\n",
    "    )\n",
    "    # colorbar\n",
    "    fmt = ticker.LogFormatterMathtext(base=10)\n",
    "    cbar = fig.colorbar(\n",
    "        pts,\n",
    "        pad=0.02,\n",
    "        format=fmt,\n",
    "    )\n",
    "    cbar.ax.set_ylabel(r\"PSD [m$^{2}$/cycles/m]\")\n",
    "\n",
    "    plt.grid(which=\"both\", linestyle=\"--\", linewidth=1, color=\"black\", alpha=0.2)\n",
    "\n",
    "    return fig, ax, cbar"
   ]
  },
  {
   "cell_type": "code",
   "execution_count": null,
   "id": "dce98893-b318-417a-9fa0-8c3346ee2791",
   "metadata": {},
   "outputs": [],
   "source": []
  },
  {
   "cell_type": "code",
   "execution_count": null,
   "id": "aef14d69-c9b7-4f11-93b1-10c093f33d8d",
   "metadata": {},
   "outputs": [],
   "source": []
  },
  {
   "cell_type": "code",
   "execution_count": null,
   "id": "f4612e42-b738-4a31-8e8a-de81964a0924",
   "metadata": {},
   "outputs": [],
   "source": [
    "# average over latitude\n",
    "mean_psd_signal = psd_signal.mean(dim=\"latitude\").where(\n",
    "    (psd_signal.freq_longitude > 0.0) & (psd_signal.freq_time > 0.0), drop=True\n",
    ")"
   ]
  },
  {
   "cell_type": "code",
   "execution_count": null,
   "id": "26e1a8de-02df-403d-918d-3e0ad7ac94eb",
   "metadata": {},
   "outputs": [],
   "source": []
  },
  {
   "cell_type": "code",
   "execution_count": null,
   "id": "80800503-d350-4a5c-ab78-0afaec2d2424",
   "metadata": {},
   "outputs": [],
   "source": [
    "np.sum(out[0])"
   ]
  },
  {
   "cell_type": "code",
   "execution_count": null,
   "id": "92fc4a7d-42b6-49d6-bf2f-28d867c08cc2",
   "metadata": {},
   "outputs": [],
   "source": [
    "np.sum(dx), np.sum(dy)"
   ]
  },
  {
   "cell_type": "code",
   "execution_count": null,
   "id": "f2fb54d6-af9a-40ef-a8ce-b3b23d3d9fa0",
   "metadata": {},
   "outputs": [],
   "source": [
    "np.mean(dx), np.mean(dy)"
   ]
  },
  {
   "cell_type": "code",
   "execution_count": null,
   "id": "53d5f6bc-578e-4503-8e70-6f75de58025f",
   "metadata": {},
   "outputs": [],
   "source": [
    "np.mean(dx) * len(dx), np.mean(dy) * len(dx)"
   ]
  },
  {
   "cell_type": "code",
   "execution_count": null,
   "id": "453e76a2-51ef-40d5-a61f-7923f1edffdb",
   "metadata": {},
   "outputs": [],
   "source": [
    "out = metpy.calc.lat_lon_grid_deltas(ds.lon, ds.lat)\n",
    "out"
   ]
  },
  {
   "cell_type": "code",
   "execution_count": null,
   "id": "0a08e05c-9368-4a0a-be60-13dcc95209fe",
   "metadata": {},
   "outputs": [],
   "source": []
  }
 ],
 "metadata": {
  "kernelspec": {
   "display_name": "Python [conda env:miniconda3-jejeqx]",
   "language": "python",
   "name": "conda-env-miniconda3-jejeqx-py"
  },
  "language_info": {
   "codemirror_mode": {
    "name": "ipython",
    "version": 3
   },
   "file_extension": ".py",
   "mimetype": "text/x-python",
   "name": "python",
   "nbconvert_exporter": "python",
   "pygments_lexer": "ipython3",
   "version": "3.10.10"
  }
 },
 "nbformat": 4,
 "nbformat_minor": 5
}

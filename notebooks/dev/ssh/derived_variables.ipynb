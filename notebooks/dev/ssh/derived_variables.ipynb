{
 "cells": [
  {
   "cell_type": "markdown",
   "id": "7bd9a6d6-1723-4d2f-9547-f7277212c0db",
   "metadata": {
    "tags": [],
    "user_expressions": []
   },
   "source": [
    "---\n",
    "title: Gradient Considerations\n",
    "date: 2023-04-01\n",
    "authors:\n",
    "  - name: J. Emmanuel Johnson\n",
    "    affiliations:\n",
    "      - MEOM Lab\n",
    "    roles:\n",
    "      - Primary Programmer\n",
    "    email: jemanjohnson34@gmail.com\n",
    "license: CC-BY-4.0\n",
    "keywords: NerFs, Images\n",
    "---"
   ]
  },
  {
   "cell_type": "markdown",
   "id": "0aac5f2c-43a7-46e7-8b06-c91f10967369",
   "metadata": {},
   "source": [
    "> In this notebook, we take a look at some of the derived quantities for sea surface height (SSH). These are physically meaningful quantities like velocity and vorticity. From these, we can visually assess how well our reconstruction methods perform."
   ]
  },
  {
   "cell_type": "code",
   "execution_count": null,
   "id": "313f4954-0f66-432f-b4ed-484c42483e93",
   "metadata": {
    "tags": []
   },
   "outputs": [],
   "source": [
    "import autoroot\n",
    "import jax\n",
    "import jax.numpy as jnp\n",
    "import jax.scipy as jsp\n",
    "import jax.random as jrandom\n",
    "import numpy as np\n",
    "import numba as nb\n",
    "import equinox as eqx\n",
    "import kernex as kex\n",
    "import finitediffx as fdx\n",
    "import diffrax as dfx\n",
    "import xarray as xr\n",
    "import matplotlib.pyplot as plt\n",
    "import seaborn as sns\n",
    "from tqdm.notebook import tqdm, trange\n",
    "from jaxtyping import Float, Array, PyTree, ArrayLike\n",
    "import wandb\n",
    "from omegaconf import OmegaConf\n",
    "import hydra\n",
    "import metpy\n",
    "from sklearn.pipeline import Pipeline\n",
    "from jejeqx._src.transforms.dataframe.spatial import Spherical2Cartesian\n",
    "from jejeqx._src.transforms.dataframe.temporal import TimeDelta\n",
    "from jejeqx._src.transforms.dataframe.scaling import MinMaxDF\n",
    "\n",
    "\n",
    "sns.reset_defaults()\n",
    "sns.set_context(context=\"talk\", font_scale=0.7)\n",
    "jax.config.update(\"jax_enable_x64\", False)\n",
    "\n",
    "%matplotlib inline\n",
    "%load_ext autoreload\n",
    "%autoreload 2"
   ]
  },
  {
   "cell_type": "markdown",
   "id": "3a914616-8618-49d1-8501-305c3913b349",
   "metadata": {
    "user_expressions": []
   },
   "source": [
    "## Recap Formulation\n",
    "\n",
    "We are interested in learning non-linear functions $\\boldsymbol{f}$.\n",
    "\n",
    "$$\n",
    "\\begin{aligned}\n",
    "\\boldsymbol{f}(\\mathbf{x}) &=\n",
    "\\mathbf{w}^\\top\\boldsymbol{\\phi}(\\mathbf{x})+\\mathbf{b}\n",
    "\\end{aligned}\n",
    "$$\n",
    "\n",
    "where the $\\boldsymbol{\\phi}(\\cdot)$ is a basis function. Neural Fields typically try to learn this basis funciton via a series of composite functions of the form\n",
    "\n",
    "$$\n",
    "\\boldsymbol{\\phi}(\\mathbf{x}) =\n",
    "\\boldsymbol{\\phi}_L\\circ\\boldsymbol{\\phi}_{L-1}\n",
    "\\circ\\cdots\\circ\n",
    "\\boldsymbol{\\phi}_2\\circ\\boldsymbol{\\phi}_{1}(\\mathbf{x})\n",
    "$$"
   ]
  },
  {
   "cell_type": "markdown",
   "id": "365f2667-f09e-4c19-bcb3-f0ce87dd49c6",
   "metadata": {
    "user_expressions": []
   },
   "source": [
    "## Problems\n",
    "\n",
    "Here, we will demonstrate a problem that a naive network has."
   ]
  },
  {
   "cell_type": "markdown",
   "id": "ae407479-1135-4ecf-908d-cc32a1819376",
   "metadata": {
    "user_expressions": []
   },
   "source": [
    "## Data"
   ]
  },
  {
   "cell_type": "code",
   "execution_count": null,
   "id": "d65cb502-1777-4d8e-b79e-013c8a4a95f0",
   "metadata": {},
   "outputs": [],
   "source": [
    "# !wget wget -nc https://s3.us-east-1.wasabisys.com/melody/osse_data/ref/NATL60-CJM165_GULFSTREAM_ssh_y2013.1y.nc"
   ]
  },
  {
   "cell_type": "code",
   "execution_count": null,
   "id": "42199f63-a711-4d03-87b6-04fe0965e83d",
   "metadata": {},
   "outputs": [],
   "source": [
    "from pathlib import Path"
   ]
  },
  {
   "cell_type": "code",
   "execution_count": null,
   "id": "e2318451-c5c6-41a4-a3b7-c75316d3a37a",
   "metadata": {},
   "outputs": [],
   "source": [
    "Path(\n",
    "    \"/gpfswork/rech/cli/uvo53rl/projects/jejeqx/data/natl60/NATL60-CJM165_GULFSTREAM_ssh_y2013.1y.nc\"\n",
    ").is_file()"
   ]
  },
  {
   "cell_type": "code",
   "execution_count": null,
   "id": "b13a5d5d-1618-4813-9244-e5ac435996e3",
   "metadata": {},
   "outputs": [],
   "source": [
    "from dataclasses import dataclass, field\n",
    "from typing import List, Dict\n",
    "\n",
    "\n",
    "@dataclass\n",
    "class Subset:\n",
    "    _target_: str = \"builtins.slice\"\n",
    "    _args_: List = field(default_factory=lambda: [\"2013-01-01\", \"2013-01-01\"])\n",
    "\n",
    "\n",
    "@dataclass\n",
    "class SSHDM:\n",
    "    _target_: str = \"jejeqx._src.datamodules.coords.AlongTrackDM\"\n",
    "    batch_size: int = 10_000\n",
    "    shuffle: bool = False\n",
    "    train_size: float = 0.80\n",
    "    subset_size: float = 0.40\n",
    "    decode_times: bool = False\n",
    "    spatial_coords: List = field(default_factory=lambda: [\"lat\", \"lon\"])\n",
    "    temporal_coords: List = field(default_factory=lambda: [\"time\"])\n",
    "    variables: List = field(default_factory=lambda: [\"ssh\"])\n",
    "    paths: str = \"/gpfswork/rech/cli/uvo53rl/projects/jejeqx/data/natl60/NATL60-CJM165_GULFSTREAM_ssh_y2013*\"\n",
    "\n",
    "\n",
    "# spatial transform\n",
    "spatial_transforms = Pipeline(\n",
    "    [\n",
    "        (\"cartesian3d\", Spherical2Cartesian(radius=1.0, units=\"degrees\")),\n",
    "        (\"spatialminmax\", MinMaxDF([\"x\", \"y\", \"z\"], -1, 1)),\n",
    "    ]\n",
    ")\n",
    "\n",
    "temporal_transforms = Pipeline(\n",
    "    [\n",
    "        (\"timedelta\", TimeDelta(\"2012-10-01\", 1, \"s\")),\n",
    "        (\"timeminmax\", MinMaxDF([\"time\"], -1, 1)),\n",
    "    ]\n",
    ")"
   ]
  },
  {
   "cell_type": "code",
   "execution_count": null,
   "id": "891b679e-de15-4353-9ee0-b3c8d614b8be",
   "metadata": {},
   "outputs": [],
   "source": [
    "select = {\"time\": slice(\"2013-01-01\", \"2013-02-01\")}\n",
    "\n",
    "config_dm = OmegaConf.structured(SSHDM())\n",
    "\n",
    "dm = hydra.utils.instantiate(\n",
    "    config_dm,\n",
    "    select=select,\n",
    "    spatial_transform=spatial_transforms,\n",
    "    temporal_transform=temporal_transforms,\n",
    ")\n",
    "\n",
    "dm.setup()\n",
    "\n",
    "\n",
    "init = dm.ds_train[:32]\n",
    "x_init, t_init, y_init = init[\"spatial\"], init[\"temporal\"], init[\"data\"]\n",
    "x_init.min(), x_init.max(), x_init.shape, t_init.min(), t_init.max(), t_init.shape"
   ]
  },
  {
   "cell_type": "code",
   "execution_count": null,
   "id": "681d3b48-55da-4b7f-9523-ad45ba83d1ee",
   "metadata": {},
   "outputs": [],
   "source": [
    "xrda = dm.load_xrds()\n",
    "xrda"
   ]
  },
  {
   "cell_type": "code",
   "execution_count": null,
   "id": "01b18a4f-fc0b-417a-a364-ddf771086aea",
   "metadata": {},
   "outputs": [],
   "source": [
    "import jejeqx._src.transforms.xarray.geostrophic as geocalc\n",
    "import jejeqx._src.viz.geostrophic as geoplot\n",
    "from jejeqx._src.viz.utils import get_cbar_label"
   ]
  },
  {
   "cell_type": "markdown",
   "id": "8710b9f3-a3b3-46b3-8816-7b28f24ebebb",
   "metadata": {},
   "source": [
    "## Sea Surface Height"
   ]
  },
  {
   "cell_type": "markdown",
   "id": "5a4f1cb9-7af2-4d43-bf02-b258f663dd8e",
   "metadata": {},
   "source": [
    "$$\n",
    "\\begin{aligned}\n",
    "\\text{Sea Surface Height}[m]: && \n",
    "\\eta &=\\boldsymbol{\\eta}(\\vec{\\mathbf{x}},t) && && \n",
    "\\boldsymbol{\\eta}: \\boldsymbol{\\Omega}\\times\\boldsymbol{T}\\rightarrow\\mathbb{R}\n",
    "\\end{aligned}\n",
    "$$"
   ]
  },
  {
   "cell_type": "code",
   "execution_count": null,
   "id": "5025b459-84c2-44c0-b87e-cfaba919d933",
   "metadata": {},
   "outputs": [],
   "source": [
    "ds = geocalc.get_ssh_dataset(xrda.ssh)"
   ]
  },
  {
   "cell_type": "code",
   "execution_count": null,
   "id": "1fa1c324-d1b9-4778-a58d-a5f9b08c2d95",
   "metadata": {},
   "outputs": [],
   "source": [
    "cbar_kwargs = {\"label\": get_cbar_label(ds.ssh)}\n",
    "\n",
    "_ = geoplot.plot_colormap(\n",
    "    ds.ssh.isel(time=-1),\n",
    "    cmap=\"viridis\",\n",
    "    cbar_kwargs=cbar_kwargs,\n",
    ")"
   ]
  },
  {
   "cell_type": "markdown",
   "id": "0c8bc26f-d293-4a00-a6d2-845227caedc2",
   "metadata": {},
   "source": [
    "## Stream Function"
   ]
  },
  {
   "cell_type": "markdown",
   "id": "a1c6581a-bfdd-451d-99f3-ad69ffa71a1a",
   "metadata": {},
   "source": [
    "$$\n",
    "\\begin{aligned}\n",
    "\\text{Stream Function }[ms^{-1}]: && \n",
    "\\psi &=\\boldsymbol{\\psi}(\\vec{\\mathbf{x}},t) && && \n",
    "\\boldsymbol{\\psi}: \\boldsymbol{\\Omega}\\times\\boldsymbol{T}\\rightarrow\\mathbb{R}\n",
    "\\end{aligned}\n",
    "$$\n",
    "\n",
    "$$\n",
    "\\psi = \\frac{g}{f_0}\\eta\n",
    "$$"
   ]
  },
  {
   "cell_type": "code",
   "execution_count": null,
   "id": "2181df18-f8d3-49da-b3fb-19aab94c05a4",
   "metadata": {},
   "outputs": [],
   "source": [
    "ds = geocalc.calculate_streamfunction(ds, \"ssh\")"
   ]
  },
  {
   "cell_type": "code",
   "execution_count": null,
   "id": "06476231-b4d0-4b34-bd98-54035029068f",
   "metadata": {},
   "outputs": [],
   "source": [
    "cbar_kwargs = {\"label\": get_cbar_label(ds.psi)}\n",
    "\n",
    "_ = geoplot.plot_colormap(\n",
    "    ds.psi.isel(time=-1),\n",
    "    cmap=\"viridis\",\n",
    "    cbar_kwargs=cbar_kwargs,\n",
    ")"
   ]
  },
  {
   "cell_type": "markdown",
   "id": "39fbc773-1103-46b8-b4bb-a2c40484c2ca",
   "metadata": {},
   "source": [
    "## Velocities"
   ]
  },
  {
   "cell_type": "code",
   "execution_count": null,
   "id": "2fe66510-e6d2-4e54-919e-1847d5dbac87",
   "metadata": {},
   "outputs": [],
   "source": [
    "ds = geocalc.calculate_velocities_sf(ds, \"psi\")"
   ]
  },
  {
   "cell_type": "code",
   "execution_count": null,
   "id": "6a286f44-ac73-4785-bc4f-5939c7c95313",
   "metadata": {},
   "outputs": [],
   "source": [
    "cbar_kwargs = {\"label\": get_cbar_label(ds.u)}\n",
    "\n",
    "_ = geoplot.plot_colormap(\n",
    "    ds.u.isel(time=-1),\n",
    "    cmap=\"gray\",\n",
    "    cbar_kwargs=cbar_kwargs,\n",
    ")\n",
    "\n",
    "cbar_kwargs = {\"label\": get_cbar_label(ds.v)}\n",
    "\n",
    "_ = geoplot.plot_colormap(\n",
    "    ds.v.isel(time=-1),\n",
    "    cmap=\"gray\",\n",
    "    cbar_kwargs=cbar_kwargs,\n",
    ")"
   ]
  },
  {
   "cell_type": "markdown",
   "id": "99a17d11-d780-47e4-976d-f1bfd89e3c73",
   "metadata": {},
   "source": [
    "## Kinetic Energy"
   ]
  },
  {
   "cell_type": "markdown",
   "id": "4a323d5b-0ebb-4c2a-9c6c-c69ddb41c492",
   "metadata": {},
   "source": [
    "$$\n",
    "\\begin{aligned}\n",
    "E &= \\frac{1}{2}\\int \\mathbf{u}^2dr \\\\\n",
    "E &\\approx \\frac{1}{2} \\mathbb{E}\\left[ \\mathbf{u}^2\\right] \\\\\n",
    "&= \\frac{1}{2} \\mathbb{E}\\left[ u^2 + v^2\\right]\n",
    "\\end{aligned}\n",
    "$$"
   ]
  },
  {
   "cell_type": "code",
   "execution_count": null,
   "id": "c856ec4f-9081-4c32-bf32-4f396d9791a2",
   "metadata": {},
   "outputs": [],
   "source": [
    "ds = geocalc.calculate_kinetic_energy(ds, [\"u\", \"v\"])"
   ]
  },
  {
   "cell_type": "code",
   "execution_count": null,
   "id": "bc42985c-ca00-48a2-952a-e38159f03975",
   "metadata": {},
   "outputs": [],
   "source": [
    "cbar_kwargs = {\"label\": get_cbar_label(ds.ke)}\n",
    "\n",
    "_ = geoplot.plot_colormap(\n",
    "    ds.ke.isel(time=-1),\n",
    "    cmap=\"YlGnBu_r\",\n",
    "    cbar_kwargs=cbar_kwargs,\n",
    ")"
   ]
  },
  {
   "cell_type": "markdown",
   "id": "c06e1401-49fb-4c15-a7f7-29f6c0686198",
   "metadata": {},
   "source": [
    "## Relative Vorticity"
   ]
  },
  {
   "cell_type": "markdown",
   "id": "1ae85b6b-0ae9-4885-a8e8-4cbade2c82d8",
   "metadata": {},
   "source": [
    "Somtimes called the *vertical vorticity*.\n",
    "\n",
    "\n",
    "\n",
    "$$\n",
    "\\zeta = \\frac{\\partial v}{\\partial x} - \\frac{\\partial u}{\\partial y}\n",
    "$$\n",
    "\n",
    "Note that the u,v velocities can be calculated from the stream function as\n",
    "\n",
    "$$\n",
    "\\begin{aligned}\n",
    "u &= -\\frac{\\partial \\psi}{\\partial y} && &&\n",
    "v = \\frac{\\partial \\psi}{\\partial x}\\\\\n",
    "\\end{aligned}\n",
    "$$\n",
    "\n",
    "So plugging these into the equation, we get:\n",
    "\n",
    "$$\n",
    "\\begin{aligned}\n",
    "\\zeta &= \n",
    "\\frac{\\partial}{\\partial x}\\left(\\frac{\\partial \\psi}{\\partial x}\\right) - \n",
    "\\frac{\\partial}{\\partial y}\\left( -\\frac{\\partial \\psi}{\\partial y}\\right) \\\\\n",
    "\\zeta &= \n",
    "\\frac{\\partial^2 \\psi}{\\partial x^2}+ \\frac{\\partial^2 \\psi}{\\partial y^2}\\\\\n",
    "\\zeta &=\\nabla^2\\psi\n",
    "\\end{aligned}\n",
    "$$\n",
    "\n",
    "We can also calculate a normalized version\n",
    "\n",
    "$$\n",
    "\\bar{\\zeta} = \\frac{\\zeta}{f_0}\n",
    "$$\n",
    "\n",
    "Note: This is closely related to the geostrophic eqns:\n",
    "\n",
    "$$\n",
    "\\begin{aligned}\n",
    "\\text{Relative Vorticity }[s^{-1}]: && \n",
    "\\zeta &=\\boldsymbol{\\zeta}(\\vec{\\mathbf{x}},t) && && \n",
    "\\boldsymbol{\\xi}: \\boldsymbol{\\Omega}\\times\\boldsymbol{T}\\rightarrow\\mathbb{R}\n",
    "\\end{aligned}\n",
    "$$\n",
    "\n",
    "$$\n",
    "\\zeta = \\nabla^2\\psi\n",
    "$$\n"
   ]
  },
  {
   "cell_type": "code",
   "execution_count": null,
   "id": "5e64e814-bb85-463a-ab1e-7baea5730dcc",
   "metadata": {},
   "outputs": [],
   "source": [
    "ds = geocalc.calculate_relative_vorticity_uv(ds, [\"u\", \"v\"], normalized=True)"
   ]
  },
  {
   "cell_type": "code",
   "execution_count": null,
   "id": "b267996f-da8c-4c0f-8f77-6ee5d1581a93",
   "metadata": {},
   "outputs": [],
   "source": [
    "cbar_kwargs = {\"label\": get_cbar_label(ds.vort_r)}\n",
    "\n",
    "_ = geoplot.plot_colormap(\n",
    "    ds.vort_r.isel(time=-1),\n",
    "    cmap=\"RdBu_r\",\n",
    "    cbar_kwargs=cbar_kwargs,\n",
    ")"
   ]
  },
  {
   "cell_type": "markdown",
   "id": "4bba6fce-d1c2-4652-8854-c8809ddf1213",
   "metadata": {},
   "source": [
    "## Absolute Vorticity"
   ]
  },
  {
   "cell_type": "markdown",
   "id": "24a2f5f6-c34b-4e54-80d2-d0b5c5559864",
   "metadata": {},
   "source": [
    "Somtimes called the *horizontal divergence*.\n",
    "\n",
    "\n",
    "\n",
    "$$\n",
    "\\zeta = \\frac{\\partial v}{\\partial x} + \\frac{\\partial u}{\\partial y}\n",
    "$$\n",
    "\n",
    "Note that the u,v velocities can be calculated from the stream function as\n",
    "\n",
    "$$\n",
    "\\begin{aligned}\n",
    "u &= -\\frac{\\partial \\psi}{\\partial y} && &&\n",
    "v = \\frac{\\partial \\psi}{\\partial x}\\\\\n",
    "\\end{aligned}\n",
    "$$\n",
    "\n",
    "So plugging these into the equation, we get:\n",
    "\n",
    "$$\n",
    "\\begin{aligned}\n",
    "\\zeta &= \n",
    "\\frac{\\partial}{\\partial x}\\left(\\frac{\\partial \\psi}{\\partial x}\\right) + \n",
    "\\frac{\\partial}{\\partial y}\\left( -\\frac{\\partial \\psi}{\\partial y}\\right) \\\\\n",
    "\\zeta &= \n",
    "\\frac{\\partial^2 \\psi}{\\partial x^2} - \\frac{\\partial^2 \\psi}{\\partial y^2}\n",
    "\\end{aligned}\n",
    "$$\n",
    "\n",
    "We can also calculate a normalized version\n",
    "\n",
    "$$\n",
    "\\bar{\\zeta} = \\frac{\\zeta}{f_0}\n",
    "$$"
   ]
  },
  {
   "cell_type": "code",
   "execution_count": null,
   "id": "7e7bbdfc-dc4e-4fa9-9e5c-286bf6048082",
   "metadata": {},
   "outputs": [],
   "source": [
    "ds = geocalc.calculate_absolute_vorticity_uv(ds, [\"u\", \"v\"], normalized=True)"
   ]
  },
  {
   "cell_type": "code",
   "execution_count": null,
   "id": "3ae0aa4d-eb51-4bba-953c-44a3313a7eba",
   "metadata": {},
   "outputs": [],
   "source": [
    "cbar_kwargs = {\"label\": get_cbar_label(ds.vort_a)}\n",
    "\n",
    "_ = geoplot.plot_colormap(\n",
    "    ds.vort_a.isel(time=-1),\n",
    "    cmap=\"RdBu_r\",\n",
    "    cbar_kwargs=cbar_kwargs,\n",
    ")"
   ]
  },
  {
   "cell_type": "markdown",
   "id": "f8ae2f3f-0099-42ba-87f7-641c4cac5cf2",
   "metadata": {},
   "source": [
    "## Enstropy"
   ]
  },
  {
   "cell_type": "markdown",
   "id": "ee1f51f1-252a-471f-b2f7-6c3f23cf8cee",
   "metadata": {},
   "source": [
    "This is a summarization of the relative vorticity\n",
    "\n",
    "$$\n",
    "\\begin{aligned}\n",
    "Z &= \\frac{1}{2}\\int \\zeta^2 dr \\\\\n",
    "Z &\\approx \\frac{1}{2} \\mathbb{E}\\left[ \\zeta^2 \\right] \\\\\n",
    "\\end{aligned}\n",
    "$$"
   ]
  },
  {
   "cell_type": "code",
   "execution_count": null,
   "id": "4f00c063-5e2d-4a21-9ed9-c7b9faf5070f",
   "metadata": {},
   "outputs": [],
   "source": [
    "ds = geocalc.calculate_relative_vorticity_uv(ds, [\"u\", \"v\"], normalized=False)\n",
    "ds = geocalc.calculate_enstropy(ds, \"vort_r\")"
   ]
  },
  {
   "cell_type": "code",
   "execution_count": null,
   "id": "e82f6585-04eb-4e35-8f09-2b3ff9f4aa4c",
   "metadata": {},
   "outputs": [],
   "source": [
    "cbar_kwargs = {\"label\": get_cbar_label(ds.ens)}\n",
    "\n",
    "_ = geoplot.plot_colormap(\n",
    "    ds.ens.isel(time=-1),\n",
    "    cmap=\"RdBu_r\",\n",
    "    cbar_kwargs=cbar_kwargs,\n",
    ")"
   ]
  },
  {
   "cell_type": "markdown",
   "id": "2700b96a-7aa7-4018-882b-ff901a970da1",
   "metadata": {},
   "source": [
    "## Strain \n",
    "\n",
    "We have the normal strain\n",
    "\n",
    "\n",
    "$$\n",
    "\\sigma_n = \\frac{\\partial u}{\\partial x} - \\frac{\\partial v}{\\partial y}\n",
    "$$\n",
    "\n",
    "We also have the shear strain given by:\n",
    "\n",
    "$$\n",
    "\\sigma_s = \\frac{\\partial v}{\\partial x} + \\frac{\\partial u}{\\partial y}\n",
    "$$\n",
    "\n",
    "Often, we are interested in the strain magnitude give by:\n",
    "\n",
    "$$\n",
    "\\sigma = \\sqrt{\\sigma_n^2 + \\sigma_s^2}\n",
    "$$\n",
    "\n",
    "The normal and shear strains are coordinate invariant.\n",
    "The vorticity and divergence and strain magnitude is coordinate invariant!\n",
    "\n",
    "Often times, we use the relative strain magnitude:\n",
    "\n",
    "$$\n",
    "\\bar{\\sigma} = \\frac{\\sigma}{f_0}\n",
    "$$"
   ]
  },
  {
   "cell_type": "code",
   "execution_count": null,
   "id": "f1f35aa3-b487-4eb5-b150-a1f27d7ffa6f",
   "metadata": {},
   "outputs": [],
   "source": [
    "ds = geocalc.calculate_strain_magnitude(ds, [\"u\", \"v\"], normalized=True)"
   ]
  },
  {
   "cell_type": "code",
   "execution_count": null,
   "id": "2083d98f-54b8-4d58-b223-af916c8a2e43",
   "metadata": {},
   "outputs": [],
   "source": [
    "import cmocean as cmo\n",
    "\n",
    "cbar_kwargs = {\"label\": get_cbar_label(ds.strain)}\n",
    "\n",
    "_ = geoplot.plot_colormap(\n",
    "    ds.strain.isel(time=-1),\n",
    "    cmap=cmo.cm.speed,\n",
    "    robust=False,  # cmap=\"cmo.thermal\",\n",
    "    cbar_kwargs=cbar_kwargs,\n",
    ")"
   ]
  },
  {
   "cell_type": "markdown",
   "id": "bac401a7-bbf8-493d-9d3c-23650177e5a2",
   "metadata": {},
   "source": [
    "## Okubo-Weiss Parameter"
   ]
  },
  {
   "cell_type": "markdown",
   "id": "7e9b52a2-17a0-4582-972f-1fc781a053ea",
   "metadata": {},
   "source": [
    "> OW parameter [Okubo, 1970; Weiss, 1991] describes the relative dominance of deformation with respect to rotation of the flow.\n",
    "\n",
    "This is a combination of the Strain (deformation rate) and the vorticity\n",
    "\n",
    "$$\n",
    "\\sigma_o = \\sigma_n^2 + \\sigma_s^2 - \\zeta^2\n",
    "$$\n",
    "\n",
    "where:\n",
    "\n",
    "$$\n",
    "\\begin{aligned}\n",
    "\\text{Normal Strain}: && &&\n",
    "\\sigma_n &= \\frac{\\partial u}{\\partial x} - \\frac{\\partial v}{\\partial y} \\\\\n",
    "\\text{Shear Strain}: && &&\n",
    "\\sigma_s &= \\frac{\\partial v}{\\partial x} + \\frac{\\partial u}{\\partial y} \\\\\n",
    "\\text{Relative Vorticity}: && &&\n",
    "\\zeta &= \\frac{\\partial v}{\\partial x} - \\frac{\\partial u}{\\partial y}\n",
    "\\end{aligned}\n",
    "$$\n",
    "\n",
    "**Sources**:\n",
    "\n",
    "* [Wiki](https://en.wikipedia.org/wiki/Okubo%E2%80%93Weiss_parameter)\n",
    "* [Paper](https://agupubs.onlinelibrary.wiley.com/doi/full/10.1002/jgrc.20318)"
   ]
  },
  {
   "cell_type": "code",
   "execution_count": null,
   "id": "ccb6c773-1714-4307-8cd5-a3f6678cb508",
   "metadata": {},
   "outputs": [],
   "source": [
    "ds = geocalc.calculate_okubo_weiss(ds, [\"u\", \"v\"], normalized=True)"
   ]
  },
  {
   "cell_type": "code",
   "execution_count": null,
   "id": "af659ff2-de46-4bfd-9375-ab45bb66dc3a",
   "metadata": {},
   "outputs": [],
   "source": [
    "ow_std = np.std(ds.ow)\n",
    "ow_threshhold = 0.2 * ow_std"
   ]
  },
  {
   "cell_type": "code",
   "execution_count": null,
   "id": "c04cdd9b-bb3b-4fae-8fda-7e7c6cb8dd7c",
   "metadata": {},
   "outputs": [],
   "source": [
    "levels = [-ow_threshhold.data.magnitude, ow_threshhold.data.magnitude]\n",
    "levels, ds.ow.min(), ds.ow.max()"
   ]
  },
  {
   "cell_type": "code",
   "execution_count": null,
   "id": "3376d2fe-8134-43c9-afdd-26142b18b83d",
   "metadata": {},
   "outputs": [],
   "source": [
    "import cmocean as cmo\n",
    "\n",
    "cbar_kwargs = {\"label\": get_cbar_label(ds.ow)}\n",
    "\n",
    "fig, ax = plt.subplots()\n",
    "\n",
    "ds.ow.isel(time=-1).plot.contourf(\n",
    "    ax=ax, cmap=\"cividis\", levels=levels, cbar_kwargs=cbar_kwargs\n",
    ")\n",
    "\n",
    "plt.tight_layout()\n",
    "plt.show()"
   ]
  },
  {
   "cell_type": "code",
   "execution_count": null,
   "id": "41f93635-133e-49ae-839f-ae4fcb225f9a",
   "metadata": {},
   "outputs": [],
   "source": []
  }
 ],
 "metadata": {
  "kernelspec": {
   "display_name": "Python [conda env:miniconda3-jejeqx]",
   "language": "python",
   "name": "conda-env-miniconda3-jejeqx-py"
  },
  "language_info": {
   "codemirror_mode": {
    "name": "ipython",
    "version": 3
   },
   "file_extension": ".py",
   "mimetype": "text/x-python",
   "name": "python",
   "nbconvert_exporter": "python",
   "pygments_lexer": "ipython3",
   "version": "3.10.10"
  }
 },
 "nbformat": 4,
 "nbformat_minor": 5
}
